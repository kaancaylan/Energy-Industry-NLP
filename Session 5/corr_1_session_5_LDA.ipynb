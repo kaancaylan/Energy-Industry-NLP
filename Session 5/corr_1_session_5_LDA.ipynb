{
  "cells": [
    {
      "cell_type": "markdown",
      "metadata": {
        "id": "Rjn3PExJLW8T"
      },
      "source": [
        "# XHEC - Session 5-1\n",
        "\n",
        "\n",
        "-----------------\n",
        "\n",
        "## Topic Extraction : LDA Implementation  "
      ]
    },
    {
      "cell_type": "markdown",
      "metadata": {
        "id": "W_WXxxh1LW8X"
      },
      "source": [
        "In this session we will build an LDA from scratch"
      ]
    },
    {
      "cell_type": "markdown",
      "metadata": {
        "id": "BSJQm0G1LW8Y"
      },
      "source": [
        "### Import libraries "
      ]
    },
    {
      "cell_type": "code",
      "execution_count": 28,
      "metadata": {
        "id": "_SKho6RwLW8Y"
      },
      "outputs": [],
      "source": [
        "import os\n",
        "import pandas as pd\n",
        "import numpy as np\n",
        "import itertools\n",
        "import random"
      ]
    },
    {
      "cell_type": "markdown",
      "metadata": {
        "id": "MDweMCGQLW8a"
      },
      "source": [
        "### Create documents "
      ]
    },
    {
      "cell_type": "code",
      "execution_count": 29,
      "metadata": {
        "id": "hR0-IvHgLW8a"
      },
      "outputs": [],
      "source": [
        "rawdocs = ['eat turkey on turkey day holiday',\n",
        "           'i like to eat cake on holiday',\n",
        "           'turkey trot race on thanksgiving holiday',\n",
        "           'snail race the turtle',\n",
        "           'time travel space race',\n",
        "           'movie on thanksgiving',\n",
        "           'movie at air and space museum is cool movie',\n",
        "           'aspiring movie star']\n",
        "\n",
        "rawdocs = list(map(lambda x: x.split(), rawdocs)) #Split by whitespace"
      ]
    },
    {
      "cell_type": "code",
      "execution_count": 30,
      "metadata": {
        "colab": {
          "base_uri": "https://localhost:8080/"
        },
        "id": "dzkJ1XYmLW8b",
        "outputId": "6dca65e5-f80a-464c-9fdc-e119cf3e8f5f"
      },
      "outputs": [
        {
          "data": {
            "text/plain": [
              "[['eat', 'turkey', 'on', 'turkey', 'day', 'holiday'],\n",
              " ['i', 'like', 'to', 'eat', 'cake', 'on', 'holiday'],\n",
              " ['turkey', 'trot', 'race', 'on', 'thanksgiving', 'holiday'],\n",
              " ['snail', 'race', 'the', 'turtle'],\n",
              " ['time', 'travel', 'space', 'race'],\n",
              " ['movie', 'on', 'thanksgiving'],\n",
              " ['movie', 'at', 'air', 'and', 'space', 'museum', 'is', 'cool', 'movie'],\n",
              " ['aspiring', 'movie', 'star']]"
            ]
          },
          "execution_count": 30,
          "metadata": {},
          "output_type": "execute_result"
        }
      ],
      "source": [
        "rawdocs"
      ]
    },
    {
      "cell_type": "markdown",
      "metadata": {
        "id": "JrWUkZA-LW8c"
      },
      "source": [
        "### Set parameters"
      ]
    },
    {
      "cell_type": "code",
      "execution_count": 31,
      "metadata": {
        "id": "V3U26nZnLW8c"
      },
      "outputs": [],
      "source": [
        "K = 2 #Number of topic\n",
        "alpha = 0.1 #Hyperparameter alpha\n",
        "eta = 0.1 #Hyperparameter eta\n",
        "iterationNb = 3 #Number of iterations"
      ]
    },
    {
      "cell_type": "markdown",
      "metadata": {
        "id": "HoY5sMADLW8d"
      },
      "source": [
        "### Convert to a numerical problem "
      ]
    },
    {
      "cell_type": "code",
      "execution_count": 32,
      "metadata": {
        "id": "8h8-A19aLW8d"
      },
      "outputs": [],
      "source": [
        "#Create a dictionnary {id: word}\n",
        "vocab = np.unique(list(itertools.chain.from_iterable(rawdocs)))\n",
        "vocab = {k: v for v, k in enumerate(vocab)}"
      ]
    },
    {
      "cell_type": "code",
      "execution_count": 6,
      "metadata": {
        "colab": {
          "base_uri": "https://localhost:8080/"
        },
        "id": "isPDl6VoLW8d",
        "outputId": "7484b2bb-44cf-4371-c13a-085ac0e4d352"
      },
      "outputs": [
        {
          "data": {
            "text/plain": [
              "{'air': 0,\n",
              " 'and': 1,\n",
              " 'aspiring': 2,\n",
              " 'at': 3,\n",
              " 'cake': 4,\n",
              " 'cool': 5,\n",
              " 'day': 6,\n",
              " 'eat': 7,\n",
              " 'holiday': 8,\n",
              " 'i': 9,\n",
              " 'is': 10,\n",
              " 'like': 11,\n",
              " 'movie': 12,\n",
              " 'museum': 13,\n",
              " 'on': 14,\n",
              " 'race': 15,\n",
              " 'snail': 16,\n",
              " 'space': 17,\n",
              " 'star': 18,\n",
              " 'thanksgiving': 19,\n",
              " 'the': 20,\n",
              " 'time': 21,\n",
              " 'to': 22,\n",
              " 'travel': 23,\n",
              " 'trot': 24,\n",
              " 'turkey': 25,\n",
              " 'turtle': 26}"
            ]
          },
          "execution_count": 6,
          "metadata": {},
          "output_type": "execute_result"
        }
      ],
      "source": [
        "vocab"
      ]
    },
    {
      "cell_type": "code",
      "execution_count": 33,
      "metadata": {
        "id": "fSnxUieZLW8e"
      },
      "outputs": [],
      "source": [
        "#Swap word for id in each document\n",
        "document = [list(map(lambda x: vocab[x], doc)) for doc in rawdocs]"
      ]
    },
    {
      "cell_type": "code",
      "execution_count": 34,
      "metadata": {
        "colab": {
          "base_uri": "https://localhost:8080/"
        },
        "id": "Z_VsANXMLW8e",
        "outputId": "07480965-30dc-4ab6-9eb8-8ef8aae2d9e1"
      },
      "outputs": [
        {
          "data": {
            "text/plain": [
              "[[7, 25, 14, 25, 6, 8],\n",
              " [9, 11, 22, 7, 4, 14, 8],\n",
              " [25, 24, 15, 14, 19, 8],\n",
              " [16, 15, 20, 26],\n",
              " [21, 23, 17, 15],\n",
              " [12, 14, 19],\n",
              " [12, 3, 0, 1, 17, 13, 10, 5, 12],\n",
              " [2, 12, 18]]"
            ]
          },
          "execution_count": 34,
          "metadata": {},
          "output_type": "execute_result"
        }
      ],
      "source": [
        "document"
      ]
    },
    {
      "cell_type": "markdown",
      "metadata": {
        "id": "nE3_84PzLW8e"
      },
      "source": [
        "### Create the topic-word matrix"
      ]
    },
    {
      "cell_type": "code",
      "execution_count": 35,
      "metadata": {
        "id": "yT6SIxoFLW8f"
      },
      "outputs": [],
      "source": [
        "def initialiseWordTopicMatrix(vocab, document, K):\n",
        "    #Initialise the word-topic count matrix\n",
        "    TopicWordMatrix = np.zeros((K, len(vocab)))\n",
        "    #Randomly assign topic for each word in each document\n",
        "    topicAssignmentList = [[random.randint(0,K-1) for i in range(len(doc))] for doc in document]\n",
        "\n",
        "    for iDoc, doc in enumerate(document): #For all document\n",
        "        for iToken, wordId in enumerate(doc): #For all token\n",
        "            #Find the topic of the given token\n",
        "            tokenTopic =  topicAssignmentList[iDoc][iToken]\n",
        "            #Update the wordTopicMatrix\n",
        "            TopicWordMatrix[tokenTopic][wordId] += 1\n",
        "    return TopicWordMatrix, topicAssignmentList"
      ]
    },
    {
      "cell_type": "code",
      "execution_count": 36,
      "metadata": {
        "id": "C69DTSlZLW8f"
      },
      "outputs": [],
      "source": [
        "TopicWordMatrix, topicAssignmentList = initialiseWordTopicMatrix(vocab, document, K)"
      ]
    },
    {
      "cell_type": "code",
      "execution_count": 37,
      "metadata": {
        "colab": {
          "base_uri": "https://localhost:8080/"
        },
        "id": "Q4iWUkheLW8f",
        "outputId": "36627ee0-8656-43cd-b759-3fd085d50caa"
      },
      "outputs": [
        {
          "data": {
            "text/plain": [
              "(array([[0., 1., 1., 1., 1., 0., 1., 2., 1., 0., 1., 1., 2., 1., 1., 2.,\n",
              "         1., 0., 0., 0., 0., 1., 1., 1., 1., 1., 1.],\n",
              "        [1., 0., 0., 0., 0., 1., 0., 0., 2., 1., 0., 0., 2., 0., 3., 1.,\n",
              "         0., 2., 1., 2., 1., 0., 0., 0., 0., 2., 0.]]),\n",
              " (2, 27))"
            ]
          },
          "execution_count": 37,
          "metadata": {},
          "output_type": "execute_result"
        }
      ],
      "source": [
        "TopicWordMatrix, TopicWordMatrix.shape  "
      ]
    },
    {
      "cell_type": "code",
      "execution_count": 38,
      "metadata": {
        "colab": {
          "base_uri": "https://localhost:8080/"
        },
        "id": "9e3oJ3VpLW8g",
        "outputId": "a8945445-fa77-409a-c0b0-d33a63f59660"
      },
      "outputs": [
        {
          "data": {
            "text/plain": [
              "[[0, 1, 0, 1, 0, 0],\n",
              " [1, 0, 0, 0, 0, 1, 1],\n",
              " [0, 0, 1, 1, 1, 1],\n",
              " [0, 0, 1, 0],\n",
              " [0, 0, 1, 0],\n",
              " [1, 1, 1],\n",
              " [0, 0, 1, 0, 1, 0, 0, 1, 1],\n",
              " [0, 0, 1]]"
            ]
          },
          "execution_count": 38,
          "metadata": {},
          "output_type": "execute_result"
        }
      ],
      "source": [
        "topicAssignmentList"
      ]
    },
    {
      "cell_type": "markdown",
      "metadata": {
        "id": "VFv-up0bLW8g"
      },
      "source": [
        "### Create the document-topic matrix "
      ]
    },
    {
      "cell_type": "code",
      "execution_count": 39,
      "metadata": {
        "id": "6W6tzpxrLW8g"
      },
      "outputs": [],
      "source": [
        "def initialiseDocumentTopicMatrix(topicAssignmentList, document):\n",
        "    documentTopicMatrix = np.zeros((len(document), K))\n",
        "    for iDoc in range(len(document)):\n",
        "        for iTopic in range(K):\n",
        "            #Update document matrix topic according to topicAssignmentList\n",
        "            documentTopicMatrix[iDoc][iTopic] = topicAssignmentList[iDoc].count(iTopic)\n",
        "    return documentTopicMatrix"
      ]
    },
    {
      "cell_type": "code",
      "execution_count": 40,
      "metadata": {
        "id": "cFY7h2gOLW8g"
      },
      "outputs": [],
      "source": [
        "documentTopicMatrix = initialiseDocumentTopicMatrix(topicAssignmentList, document)"
      ]
    },
    {
      "cell_type": "code",
      "execution_count": 41,
      "metadata": {
        "colab": {
          "base_uri": "https://localhost:8080/"
        },
        "id": "qRPa82wpLW8h",
        "outputId": "e13e07cf-6d4c-4da6-cfa1-2fd00443a77f"
      },
      "outputs": [
        {
          "data": {
            "text/plain": [
              "array([[4., 2.],\n",
              "       [4., 3.],\n",
              "       [2., 4.],\n",
              "       [3., 1.],\n",
              "       [3., 1.],\n",
              "       [0., 3.],\n",
              "       [5., 4.],\n",
              "       [2., 1.]])"
            ]
          },
          "execution_count": 41,
          "metadata": {},
          "output_type": "execute_result"
        }
      ],
      "source": [
        "documentTopicMatrix"
      ]
    },
    {
      "cell_type": "markdown",
      "metadata": {
        "id": "VzFLFUkzLW8h"
      },
      "source": [
        "### LDA iterations "
      ]
    },
    {
      "cell_type": "code",
      "execution_count": 42,
      "metadata": {
        "id": "O8ofRiRhLW8h"
      },
      "outputs": [],
      "source": [
        "def ldaModel(K, alpha, eta, iterationNb, document, vocab, TopicWordMatrix, topicAssignmentList, documentTopicMatrix):\n",
        "    #For each iteration\n",
        "    for i in range(iterationNb):\n",
        "        #For each document\n",
        "        for iDoc, doc in enumerate(document):\n",
        "            #For each word in the document\n",
        "            for iToken, wordId in enumerate(doc):\n",
        "                #Initial topic for the token\n",
        "                oldTopic = topicAssignmentList[iDoc][iToken]\n",
        "\n",
        "                #Focus of the i-th Token - decrement in the matrices\n",
        "                documentTopicMatrix[iDoc][oldTopic] -= 1\n",
        "                TopicWordMatrix[oldTopic][wordId] -= 1\n",
        "                \n",
        "                #Gibbs-Sampling\n",
        "                weight = []\n",
        "                for iTopic in range(K):\n",
        "                    #A term\n",
        "                    num_a = topicAssignmentList[iDoc].count(iTopic)+alpha\n",
        "                    denom_a = len(vocab)-1+alpha\n",
        "                    #B term\n",
        "                    num_b = TopicWordMatrix[iTopic][wordId] + eta\n",
        "                    denom_b = TopicWordMatrix.sum(axis=0)[K]+eta\n",
        "                    #Proba\n",
        "                    weight.append((num_a/denom_a)*(num_b/denom_b))\n",
        "                \n",
        "                #Draw topic - multinomial distribution\n",
        "                newTopic = random.choices(range(K), weights = weight, k = 1)[0]\n",
        "                #Re-assign topic\n",
        "                documentTopicMatrix[iDoc][newTopic] += 1\n",
        "                TopicWordMatrix[newTopic][wordId] += 1\n",
        "                topicAssignmentList[iDoc][iToken] = newTopic\n",
        "    #Normalize matrix\n",
        "    documentTopicMatrix = ((documentTopicMatrix+alpha).T/(documentTopicMatrix+alpha).sum(axis=1)).T\n",
        "    TopicWordMatrix = ((TopicWordMatrix+alpha).T/(TopicWordMatrix+alpha).sum(axis=1)).T\n",
        "    return documentTopicMatrix, TopicWordMatrix, topicAssignmentList\n"
      ]
    },
    {
      "cell_type": "code",
      "execution_count": 43,
      "metadata": {
        "id": "90RLhhOPLW8h"
      },
      "outputs": [],
      "source": [
        "documentTopicMatrixUpdate, TopicWordMatrixUpdate, topicAssignmentListUpdate = ldaModel(K, alpha, eta, iterationNb, document, vocab, TopicWordMatrix, topicAssignmentList, documentTopicMatrix)\n"
      ]
    },
    {
      "cell_type": "code",
      "execution_count": 44,
      "metadata": {
        "colab": {
          "base_uri": "https://localhost:8080/"
        },
        "id": "M7rOXy9fLW8i",
        "outputId": "7f2aac92-d276-4dd8-ff67-bf4426c96f71"
      },
      "outputs": [
        {
          "data": {
            "text/plain": [
              "(array([[0.17741935, 0.82258065],\n",
              "        [0.01388889, 0.98611111],\n",
              "        [0.01612903, 0.98387097],\n",
              "        [0.97619048, 0.02380952],\n",
              "        [0.02380952, 0.97619048],\n",
              "        [0.34375   , 0.65625   ],\n",
              "        [0.88043478, 0.11956522],\n",
              "        [0.03125   , 0.96875   ]]),\n",
              " (8, 2))"
            ]
          },
          "execution_count": 44,
          "metadata": {},
          "output_type": "execute_result"
        }
      ],
      "source": [
        "documentTopicMatrixUpdate, documentTopicMatrixUpdate.shape  "
      ]
    },
    {
      "cell_type": "code",
      "execution_count": 45,
      "metadata": {
        "colab": {
          "base_uri": "https://localhost:8080/"
        },
        "id": "ljok2UeELW8i",
        "outputId": "02dadcb9-531a-4a40-a9cc-ae3c9284bde0"
      },
      "outputs": [
        {
          "data": {
            "text/plain": [
              "(array([[0.06586826, 0.06586826, 0.00598802, 0.06586826, 0.00598802,\n",
              "         0.06586826, 0.00598802, 0.06586826, 0.00598802, 0.00598802,\n",
              "         0.06586826, 0.00598802, 0.18562874, 0.00598802, 0.00598802,\n",
              "         0.06586826, 0.06586826, 0.06586826, 0.00598802, 0.00598802,\n",
              "         0.06586826, 0.00598802, 0.00598802, 0.00598802, 0.00598802,\n",
              "         0.00598802, 0.06586826],\n",
              "        [0.00325733, 0.00325733, 0.03583062, 0.00325733, 0.03583062,\n",
              "         0.00325733, 0.03583062, 0.03583062, 0.1009772 , 0.03583062,\n",
              "         0.00325733, 0.03583062, 0.03583062, 0.03583062, 0.13355049,\n",
              "         0.06840391, 0.00325733, 0.03583062, 0.03583062, 0.06840391,\n",
              "         0.00325733, 0.03583062, 0.03583062, 0.03583062, 0.03583062,\n",
              "         0.1009772 , 0.00325733]]),\n",
              " (2, 27))"
            ]
          },
          "execution_count": 45,
          "metadata": {},
          "output_type": "execute_result"
        }
      ],
      "source": [
        "TopicWordMatrixUpdate, TopicWordMatrixUpdate.shape "
      ]
    },
    {
      "cell_type": "code",
      "execution_count": 46,
      "metadata": {
        "colab": {
          "base_uri": "https://localhost:8080/"
        },
        "id": "-NkdEgv6LW8i",
        "outputId": "6794a52a-9848-43a6-bc60-1bbc16b9b254"
      },
      "outputs": [
        {
          "data": {
            "text/plain": [
              "[[0, 1, 1, 1, 1, 1],\n",
              " [1, 1, 1, 1, 1, 1, 1],\n",
              " [1, 1, 1, 1, 1, 1],\n",
              " [0, 0, 0, 0],\n",
              " [1, 1, 1, 1],\n",
              " [0, 1, 1],\n",
              " [0, 0, 0, 0, 0, 1, 0, 0, 0],\n",
              " [1, 1, 1]]"
            ]
          },
          "execution_count": 46,
          "metadata": {},
          "output_type": "execute_result"
        }
      ],
      "source": [
        "topicAssignmentListUpdate"
      ]
    },
    {
      "cell_type": "markdown",
      "metadata": {
        "id": "bvSSRPnlLW8j"
      },
      "source": [
        "### Show topic "
      ]
    },
    {
      "cell_type": "code",
      "execution_count": 47,
      "metadata": {
        "id": "VDXsloU9LW8j"
      },
      "outputs": [],
      "source": [
        "def displayTopic(TopicWordMatrixUpdate, vocab, nb_word):\n",
        "    vocab = {v: k for k, v in vocab.items()} #Swap id and value to have a dict {id: \"word\"}\n",
        "    for topicNb, wordPerTopic in enumerate(TopicWordMatrixUpdate):\n",
        "        print(f\"\\n>>> Topic {topicNb}\")\n",
        "        TopicWordMatrixSeries = pd.Series(wordPerTopic).sort_values(ascending=False) \n",
        "        wordIds = TopicWordMatrixSeries.index\n",
        "        topicToString = []\n",
        "        for i in range(nb_word):\n",
        "            topicToString.append(f\"{vocab[wordIds[i]]}*{round(TopicWordMatrixSeries[wordIds[i]],2)}\")\n",
        "        print('+'.join(topicToString))"
      ]
    },
    {
      "cell_type": "code",
      "execution_count": 48,
      "metadata": {
        "colab": {
          "base_uri": "https://localhost:8080/"
        },
        "id": "9DAkN9eCLW8j",
        "outputId": "83b0ab25-8222-414d-91f8-92257e610903"
      },
      "outputs": [
        {
          "name": "stdout",
          "output_type": "stream",
          "text": [
            "\n",
            ">>> Topic 0\n",
            "movie*0.19+air*0.07+is*0.07+the*0.07+space*0.07+snail*0.07\n",
            "\n",
            ">>> Topic 1\n",
            "on*0.13+turkey*0.1+holiday*0.1+thanksgiving*0.07+race*0.07+like*0.04\n"
          ]
        }
      ],
      "source": [
        "displayTopic(TopicWordMatrixUpdate, vocab, 6)"
      ]
    }
  ],
  "metadata": {
    "colab": {
      "provenance": []
    },
    "kernelspec": {
      "display_name": "Python 3",
      "language": "python",
      "name": "python3"
    },
    "language_info": {
      "codemirror_mode": {
        "name": "ipython",
        "version": 3
      },
      "file_extension": ".py",
      "mimetype": "text/x-python",
      "name": "python",
      "nbconvert_exporter": "python",
      "pygments_lexer": "ipython3",
      "version": "3.9.12"
    },
    "toc": {
      "base_numbering": 1,
      "nav_menu": {},
      "number_sections": true,
      "sideBar": true,
      "skip_h1_title": false,
      "title_cell": "Table of Contents",
      "title_sidebar": "Contents",
      "toc_cell": false,
      "toc_position": {},
      "toc_section_display": true,
      "toc_window_display": false
    },
    "vscode": {
      "interpreter": {
        "hash": "a2ab3825ac7005fb7b26f112e9c99ae62f464c629e30b0d534c3b931b6cbc3ff"
      }
    }
  },
  "nbformat": 4,
  "nbformat_minor": 0
}
