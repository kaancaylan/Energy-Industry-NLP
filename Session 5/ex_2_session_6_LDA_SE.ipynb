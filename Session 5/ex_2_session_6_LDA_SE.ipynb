{
  "cells": [
    {
      "cell_type": "markdown",
      "metadata": {
        "id": "E3onxK822Ae_"
      },
      "source": [
        "# XHEC: Session 5-2  "
      ]
    },
    {
      "cell_type": "markdown",
      "metadata": {
        "id": "_Z38tVv32AfE"
      },
      "source": [
        "Explore topic extraction and sentiment analysis existing libraries "
      ]
    },
    {
      "cell_type": "markdown",
      "metadata": {
        "id": "9-ZAAjn12AfE"
      },
      "source": [
        "## Import libraries "
      ]
    },
    {
      "cell_type": "code",
      "execution_count": 1,
      "metadata": {
        "id": "J7IX6Kl83eW6"
      },
      "outputs": [
        {
          "data": {
            "text/plain": [
              "'c:\\\\Users\\\\Dell\\\\MASTER COURSES\\\\CapGemini Datacamp\\\\Session 5'"
            ]
          },
          "execution_count": 1,
          "metadata": {},
          "output_type": "execute_result"
        }
      ],
      "source": [
        "import os\n",
        "os.getcwd()\n",
        "#os.chdir(\"path to your drive folder\") # path to your drive folder"
      ]
    },
    {
      "cell_type": "code",
      "execution_count": 2,
      "metadata": {
        "colab": {
          "base_uri": "https://localhost:8080/"
        },
        "id": "un3RHyREQeKx",
        "outputId": "53fdff2f-6e4b-4791-96a6-ad02a919f185"
      },
      "outputs": [
        {
          "data": {
            "text/plain": [
              "['corr_1_session_5_LDA.ipynb',\n",
              " 'ex_1_session_5_LDA.ipynb',\n",
              " 'ex_2_session_6_LDA_SE.ipynb',\n",
              " 'LDA_model.pkl',\n",
              " 'LDA_model.pkl.expElogbeta.npy',\n",
              " 'LDA_model.pkl.id2word',\n",
              " 'LDA_model.pkl.state',\n",
              " 'process.py',\n",
              " 'requirements_c5.txt',\n",
              " 'reviews_cleaned.parquet',\n",
              " 'word_dict.txt',\n",
              " '__pycache__']"
            ]
          },
          "execution_count": 2,
          "metadata": {},
          "output_type": "execute_result"
        }
      ],
      "source": [
        "#!pwd\n",
        "os.listdir()\n",
        "#!ls"
      ]
    },
    {
      "cell_type": "code",
      "execution_count": 3,
      "metadata": {
        "id": "N0s76ec7hCPF"
      },
      "outputs": [
        {
          "name": "stdout",
          "output_type": "stream",
          "text": [
            "<_io.TextIOWrapper name='requirements_c5.txt' mode='r' encoding='UTF-8'>\n"
          ]
        }
      ],
      "source": [
        "with open(\"requirements_c5.txt\", \"r\") as f:\n",
        "    print(f)\n"
      ]
    },
    {
      "cell_type": "code",
      "execution_count": 3,
      "metadata": {
        "colab": {
          "base_uri": "https://localhost:8080/",
          "height": 85,
          "referenced_widgets": [
            "e9f384331a29450a9658f07ed8684609",
            "cf1bbc161d9a4ed6a3bda53fe0501f25",
            "8b95712bb14045d58a2b0cb6b30b1d35",
            "869248177b9f44c59340d245fb4e4e4c",
            "d2a314a12574487b936bd2dcd44ed4e4",
            "3a0a1cc034ea487384eb7300e462fa43",
            "bdf2b3d116f543f99c8317ab2cc1f76a",
            "6b3d0dc7b4bc434c897ab1d3695eea91"
          ]
        },
        "id": "nXbl-jQq2AfF",
        "outputId": "2f7007c5-a6f0-411c-9893-870bca1e5e22"
      },
      "outputs": [
        {
          "name": "stderr",
          "output_type": "stream",
          "text": [
            "Importing display from IPython.core.display is deprecated since IPython 7.14, please import from IPython display\n",
            "Importing display from IPython.core.display is deprecated since IPython 7.14, please import from IPython display\n",
            "Importing display from IPython.core.display is deprecated since IPython 7.14, please import from IPython display\n"
          ]
        }
      ],
      "source": [
        "\n",
        "import os\n",
        "import numpy as np\n",
        "import pandas as pd\n",
        "import pickle\n",
        "import operator\n",
        "from tqdm import tqdm_notebook as tqdm\n",
        "import nltk\n",
        "from pprint import pprint\n",
        "\n",
        "# Gensim\n",
        "import gensim\n",
        "import gensim.corpora as corpor\n",
        "from gensim.models.coherencemodel import CoherenceModel\n",
        "from gensim.corpora import Dictionary\n",
        "\n",
        "# Plotting tools\n",
        "import pyLDAvis\n",
        "import pyLDAvis.gensim_models\n",
        "import seaborn as sns\n",
        "import matplotlib.pyplot as plt\n",
        "import shap\n",
        "\n",
        "# Enable logging for gensim - optional\n",
        "import logging\n",
        "logging.basicConfig(format='%(asctime)s : %(levelname)s : %(message)s', level=logging.ERROR)\n",
        "\n",
        "import warnings\n",
        "warnings.filterwarnings(\"ignore\",category=DeprecationWarning)\n",
        "import spacy\n",
        "#!python3 -m spacy download fr_core_news_sm # to run juste one time\n",
        "#!pip install vaderSentiment\n",
        "\n",
        "import sys\n",
        "sys.path.insert(0, './')\n",
        "import process\n",
        "\n",
        "%load_ext autoreload\n",
        "%autoreload 2\n"
      ]
    },
    {
      "cell_type": "code",
      "execution_count": 4,
      "metadata": {
        "colab": {
          "base_uri": "https://localhost:8080/"
        },
        "id": "8PzkjA9u2AfG",
        "outputId": "536ed3a8-1e2f-43f2-85ba-f1be86df3cf9"
      },
      "outputs": [
        {
          "name": "stderr",
          "output_type": "stream",
          "text": [
            "[nltk_data] Downloading package vader_lexicon to\n",
            "[nltk_data]     C:\\Users\\Dell\\AppData\\Roaming\\nltk_data...\n",
            "[nltk_data]   Package vader_lexicon is already up-to-date!\n"
          ]
        },
        {
          "data": {
            "text/plain": [
              "True"
            ]
          },
          "execution_count": 4,
          "metadata": {},
          "output_type": "execute_result"
        }
      ],
      "source": [
        "nltk.download('vader_lexicon')"
      ]
    },
    {
      "cell_type": "markdown",
      "metadata": {
        "id": "j7B2j_NV2AfG"
      },
      "source": [
        "## Load data "
      ]
    },
    {
      "cell_type": "code",
      "execution_count": 5,
      "metadata": {
        "id": "vFpCfhg6V8sk"
      },
      "outputs": [],
      "source": [
        "DATASET_SIZE = 30000\n",
        "def get_reviews(filepath, nrows=None):\n",
        "    df = pd.read_parquet(filepath)\n",
        "    if nrows !=None:\n",
        "      df = df.sample(nrows)\n",
        "    return df"
      ]
    },
    {
      "cell_type": "code",
      "execution_count": 5,
      "metadata": {},
      "outputs": [
        {
          "data": {
            "text/plain": [
              "(37294, 15)"
            ]
          },
          "execution_count": 5,
          "metadata": {},
          "output_type": "execute_result"
        }
      ],
      "source": [
        "path = \"reviews_cleaned.parquet\"\n",
        "reviews = pd.read_parquet(path)\n",
        "reviews.shape"
      ]
    },
    {
      "cell_type": "code",
      "execution_count": 6,
      "metadata": {
        "colab": {
          "base_uri": "https://localhost:8080/",
          "height": 635
        },
        "id": "wOJgTD_O2AfH",
        "outputId": "477dfb3b-cdd3-4093-86f4-a9d1545eab2d"
      },
      "outputs": [
        {
          "data": {
            "text/html": [
              "<div>\n",
              "<style scoped>\n",
              "    .dataframe tbody tr th:only-of-type {\n",
              "        vertical-align: middle;\n",
              "    }\n",
              "\n",
              "    .dataframe tbody tr th {\n",
              "        vertical-align: top;\n",
              "    }\n",
              "\n",
              "    .dataframe thead th {\n",
              "        text-align: right;\n",
              "    }\n",
              "</style>\n",
              "<table border=\"1\" class=\"dataframe\">\n",
              "  <thead>\n",
              "    <tr style=\"text-align: right;\">\n",
              "      <th></th>\n",
              "      <th>Unnamed: 0</th>\n",
              "      <th>page</th>\n",
              "      <th>titre</th>\n",
              "      <th>verbatim</th>\n",
              "      <th>date</th>\n",
              "      <th>note</th>\n",
              "      <th>reponse</th>\n",
              "      <th>date_experience</th>\n",
              "      <th>fournisseur</th>\n",
              "      <th>source</th>\n",
              "      <th>clean_verb</th>\n",
              "      <th>tokens</th>\n",
              "      <th>tokens_lem</th>\n",
              "      <th>tokens_processed</th>\n",
              "      <th>tokens_lem_processed</th>\n",
              "    </tr>\n",
              "  </thead>\n",
              "  <tbody>\n",
              "    <tr>\n",
              "      <th>0</th>\n",
              "      <td>0</td>\n",
              "      <td>1</td>\n",
              "      <td>Aucun soucis particulier</td>\n",
              "      <td>Je paie ma facture tous les deux mois en fonct...</td>\n",
              "      <td>Il y a 17 heures</td>\n",
              "      <td>4</td>\n",
              "      <td>None</td>\n",
              "      <td>Date de l'expérience: 01 décembre 2022</td>\n",
              "      <td>https://fr.trustpilot.com/review/engie.fr</td>\n",
              "      <td>trustpilot</td>\n",
              "      <td>je paie ma facture tous les deux mois en fonct...</td>\n",
              "      <td>[[je, ], [paie, ], [ma, ], [facture, ], [tous,...</td>\n",
              "      <td>[[je, ], [pai, ], [ma, ], [factur, ], [tous, ]...</td>\n",
              "      <td>[paie, facture, mois, fonction, consommation, ...</td>\n",
              "      <td>[pai, factur, mois, fonction, consomm, exact, ...</td>\n",
              "    </tr>\n",
              "    <tr>\n",
              "      <th>1</th>\n",
              "      <td>1</td>\n",
              "      <td>1</td>\n",
              "      <td>Engie facture a ses clients des sommes…</td>\n",
              "      <td>Engie facture a ses clients des sommes exorbit...</td>\n",
              "      <td>Il y a un jour</td>\n",
              "      <td>1</td>\n",
              "      <td>Bonjour Julien Blanco,\\n\\nPour des raisons de ...</td>\n",
              "      <td>Date de l'expérience: 26 novembre 2022</td>\n",
              "      <td>https://fr.trustpilot.com/review/engie.fr</td>\n",
              "      <td>trustpilot</td>\n",
              "      <td>engie facture a ses clients des sommes exorbit...</td>\n",
              "      <td>[[engie, ], [facture, ], [a, ], [ses, ], [clie...</td>\n",
              "      <td>[[engi, ], [factur, ], [a, ], [se, ], [client,...</td>\n",
              "      <td>[engie, facture, clients, exorbitants, engie, ...</td>\n",
              "      <td>[engi, factur, client, somm, exorbit, engi, fa...</td>\n",
              "    </tr>\n",
              "    <tr>\n",
              "      <th>2</th>\n",
              "      <td>2</td>\n",
              "      <td>1</td>\n",
              "      <td>Facturation sur consommation d'un autre logement</td>\n",
              "      <td>Ils me facturent sur le pdl du logement au des...</td>\n",
              "      <td>ll y a 3 jours</td>\n",
              "      <td>1</td>\n",
              "      <td>Bonjour BlooDz,\\n\\nPour des raisons de confide...</td>\n",
              "      <td>Date de l'expérience: 29 novembre 2022</td>\n",
              "      <td>https://fr.trustpilot.com/review/engie.fr</td>\n",
              "      <td>trustpilot</td>\n",
              "      <td>ils me facturent sur le pdl du logement au des...</td>\n",
              "      <td>[[ils, ], [me, ], [facturent, ], [sur, ], [le,...</td>\n",
              "      <td>[[il, ], [me, ], [facturent, ], [sur, ], [le, ...</td>\n",
              "      <td>[facturent, pdl, logement, disant, faute, jama...</td>\n",
              "      <td>[facturent, pdl, log, dis, faut, jam, pris, fa...</td>\n",
              "    </tr>\n",
              "    <tr>\n",
              "      <th>3</th>\n",
              "      <td>3</td>\n",
              "      <td>1</td>\n",
              "      <td>un service client ou il est dur de…</td>\n",
              "      <td>un service client ou il est dur de comprendre ...</td>\n",
              "      <td>ll y a 3 jours</td>\n",
              "      <td>1</td>\n",
              "      <td>Bonjour Ricanto77,\\nPour des raisons de confid...</td>\n",
              "      <td>Date de l'expérience: 29 novembre 2022</td>\n",
              "      <td>https://fr.trustpilot.com/review/engie.fr</td>\n",
              "      <td>trustpilot</td>\n",
              "      <td>un service client ou il est dur de comprendre ...</td>\n",
              "      <td>[[un, ], [service, ], [client, ], [ou, ], [il,...</td>\n",
              "      <td>[[un, ], [servic, ], [client, ], [ou, ], [il, ...</td>\n",
              "      <td>[service, client, dur, comprendre, langue, uti...</td>\n",
              "      <td>[servic, client, dur, comprendr, langu, utilis...</td>\n",
              "    </tr>\n",
              "    <tr>\n",
              "      <th>4</th>\n",
              "      <td>4</td>\n",
              "      <td>1</td>\n",
              "      <td>Client d'ENGIE depuis longtemps toujours satis...</td>\n",
              "      <td>Excellente expérience avec ENGIE et une interl...</td>\n",
              "      <td>Il y a 24 minutes</td>\n",
              "      <td>5</td>\n",
              "      <td>None</td>\n",
              "      <td>Date de l'expérience: 01 décembre 2022</td>\n",
              "      <td>https://fr.trustpilot.com/review/engie.fr</td>\n",
              "      <td>trustpilot</td>\n",
              "      <td>excellente expérience avec engie et une interl...</td>\n",
              "      <td>[[excellente, ], [expérience, ], [avec, ], [en...</td>\n",
              "      <td>[[excellent, ], [expérient, ], [avec, ], [engi...</td>\n",
              "      <td>[excellente, expérience, engie, interlocutrice...</td>\n",
              "      <td>[excellent, expérient, engi, interlocutric, so...</td>\n",
              "    </tr>\n",
              "  </tbody>\n",
              "</table>\n",
              "</div>"
            ],
            "text/plain": [
              "   Unnamed: 0  page                                              titre  \\\n",
              "0           0     1                           Aucun soucis particulier   \n",
              "1           1     1            Engie facture a ses clients des sommes…   \n",
              "2           2     1   Facturation sur consommation d'un autre logement   \n",
              "3           3     1                un service client ou il est dur de…   \n",
              "4           4     1  Client d'ENGIE depuis longtemps toujours satis...   \n",
              "\n",
              "                                            verbatim               date  note  \\\n",
              "0  Je paie ma facture tous les deux mois en fonct...   Il y a 17 heures     4   \n",
              "1  Engie facture a ses clients des sommes exorbit...     Il y a un jour     1   \n",
              "2  Ils me facturent sur le pdl du logement au des...     ll y a 3 jours     1   \n",
              "3  un service client ou il est dur de comprendre ...     ll y a 3 jours     1   \n",
              "4  Excellente expérience avec ENGIE et une interl...  Il y a 24 minutes     5   \n",
              "\n",
              "                                             reponse  \\\n",
              "0                                               None   \n",
              "1  Bonjour Julien Blanco,\\n\\nPour des raisons de ...   \n",
              "2  Bonjour BlooDz,\\n\\nPour des raisons de confide...   \n",
              "3  Bonjour Ricanto77,\\nPour des raisons de confid...   \n",
              "4                                               None   \n",
              "\n",
              "                          date_experience  \\\n",
              "0  Date de l'expérience: 01 décembre 2022   \n",
              "1  Date de l'expérience: 26 novembre 2022   \n",
              "2  Date de l'expérience: 29 novembre 2022   \n",
              "3  Date de l'expérience: 29 novembre 2022   \n",
              "4  Date de l'expérience: 01 décembre 2022   \n",
              "\n",
              "                                 fournisseur      source  \\\n",
              "0  https://fr.trustpilot.com/review/engie.fr  trustpilot   \n",
              "1  https://fr.trustpilot.com/review/engie.fr  trustpilot   \n",
              "2  https://fr.trustpilot.com/review/engie.fr  trustpilot   \n",
              "3  https://fr.trustpilot.com/review/engie.fr  trustpilot   \n",
              "4  https://fr.trustpilot.com/review/engie.fr  trustpilot   \n",
              "\n",
              "                                          clean_verb  \\\n",
              "0  je paie ma facture tous les deux mois en fonct...   \n",
              "1  engie facture a ses clients des sommes exorbit...   \n",
              "2  ils me facturent sur le pdl du logement au des...   \n",
              "3  un service client ou il est dur de comprendre ...   \n",
              "4  excellente expérience avec engie et une interl...   \n",
              "\n",
              "                                              tokens  \\\n",
              "0  [[je, ], [paie, ], [ma, ], [facture, ], [tous,...   \n",
              "1  [[engie, ], [facture, ], [a, ], [ses, ], [clie...   \n",
              "2  [[ils, ], [me, ], [facturent, ], [sur, ], [le,...   \n",
              "3  [[un, ], [service, ], [client, ], [ou, ], [il,...   \n",
              "4  [[excellente, ], [expérience, ], [avec, ], [en...   \n",
              "\n",
              "                                          tokens_lem  \\\n",
              "0  [[je, ], [pai, ], [ma, ], [factur, ], [tous, ]...   \n",
              "1  [[engi, ], [factur, ], [a, ], [se, ], [client,...   \n",
              "2  [[il, ], [me, ], [facturent, ], [sur, ], [le, ...   \n",
              "3  [[un, ], [servic, ], [client, ], [ou, ], [il, ...   \n",
              "4  [[excellent, ], [expérient, ], [avec, ], [engi...   \n",
              "\n",
              "                                    tokens_processed  \\\n",
              "0  [paie, facture, mois, fonction, consommation, ...   \n",
              "1  [engie, facture, clients, exorbitants, engie, ...   \n",
              "2  [facturent, pdl, logement, disant, faute, jama...   \n",
              "3  [service, client, dur, comprendre, langue, uti...   \n",
              "4  [excellente, expérience, engie, interlocutrice...   \n",
              "\n",
              "                                tokens_lem_processed  \n",
              "0  [pai, factur, mois, fonction, consomm, exact, ...  \n",
              "1  [engi, factur, client, somm, exorbit, engi, fa...  \n",
              "2  [facturent, pdl, log, dis, faut, jam, pris, fa...  \n",
              "3  [servic, client, dur, comprendr, langu, utilis...  \n",
              "4  [excellent, expérient, engi, interlocutric, so...  "
            ]
          },
          "execution_count": 6,
          "metadata": {},
          "output_type": "execute_result"
        }
      ],
      "source": [
        "#TO DO: Check document variable\n",
        "reviews.head()"
      ]
    },
    {
      "cell_type": "code",
      "execution_count": 7,
      "metadata": {},
      "outputs": [
        {
          "data": {
            "text/plain": [
              "https://www.avis-verifies.com/avis-clients/edfenr.com                        5080\n",
              "https://fr.trustpilot.com/review/totalenergies.fr                            4980\n",
              "https://www.avis-verifies.com/avis-clients/engie-homeservices.fr             4450\n",
              "https://www.avis-verifies.com/avis-clients/totalenergies.fr?filtre=&p=87     3910\n",
              "https://www.avis-verifies.com/avis-clients/totalenergies.fr                  3820\n",
              "https://fr.trustpilot.com/review/ilek.fr                                     3120\n",
              "https://fr.trustpilot.com/review/ohm-energie.com                             2520\n",
              "https://www.avis-verifies.com/avis-clients/fr.eni.com                        2280\n",
              "https://www.avis-verifies.com/avis-clients/totalenergies.fr?filtre=&p=478    1650\n",
              "https://www.avis-verifies.com/avis-clients/happ-e.fr                         1300\n",
              "https://fr.trustpilot.com/review/engie.fr                                    1160\n",
              "https://fr.trustpilot.com/review/eni.fr                                       800\n",
              "https://fr.trustpilot.com/review/ekwateur.fr                                  640\n",
              "https://fr.trustpilot.com/review/edf.fr                                       520\n",
              "https://fr.trustpilot.com/review/alpiq.fr                                     404\n",
              "https://www.avis-verifies.com/avis-clients/ekwateur.fr                        360\n",
              "https://www.avis-verifies.com/avis-clients/sowee.fr                           120\n",
              "https://fr.trustpilot.com/review/happ-e.fr                                    100\n",
              "https://fr.trustpilot.com/review/www.sowee.fr                                  80\n",
              "Name: fournisseur, dtype: int64"
            ]
          },
          "execution_count": 7,
          "metadata": {},
          "output_type": "execute_result"
        }
      ],
      "source": [
        "reviews.fournisseur.value_counts()"
      ]
    },
    {
      "attachments": {},
      "cell_type": "markdown",
      "metadata": {},
      "source": [
        "#### Filter the reviews for TotalEnergies "
      ]
    },
    {
      "cell_type": "code",
      "execution_count": 8,
      "metadata": {},
      "outputs": [
        {
          "data": {
            "text/plain": [
              "(14360, 16)"
            ]
          },
          "execution_count": 8,
          "metadata": {},
          "output_type": "execute_result"
        }
      ],
      "source": [
        "reviews = reviews[reviews.fournisseur.str.contains(\"totalenergies\")].reset_index()\n",
        "reviews.shape"
      ]
    },
    {
      "cell_type": "code",
      "execution_count": 9,
      "metadata": {
        "colab": {
          "base_uri": "https://localhost:8080/"
        },
        "id": "YlGJXg7Ffjro",
        "outputId": "70520991-542f-4758-a74e-dd4cad19dc78"
      },
      "outputs": [
        {
          "name": "stdout",
          "output_type": "stream",
          "text": [
            "Installation Rapide, Prix concurrentiel et surtout promotion de -50€ + 10% de réduction supplémentaire grâce au code 104478135 que j'ai utilisé.\n",
            "\n",
            "La mise en route a pris 1 semaine, joignable rapidement et facilement par téléphone (même si je préfère par Tchat, ils répondent sous 24H)\n",
            "\n",
            "Rien à redire au prix actuel de l'électricité ....\n",
            "----------\n",
            "['rapid' 'prix' 'concurrentiel' 'promot' 'réduct' 'supplémentair' 'grâc'\n",
            " 'cod' 'utilis' 'mis' 'rout' 'pris' 'semain' 'joignabl' 'rapid' 'facil'\n",
            " 'téléphon' 'mêm' 'préfer' 'tchat' 'répondent' 'redir' 'prix' 'actuel'\n",
            " 'électr']\n",
            "----------\n",
            "['rapide' 'prix' 'concurrentiel' 'promotion' 'réduction' 'supplémentaire'\n",
            " 'grâce' 'code' 'utilisé' 'mise' 'route' 'pris' 'semaine' 'joignable'\n",
            " 'rapidement' 'facilement' 'téléphone' 'préfère' 'tchat' 'répondent'\n",
            " 'redire' 'prix' 'actuel' 'électricité']\n"
          ]
        }
      ],
      "source": [
        "### Exemple of preprocessing already done\n",
        "print(reviews[\"verbatim\"][1])\n",
        "print('----------')\n",
        "print(reviews[\"tokens_lem_processed\"][1])\n",
        "print('----------')\n",
        "print(reviews[\"tokens_processed\"][1])"
      ]
    },
    {
      "attachments": {},
      "cell_type": "markdown",
      "metadata": {},
      "source": [
        "### Custom Preprocessing"
      ]
    },
    {
      "cell_type": "code",
      "execution_count": 233,
      "metadata": {},
      "outputs": [
        {
          "name": "stderr",
          "output_type": "stream",
          "text": [
            "[nltk_data] Downloading package stopwords to\n",
            "[nltk_data]     C:\\Users\\Dell\\AppData\\Roaming\\nltk_data...\n",
            "[nltk_data]   Package stopwords is already up-to-date!\n"
          ]
        }
      ],
      "source": [
        "import nltk\n",
        "import unidecode\n",
        "import re\n",
        "nltk.download('stopwords')\n",
        "from nltk.stem import WordNetLemmatizer, SnowballStemmer\n",
        "\n",
        "\n",
        "def clean_sentence(sentence, stopwords=False, lemmatize=False, stemming=False):\n",
        "    sentence = sentence.lower().strip() #lowercase\n",
        "    sentence = unidecode.unidecode(sentence) #remove accents from letters\n",
        "    sentence = re.sub(r'[^a-z0-9\\s]', '', sentence) #remove non-alphanumeric characters\n",
        "    sentence = re.sub(r\"\\d+\", \"\", sentence) #remove numbers\n",
        "    sentence = re.sub(r\"\\s+\",\" \",sentence) #remove whitespace\n",
        "    sentence = sentence.rstrip().lstrip() #remove space at the beginning and end if it exists\n",
        "    sentence = re.split('\\s+', sentence)\n",
        "\n",
        "    if stopwords:\n",
        "        stop_words = nltk.corpus.stopwords.words(\"french\")\n",
        "        stop_words = [unidecode.unidecode(stopword) for stopword in stop_words]\n",
        "        sentence = [word for word in sentence if word not in stop_words]\n",
        "    \n",
        "    if lemmatize:\n",
        "        lemmatizer = WordNetLemmatizer()\n",
        "        sentence = [lemmatizer.lemmatize(word) for word in sentence]\n",
        "    \n",
        "    if stemming:\n",
        "        stemmer = SnowballStemmer(\"french\")\n",
        "        sentence = [stemmer.stem(word) for word in sentence]\n",
        "\n",
        "    return \" \".join(sentence)\n",
        "\n",
        "reviews[\"clean_reviews\"] = reviews.verbatim.apply(clean_sentence, stopwords=True)\n",
        "reviews[\"clean_reviews_lem\"] = reviews.verbatim.apply(clean_sentence, stopwords=True, lemmatize=True)\n",
        "\n",
        "reviews[\"tokenized_corpus\"] = [re.split('\\s+', comment) for comment in reviews.clean_reviews]\n",
        "reviews[\"tokenized_corpus_lem\"] = [re.split('\\s+', comment) for comment in reviews.clean_reviews_lem]"
      ]
    },
    {
      "cell_type": "code",
      "execution_count": 255,
      "metadata": {},
      "outputs": [
        {
          "data": {
            "text/plain": [
              "0        [chaqu, contact, téléphon, servic, client, tot...\n",
              "1        [rapid, prix, concurrentiel, promot, réduct, s...\n",
              "2        [client, total, énerg, tarif, concurrentiel, c...\n",
              "3        [somm, litig, somm, demand, énorm, possibl, eu...\n",
              "4        [démarch, yaich, alor, demand, person, embroui...\n",
              "                               ...                        \n",
              "14355    [veux, recevoir, mai, factur, mai, consomm, ch...\n",
              "14356    [tré, dur, répons, plusieur, compteur, veux, r...\n",
              "14357    [bjrma, factur, divulgu, voisin, mêm, reçu, du...\n",
              "14358                            [répons, expliqu, inform]\n",
              "14359    [satisfait, contact, téléphon, conseil, expliq...\n",
              "Name: tokens_lem_processed, Length: 14360, dtype: object"
            ]
          },
          "execution_count": 255,
          "metadata": {},
          "output_type": "execute_result"
        }
      ],
      "source": [
        "#remove accents from default stemmed verbatim\n",
        "#reviews[\"tokens_lem_processed\"] = [[unidecode.unidecode(i) for i in rev] for rev in reviews.tokens_lem_processed]\n",
        "reviews[\"tokens_lem_processed\"]"
      ]
    },
    {
      "attachments": {},
      "cell_type": "markdown",
      "metadata": {},
      "source": [
        "#### Date Formatting"
      ]
    },
    {
      "cell_type": "code",
      "execution_count": 352,
      "metadata": {},
      "outputs": [
        {
          "data": {
            "text/plain": [
              "36    7872\n",
              "37    1611\n",
              "65    1508\n",
              "34    1298\n",
              "38     765\n",
              "39     553\n",
              "33     387\n",
              "35     356\n",
              "26      10\n",
              "dtype: int64"
            ]
          },
          "execution_count": 352,
          "metadata": {},
          "output_type": "execute_result"
        }
      ],
      "source": [
        "dates = pd.DataFrame({\"date\":reviews.date_experience})\n",
        "dates[\"len\"] = dates.date.apply(len)\n",
        "dates.len.unique()\n",
        "pd.Series([len(i) for i in reviews.date_experience]).value_counts()\n",
        "#dates.groupby(\"len\").first()"
      ]
    },
    {
      "cell_type": "code",
      "execution_count": 363,
      "metadata": {},
      "outputs": [
        {
          "data": {
            "text/plain": [
              "0         Date de l'expérience: 01 décembre 2022\n",
              "1         Date de l'expérience: 27 novembre 2022\n",
              "2         Date de l'expérience: 22 novembre 2022\n",
              "3         Date de l'expérience: 26 novembre 2022\n",
              "4        Date de l'expérience: 15 septembre 2022\n",
              "                          ...                   \n",
              "14355       suite à une expérience du 05/06/2021\n",
              "14356       suite à une expérience du 05/06/2021\n",
              "14357       suite à une expérience du 05/06/2021\n",
              "14358       suite à une expérience du 05/09/2022\n",
              "14359       suite à une expérience du 05/09/2022\n",
              "Name: date, Length: 14360, dtype: object"
            ]
          },
          "execution_count": 363,
          "metadata": {},
          "output_type": "execute_result"
        }
      ],
      "source": [
        "dates.date"
      ]
    },
    {
      "cell_type": "code",
      "execution_count": null,
      "metadata": {},
      "outputs": [],
      "source": [
        "import re\n",
        "from datetime import datetime\n",
        "\n",
        "df.date[0]\n",
        "\n",
        "# Define a regex pattern to match dates in the format yyyy-mm-dd\n",
        "date_pattern = r\"\\d{4}-\\d{2}-\\d{2}\"\n",
        "\n",
        "# Find all occurrences of the pattern in the text\n",
        "matches = re.findall(date_pattern, text)\n",
        "\n",
        "# Convert each match to a datetime object\n",
        "dates = [datetime.strptime(match, \"%Y-%m-%d\").date() for match in matches]\n",
        "\n",
        "print(dates)"
      ]
    },
    {
      "cell_type": "markdown",
      "metadata": {
        "id": "H1W7bb6C2AfH"
      },
      "source": [
        "## Topic extraction : LDA  with Gensim\n"
      ]
    },
    {
      "cell_type": "markdown",
      "metadata": {
        "id": "R0VnpHcM2AfH"
      },
      "source": [
        "### Preprocessing of reviews to be used by LDA"
      ]
    },
    {
      "cell_type": "code",
      "execution_count": 10,
      "metadata": {
        "id": "Gk_NNzz_fau9"
      },
      "outputs": [],
      "source": [
        "'''\n",
        "TO DO : Create a dictionary from 'tokens_lem_processed' containing the number of times a word appears \n",
        "in the training set using gensim.corpora.Dictionary and call it 'dictionary'\n",
        "'''\n",
        "tokens = reviews.tokens_lem_processed\n",
        "dictionary = gensim.corpora.Dictionary(tokens)"
      ]
    },
    {
      "cell_type": "code",
      "execution_count": 11,
      "metadata": {
        "id": "ZGzcd1nxdvvL"
      },
      "outputs": [],
      "source": [
        "'''\n",
        "TO DO : Remove very rare and very common words:\n",
        "- words appearing less than 15 times\n",
        "- words appearing in more than 10% of all documents\n",
        "'''\n",
        "dictionary.filter_extremes(no_below=15, no_above=0.1, keep_n= 100000)"
      ]
    },
    {
      "cell_type": "code",
      "execution_count": 12,
      "metadata": {},
      "outputs": [
        {
          "data": {
            "text/plain": [
              "14360"
            ]
          },
          "execution_count": 12,
          "metadata": {},
          "output_type": "execute_result"
        }
      ],
      "source": [
        "len(tokens)"
      ]
    },
    {
      "cell_type": "code",
      "execution_count": 13,
      "metadata": {
        "id": "SkSh1yuLdvvL"
      },
      "outputs": [
        {
          "data": {
            "text/plain": [
              "14360"
            ]
          },
          "execution_count": 13,
          "metadata": {},
          "output_type": "execute_result"
        }
      ],
      "source": [
        "'''\n",
        "TO DO : Create the Bag-of-words model for each document i.e for each document we create a dictionary reporting how many\n",
        "words and how many times those words appear. Save this to 'corpus' (HINT: check dictionary.doc2bow(tokens[0]))\n",
        "'''\n",
        "corpus = [dictionary.doc2bow(tok) for tok in tokens]\n",
        "len(corpus)"
      ]
    },
    {
      "cell_type": "code",
      "execution_count": 14,
      "metadata": {
        "colab": {
          "base_uri": "https://localhost:8080/"
        },
        "id": "mIQ0gx5ZdvvL",
        "outputId": "8e26245f-3083-4d1d-f209-5f44a6656f22"
      },
      "outputs": [
        {
          "name": "stdout",
          "output_type": "stream",
          "text": [
            "Word 12 (\"sach\") appears 1 time.\n",
            "Word 48 (\"demand\") appears 3 time.\n",
            "Word 52 (\"frais\") appears 1 time.\n",
            "Word 70 (\"san\") appears 1 time.\n",
            "Word 82 (\"fair\") appears 1 time.\n",
            "Word 87 (\"maison\") appears 1 time.\n",
            "Word 96 (\"voul\") appears 1 time.\n",
            "Word 210 (\"lor\") appears 1 time.\n",
            "Word 214 (\"appel\") appears 1 time.\n",
            "Word 262 (\"arrivent\") appears 1 time.\n",
            "Word 263 (\"arrêt\") appears 1 time.\n",
            "Word 264 (\"attend\") appears 1 time.\n",
            "Word 265 (\"compteur\") appears 2 time.\n",
            "Word 266 (\"convers\") appears 1 time.\n",
            "Word 267 (\"coup\") appears 1 time.\n",
            "Word 268 (\"enregistr\") appears 1 time.\n",
            "Word 269 (\"froid\") appears 1 time.\n",
            "Word 270 (\"grand\") appears 1 time.\n",
            "Word 271 (\"habit\") appears 1 time.\n",
            "Word 272 (\"remettr\") appears 1 time.\n",
            "Word 273 (\"remis\") appears 1 time.\n",
            "Word 274 (\"sûr\") appears 1 time.\n",
            "Word 275 (\"vent\") appears 1 time.\n"
          ]
        }
      ],
      "source": [
        "'''\n",
        "Preview BOW for our sample preprocessed document\n",
        "'''\n",
        "review_num = 20\n",
        "bow_doc_x = corpus[review_num]\n",
        "\n",
        "for i in range(len(bow_doc_x)):\n",
        "    print(\"Word {} (\\\"{}\\\") appears {} time.\".format(bow_doc_x[i][0], \n",
        "                                                     dictionary[bow_doc_x[i][0]], \n",
        "                                                     bow_doc_x[i][1]))"
      ]
    },
    {
      "attachments": {},
      "cell_type": "markdown",
      "metadata": {},
      "source": [
        "### Word2Vec before topic extraction"
      ]
    },
    {
      "cell_type": "code",
      "execution_count": 364,
      "metadata": {},
      "outputs": [
        {
          "data": {
            "text/plain": [
              "(17571022, 20694300)"
            ]
          },
          "execution_count": 364,
          "metadata": {},
          "output_type": "execute_result"
        }
      ],
      "source": [
        "from gensim.models import Word2Vec\n",
        "tokenized_corpus = [list(i) for i in reviews.tokens_lem_processed]\n",
        "w2v = Word2Vec(tokenized_corpus, window=7, min_count=1, workers=5)\n",
        "w2v.build_vocab(tokenized_corpus)\n",
        "w2v.train(tokenized_corpus, total_examples=w2v.corpus_count, epochs=100)\n"
      ]
    },
    {
      "cell_type": "code",
      "execution_count": 369,
      "metadata": {},
      "outputs": [],
      "source": [
        "embedding_matrix = dict()\n",
        "\n",
        "for word in w2v.wv.index_to_key:\n",
        "    embedding_matrix[word] = list(w2v.wv[word])\n",
        "\n",
        "#embedding_matrix = pd.DataFrame(embedding_matrix)"
      ]
    },
    {
      "cell_type": "code",
      "execution_count": 372,
      "metadata": {},
      "outputs": [
        {
          "data": {
            "text/plain": [
              "7936"
            ]
          },
          "execution_count": 372,
          "metadata": {},
          "output_type": "execute_result"
        }
      ],
      "source": [
        "len(embedding_matrix)"
      ]
    },
    {
      "cell_type": "code",
      "execution_count": 376,
      "metadata": {},
      "outputs": [
        {
          "data": {
            "text/plain": [
              "14360"
            ]
          },
          "execution_count": 376,
          "metadata": {},
          "output_type": "execute_result"
        }
      ],
      "source": [
        "def aggregate_review_vectors(reviews, word2vec_model):\n",
        "    review_vectors = np.zeros((len(reviews), word2vec_model.vector_size))\n",
        "    #print(review_vectors.shape)\n",
        "    for i, review_words in enumerate(reviews):\n",
        "        #review_words = review.split()\n",
        "        \n",
        "        review_vector = np.zeros(word2vec_model.vector_size)\n",
        "        count = 0\n",
        "        for word in review_words:\n",
        "            if word in word2vec_model.wv:\n",
        "                word_vector = word2vec_model.wv[word]\n",
        "                review_vector += word_vector\n",
        "                count += 1\n",
        "        if count > 0:\n",
        "            review_vector /= count\n",
        "        #review_vectors.append(review_vector)\n",
        "        review_vectors[i,:] = review_vector\n",
        "    return review_vectors\n",
        "\n",
        "\n",
        "corpus_w2v = aggregate_review_vectors(reviews.tokens_lem_processed, w2v)\n",
        "len(corpus)"
      ]
    },
    {
      "cell_type": "markdown",
      "metadata": {
        "id": "EeCIGDjIdvvM"
      },
      "source": [
        "### Train LDA Model"
      ]
    },
    {
      "cell_type": "code",
      "execution_count": 15,
      "metadata": {},
      "outputs": [
        {
          "data": {
            "text/plain": [
              "(14360, 1375)"
            ]
          },
          "execution_count": 15,
          "metadata": {},
          "output_type": "execute_result"
        }
      ],
      "source": [
        "len(corpus), len(dictionary)"
      ]
    },
    {
      "cell_type": "code",
      "execution_count": 16,
      "metadata": {
        "id": "t2bJ59Fmfau_"
      },
      "outputs": [],
      "source": [
        "#TO DO: build lda model\n",
        "'''\n",
        "Train your lda model using gensim.models.ldamodel.LdaModel and save it to 'ldaModel'\n",
        "'''\n",
        "nb_topics = 3\n",
        "alpha = 0.1\n",
        "eta = 0.1\n",
        "random_state = 42\n",
        "np.random.seed(random_state)\n",
        "\n",
        "ldaModel = gensim.models.ldamodel.LdaModel(corpus=corpus,\n",
        "                                           id2word=dictionary,\n",
        "                                           num_topics=nb_topics, \n",
        "                                           alpha=alpha,\n",
        "                                           eta=eta,\n",
        "                                           passes=3,\n",
        "                                           iterations=200)"
      ]
    },
    {
      "cell_type": "code",
      "execution_count": 17,
      "metadata": {
        "colab": {
          "base_uri": "https://localhost:8080/"
        },
        "id": "0hs-XH74fau_",
        "outputId": "35312128-ebde-48dc-e4d9-7665097705d3"
      },
      "outputs": [
        {
          "data": {
            "text/plain": [
              "[(0,\n",
              "  '0.022*\"appel\" + 0.018*\"demand\" + 0.018*\"électr\" + 0.017*\"jour\" + 0.013*\"dan\" + 0.011*\"san\" + 0.010*\"mêm\" + 0.010*\"lign\" + 0.009*\"mois\" + 0.009*\"rappel\"'),\n",
              " (1,\n",
              "  '0.023*\"prix\" + 0.015*\"tarif\" + 0.013*\"consomm\" + 0.013*\"fournisseur\" + 0.012*\"fair\" + 0.012*\"offre\" + 0.009*\"énerg\" + 0.009*\"dan\" + 0.009*\"person\" + 0.008*\"autr\"'),\n",
              " (2,\n",
              "  '0.034*\"facil\" + 0.032*\"clair\" + 0.025*\"efficac\" + 0.022*\"expliqu\" + 0.022*\"écout\" + 0.022*\"pass\" + 0.020*\"merc\" + 0.019*\"conseil\" + 0.019*\"person\" + 0.019*\"simpl\"')]"
            ]
          },
          "execution_count": 17,
          "metadata": {},
          "output_type": "execute_result"
        }
      ],
      "source": [
        "ldaModel.show_topics()"
      ]
    },
    {
      "cell_type": "code",
      "execution_count": 392,
      "metadata": {
        "id": "63ZLTkvGfau_"
      },
      "outputs": [],
      "source": [
        "cm = CoherenceModel(model=ldaModel, corpus=corpus, dictionary=dictionary, coherence='u_mass')\n",
        "coherence = cm.get_coherence()  # get coherence value"
      ]
    },
    {
      "cell_type": "code",
      "execution_count": 18,
      "metadata": {
        "colab": {
          "base_uri": "https://localhost:8080/"
        },
        "id": "akDJKixKmFUd",
        "outputId": "7c49acbf-4281-4113-8872-b766bc76c266"
      },
      "outputs": [
        {
          "ename": "NameError",
          "evalue": "name 'coherence' is not defined",
          "output_type": "error",
          "traceback": [
            "\u001b[1;31m---------------------------------------------------------------------------\u001b[0m",
            "\u001b[1;31mNameError\u001b[0m                                 Traceback (most recent call last)",
            "\u001b[1;32mc:\\Users\\Dell\\MASTER COURSES\\CapGemini Datacamp\\Session 5\\ex_2_session_6_LDA_SE.ipynb Cell 41\u001b[0m in \u001b[0;36m<cell line: 1>\u001b[1;34m()\u001b[0m\n\u001b[1;32m----> <a href='vscode-notebook-cell:/c%3A/Users/Dell/MASTER%20COURSES/CapGemini%20Datacamp/Session%205/ex_2_session_6_LDA_SE.ipynb#X35sZmlsZQ%3D%3D?line=0'>1</a>\u001b[0m coherence\n",
            "\u001b[1;31mNameError\u001b[0m: name 'coherence' is not defined"
          ]
        }
      ],
      "source": [
        "coherence"
      ]
    },
    {
      "cell_type": "code",
      "execution_count": 279,
      "metadata": {
        "colab": {
          "base_uri": "https://localhost:8080/",
          "height": 879
        },
        "id": "AqFccT8yfau_",
        "outputId": "dd637a83-c6d9-41e4-ce84-3c0eb54e1715"
      },
      "outputs": [
        {
          "name": "stderr",
          "output_type": "stream",
          "text": [
            "In a future version of pandas all arguments of DataFrame.drop except for the argument 'labels' will be keyword-only.\n"
          ]
        },
        {
          "data": {
            "text/html": [
              "\n",
              "<link rel=\"stylesheet\" type=\"text/css\" href=\"https://cdn.jsdelivr.net/gh/bmabey/pyLDAvis@3.3.1/pyLDAvis/js/ldavis.v1.0.0.css\">\n",
              "\n",
              "\n",
              "<div id=\"ldavis_el165002191846885408610622170\"></div>\n",
              "<script type=\"text/javascript\">\n",
              "\n",
              "var ldavis_el165002191846885408610622170_data = {\"mdsDat\": {\"x\": [0.16849165551775325, 0.08168051868346174, -0.22103381980890216, -0.029138354392312802], \"y\": [-0.06755573004337934, -0.05348244478434531, -0.10046044504721628, 0.22149861987494088], \"topics\": [1, 2, 3, 4], \"cluster\": [1, 1, 1, 1], \"Freq\": [48.62683015475136, 21.68357369599291, 17.65275707553687, 12.03683907371886]}, \"tinfo\": {\"Term\": [\"facil\", \"person\", \"prix\", \"clair\", \"\\u00e9cout\", \"expliqu\", \"accueil\", \"tarif\", \"offre\", \"satisf\", \"merc\", \"conseil\", \"consomm\", \"agr\\u00e9abl\", \"pass\", \"tre\", \"efficac\", \"professionnel\", \"interlocuteur\", \"lign\", \"appel\", \"contact\", \"pai\", \"sit\", \"question\", \"attent\", \"rappel\", \"parf\", \"finalis\", \"simpl\", \"vendred\", \"mai\", \"retard\", \"mem\", \"enregistr\", \"frigo\", \"principal\", \"cr\\u00e9ation\", \"spring\", \"d\\u00e9plor\", \"cb\", \"samed\", \"lettr\", \"voleur\", \"cess\", \"r\\u00e9sident\", \"email\", \"lien\", \"lanc\", \"reprend\", \"habit\", \"inscrit\", \"galer\", \"prelev\", \"affirm\", \"m\\u00e9diocr\", \"sold\", \"dirig\", \"week\", \"apparaissent\", \"pai\", \"adress\", \"dois\", \"exorbit\", \"harcel\", \"pir\", \"envoi\", \"frais\", \"re\\u00e7ois\", \"mois\", \"fuir\", \"dem\", \"ened\", \"appart\", \"r\\u00e9clam\", \"compteur\", \"pr\\u00e9lev\", \"veux\", \"euros\", \"alor\", \"arnaqu\", \"r\\u00e9sili\", \"chaqu\", \"mont\", \"dis\", \"mail\", \"log\", \"regl\", \"coupur\", \"\\u00e9lectr\", \"san\", \"gaz\", \"m\\u00eam\", \"jour\", \"toujour\", \"compt\", \"demand\", \"erreur\", \"direct\", \"appel\", \"coup\", \"consomm\", \"dan\", \"fair\", \"energ\", \"\\u00e9nerg\", \"votr\", \"fournisseur\", \"chang\", \"essentiel\", \"sympath\", \"vert\", \"revoir\", \"b\\u00e9mol\", \"connect\", \"clart\", \"compr\\u00e9hensibl\", \"labori\", \"finalis\", \"souscrit\", \"pag\", \"\\u00e2g\\u00e9\", \"simul\", \"command\", \"press\", \"remerci\", \"bug\", \"disponibil\", \"noir\", \"urgent\", \"fluid\", \"informat\", \"action\", \"parcour\", \"cons\\u00e9quent\", \"calm\", \"fonctionnel\", \"simpliqu\", \"\\u00e9nerv\", \"initial\", \"ais\", \"rib\", \"offre\", \"r\\u00e9seau\", \"minut\", \"lign\", \"fallu\", \"difficil\", \"valid\", \"internet\", \"recommenc\", \"raccord\", \"commun\", \"rappel\", \"sit\", \"choix\", \"efficac\", \"confirm\", \"term\", \"manqu\", \"appel\", \"d\\u00fb\", \"lendemain\", \"mieux\", \"mis\", \"final\", \"dossi\", \"souscr\", \"simpl\", \"conseil\", \"totalenerg\", \"dan\", \"fair\", \"inform\", \"inscript\", \"temp\", \"heur\", \"attent\", \"\\u00e9lectr\", \"jour\", \"demand\", \"autr\", \"contact\", \"san\", \"m\\u00eam\", \"person\", \"pass\", \"ras\", \"satisf\", \"apprec\", \"global\", \"impecc\", \"amabl\", \"confus\", \"intuit\", \"gentilless\", \"d\\u00e9di\", \"ecout\", \"attract\", \"accompagn\", \"chemin\", \"jug\", \"veil\", \"respectu\", \"recul\", \"usag\", \"tde\", \"acceuil\", \"vendeur\", \"g\\u00e9nial\", \"ergonom\", \"conserv\", \"chaleur\", \"agac\", \"ajust\", \"baiss\", \"soigneux\", \"appli\", \"accueil\", \"tre\", \"satisfais\", \"appliqu\", \"cod\", \"prix\", \"facil\", \"comp\\u00e9tit\", \"rapport\", \"qualit\", \"proposit\", \"clair\", \"tarif\", \"parrainag\", \"instant\", \"verr\", \"renseign\", \"int\\u00e9ress\", \"merc\", \"voir\", \"suivr\", \"compar\", \"suiv\", \"expliqu\", \"simpl\", \"inscript\", \"moment\", \"recommand\", \"consomm\", \"augment\", \"fournisseur\", \"\\u00e9nerg\", \"inform\", \"sit\", \"pass\", \"energ\", \"conseil\", \"tr\\u00e9\", \"edf\", \"diver\", \"balad\", \"d\\u00e9pannag\", \"d\\u00e9plac\", \"d\\u00e9croch\", \"centr\", \"professionnel\", \"pertinent\", \"voix\", \"dialogu\", \"douch\", \"amis\", \"serieux\", \"effort\", \"budget\", \"logiciel\", \"entr\\u00e9\", \"ami\", \"oubl\", \"parf\", \"absent\", \"lav\", \"entrer\", \"affich\", \"band\", \"compet\", \"isol\", \"analys\", \"patient\", \"machin\", \"comp\\u00e9tent\", \"agr\\u00e9abl\", \"\\u00e9volu\", \"\\u00e9cout\", \"euro\", \"interlocuteur\", \"question\", \"devient\", \"personnel\", \"aimabl\", \"person\", \"satisfait\", \"r\\u00e9pondu\", \"symp\", \"interlocutric\", \"parfait\", \"entretien\", \"redir\", \"r\\u00e9actif\", \"attent\", \"courtois\", \"expliqu\", \"conseil\", \"comprendr\", \"contact\", \"content\", \"pass\", \"conseiller\", \"efficac\", \"merc\", \"r\\u00e9pons\", \"del\", \"excellent\", \"temp\", \"demand\", \"dan\", \"pris\", \"clair\", \"\\u00e9nerg\"], \"Freq\": [1340.0, 1360.0, 1054.0, 1131.0, 706.0, 1048.0, 636.0, 846.0, 813.0, 535.0, 823.0, 1084.0, 1286.0, 426.0, 1359.0, 492.0, 650.0, 355.0, 470.0, 824.0, 2006.0, 1036.0, 1250.0, 807.0, 423.0, 700.0, 699.0, 279.0, 380.0, 714.0, 144.86315697925363, 202.65720106487967, 152.94351989962288, 136.92242225511177, 101.006428031384, 95.3173476175138, 83.66578215861192, 74.4891190553936, 68.73570757670007, 88.3234202087463, 67.5154333773845, 66.00836062191782, 75.7502310782028, 135.78888533264188, 57.228223782112934, 88.12766873726736, 63.73419953744117, 53.610551937860066, 60.75881835356935, 51.29267503599678, 93.99410253187278, 54.612017193825, 50.986937268785944, 49.1692039878355, 47.1566338724004, 52.379364347392766, 45.346854581227504, 43.96003025279511, 49.18424042847457, 43.436383813201836, 1227.172535186744, 364.70766095443906, 202.41202088630632, 119.62039226046497, 155.21463538656883, 86.88048697108844, 453.8382411276309, 291.8286765256695, 266.2352945741702, 1280.3138065164042, 189.21060064624683, 110.94178970437672, 241.61704016414066, 247.44706087128765, 207.5995162879795, 928.3732137919206, 626.2310138998612, 164.4026189183447, 703.4746460653699, 970.4237597438148, 146.2474002116655, 518.5095700675383, 432.7891013936758, 260.66949381883893, 394.9169620163124, 745.818335568271, 398.43863049689264, 342.7023951428537, 279.9314807527102, 1548.7259562916797, 1077.309675498843, 765.6790793148003, 1002.2616318324588, 1237.0799597276703, 779.8064378230033, 714.1598281040145, 1370.478893805564, 457.7883619702681, 697.3935646863042, 1118.4603335765673, 442.5704879990543, 792.1216849551317, 932.8975542746572, 759.3037817214465, 581.6356509319871, 667.4985156564367, 525.2195769140477, 544.642559113615, 448.3342525938822, 235.38337042574088, 95.77235803163748, 199.72569209674688, 78.37045341094615, 75.73538135915427, 128.92955152888493, 54.20324120452948, 43.859918237842116, 41.21086814545849, 375.7099150022164, 37.50777642022192, 35.79650850147681, 33.863688852888075, 34.78367710470393, 33.31727473297027, 31.917339588474515, 29.08810388331776, 50.75471808411814, 26.943629880098182, 26.687500330012867, 25.493983647155147, 28.053207852656325, 24.642595843254128, 23.673086549677922, 23.689729514598802, 23.485630049612563, 22.356393989415004, 22.90137955614676, 21.943183378833172, 23.30028328130777, 53.44977228687582, 25.05053639514662, 52.142332224303715, 717.5200109274671, 43.00055274380196, 247.14455271546464, 651.0183275846092, 136.97394164906467, 129.4883314955896, 228.1677290648007, 326.3888621464906, 54.13818544762936, 41.49467831579905, 140.15687772752074, 441.2353818981984, 492.0079643708883, 116.70450157740943, 395.11910554243383, 186.58824721950873, 50.490963177639124, 145.12233214947364, 784.5534491710763, 170.3213270374557, 127.21055575665653, 125.37365416571228, 335.0013850927994, 175.49220270977924, 241.6445588884932, 262.22892980931334, 293.58641107628654, 380.8188824324324, 233.82068271512506, 473.5747852833674, 398.33471256819416, 285.3413231132811, 231.60278235935615, 295.94329748552866, 221.54040391521312, 259.5124665269692, 427.1983371485471, 381.14161160182965, 391.5713737807312, 246.12884072340333, 276.2336879757463, 288.11320315539257, 260.2745494708598, 252.83438823519026, 235.21030408998163, 290.62731281847175, 534.3112944897848, 92.74415898846809, 82.9521039726095, 92.1387058753764, 69.32384601900245, 50.36663063792399, 58.622297096244665, 63.54262060942424, 45.52641996861635, 49.923537978921864, 157.334616099083, 55.56841996464633, 41.388470937041056, 42.270890860986064, 36.579054446110895, 35.76754075156977, 35.10947642619312, 35.45557281237435, 32.46340224934815, 31.364585163586064, 30.241162635758112, 30.573296120238545, 27.01619649809815, 25.297177636641102, 23.94063966690935, 22.222064099766758, 24.513966980271125, 58.42076680884805, 19.580125598114286, 48.572856709368146, 597.5525027799249, 462.4806486754938, 92.4592406944998, 246.5261831601455, 191.28148973368667, 922.067416437135, 1142.3280185853719, 68.39208656865407, 244.98172490767547, 220.0904605751218, 78.62057961357073, 848.6559865743156, 637.5391380219332, 205.2976980103958, 168.77593457380326, 95.3635659700827, 280.88855047125605, 163.2349851131141, 512.2730515041545, 294.2742169150844, 143.97394102413543, 109.67994881881368, 297.7833833837642, 503.63691335857794, 376.89112084960294, 294.60835304682075, 254.9749903436606, 229.6982720434384, 480.7728565253449, 196.64393935042193, 411.61198983406314, 419.2757036641786, 284.22701907591636, 266.6108159331092, 306.30695606483255, 229.43808088017133, 216.25231757284416, 149.6523349138915, 63.94921604990912, 37.48571337771285, 48.32000588971018, 32.67249133201216, 31.787638122977814, 28.27235930659702, 28.198255064008464, 350.0548814192853, 28.393323375758147, 27.880096139313597, 29.799009119407884, 25.608323876255564, 23.858289766236005, 22.475379614708235, 19.03222666768546, 37.412206558796065, 15.70215037491908, 15.758600985079596, 30.14496009848453, 15.612666028875623, 272.2164943263389, 14.640635192974948, 39.42929616228523, 14.117455636791874, 30.887178405882796, 17.574327991705747, 14.211884137865034, 12.94499745656197, 12.56485226982725, 177.61754733133094, 39.34090116615123, 257.29489931515246, 379.1534729224883, 41.4777694743734, 566.9663302171924, 36.25410077106188, 364.59412528053633, 322.6813460268725, 43.525244709613084, 198.90803903441596, 196.44105858660572, 781.3913206590063, 256.7469574960659, 129.7532903569456, 75.02283363994455, 108.6556811536048, 90.49956800302513, 93.9387843547821, 97.28151204208984, 97.2934889642716, 311.7351408884872, 68.91834907884086, 392.2758174925995, 393.0524682659059, 118.54969992809531, 363.58719138904956, 106.61401894552063, 425.7665919673626, 254.66310579725595, 254.07433054434938, 253.55874443269286, 223.8412220055319, 123.11685217216187, 115.79202070793211, 192.8324109849505, 238.81076263710708, 214.72804545296563, 149.50755924409825, 143.2758044750758, 138.77708094871593], \"Total\": [1340.0, 1360.0, 1054.0, 1131.0, 706.0, 1048.0, 636.0, 846.0, 813.0, 535.0, 823.0, 1084.0, 1286.0, 426.0, 1359.0, 492.0, 650.0, 355.0, 470.0, 824.0, 2006.0, 1036.0, 1250.0, 807.0, 423.0, 700.0, 699.0, 279.0, 380.0, 714.0, 145.20564848553562, 203.14474016564637, 153.31773622793753, 137.27580082920667, 101.3554017181842, 95.65743555557975, 84.0119595172916, 74.82957319752515, 69.07571566035976, 88.77826484548793, 67.86550854077294, 66.36521061044175, 76.1684803117093, 136.59215937516186, 57.56823884016327, 88.66587775722991, 64.13456473024705, 53.95355759286281, 61.153211576109214, 51.63311270955812, 94.63272653505246, 54.983980049306396, 51.337601230017256, 49.511690081079216, 47.498287807625985, 52.78100105854039, 45.69657968033122, 44.300151766161996, 49.56710896081491, 43.777031788133364, 1250.1169491998, 369.5277241906716, 204.53976589196233, 120.60485467869317, 156.9365665358993, 87.65313650833589, 467.3705598114546, 299.6042851441881, 273.23680560411947, 1360.8115431156489, 193.70145828134946, 112.70022225728273, 249.64657285341676, 256.78649646625576, 215.51858563633243, 1014.2223825805795, 674.5757793121977, 170.46896933043146, 779.3250443863556, 1098.0133919980753, 151.15945395922014, 579.9908644100196, 482.0612456810156, 280.7586783941901, 441.17602635188223, 882.6098964806833, 453.24841562541, 388.3818262696484, 310.33957375728147, 2179.325162285986, 1457.1585356386645, 985.0576238827852, 1344.0017754753246, 1717.050244463989, 1014.4672839644818, 923.8080341589978, 2008.5078667090004, 555.9872994867704, 933.0750642372453, 2006.923672127611, 575.3975939407305, 1286.6052770400797, 1728.6968433545244, 1315.2291195456905, 912.2135883493744, 1395.3004373041954, 946.0088347129516, 1116.1794124496894, 716.5219523677355, 235.9427466493393, 96.25800163591038, 200.8376122799458, 78.8088602888265, 76.18229670708516, 129.78331580741573, 54.653821031150684, 44.3065824594009, 41.64917276341896, 380.1485016425284, 37.95505000854945, 36.234930919281844, 34.30206492837323, 35.234240345846516, 33.77045202118149, 32.35831082917347, 29.531263337738547, 51.53207660507369, 27.38196105563372, 27.12579679269295, 25.939624133995643, 28.553245644805795, 25.086284187859842, 24.11144935061611, 24.129996595208045, 23.923955128763453, 22.794752891641863, 23.354744956651135, 22.382461106546973, 23.768311298925212, 54.76340745351705, 25.57722596842371, 54.177603326834095, 813.6032827961997, 45.142842097924955, 287.79929891239027, 824.5663284570057, 156.28181324896872, 147.155267005775, 271.37706064803217, 417.4487267213264, 58.551526773587305, 44.110073474446985, 183.3054087247569, 699.4018280864882, 807.1947650119066, 149.89175323123703, 650.7338891957857, 286.53192107210754, 56.067742213032744, 217.70187339253914, 2006.923672127611, 275.2620633053002, 190.40467955935083, 187.3435315468223, 736.5291302714766, 317.63612531655923, 511.67486407908234, 579.1823935835835, 714.2815114785421, 1084.4196584752744, 503.97320053773814, 1728.6968433545244, 1315.2291195456905, 776.8874195765368, 528.2473920578121, 885.8293295264582, 501.42854913598507, 700.8925357716929, 2179.325162285986, 1717.050244463989, 2008.5078667090004, 677.0678079449805, 1036.4917570494117, 1457.1585356386645, 1344.0017754753246, 1360.3903405881465, 1359.8369707418187, 291.0401699949807, 535.7372453276707, 93.20486505507608, 83.40816917362929, 92.67494753876575, 69.77830810387819, 50.7649211403728, 59.09288076795294, 64.06495156892035, 45.925061377513494, 50.362837484980325, 158.72753811018634, 56.093914919556084, 41.78744729547292, 42.71371895640452, 36.97769676264588, 36.17229668628204, 35.50954369496827, 35.863263354143484, 32.8616662713031, 31.762682814754186, 30.639261147830833, 30.98208158792965, 27.416858643815527, 25.695461044535346, 24.342113121353435, 22.620348209863927, 24.96791670718382, 59.52355103442814, 19.97819994689698, 49.78637360414739, 636.1645735226524, 492.28219987327367, 96.20067102182668, 264.8260548450196, 204.19666693616534, 1054.1548713999475, 1340.5677306104742, 71.77487169256256, 276.2267632206179, 246.67077037355156, 84.30541139676978, 1131.3437961589045, 846.6581225571542, 247.2343009552366, 200.9144056555238, 107.09278756889039, 378.3030275713705, 203.05553291115427, 823.0615416327549, 443.75416885745494, 187.78309444237988, 134.37724078268198, 510.56027810283604, 1048.6542457431037, 714.2815114785421, 528.2473920578121, 448.48748723982726, 408.7534257039386, 1286.6052770400797, 322.44821246906673, 1116.1794124496894, 1395.3004373041954, 776.8874195765368, 807.1947650119066, 1359.8369707418187, 912.2135883493744, 1084.4196584752744, 150.1788833639411, 64.36449549296931, 37.90114948406043, 48.8630656581162, 33.08784490343581, 32.24803937037425, 28.68818643989337, 28.613509449053062, 355.21611357611283, 28.81204691953867, 28.307324460122743, 30.272220241370654, 26.023666766072346, 24.27374785521827, 22.890589951615773, 19.44747770079301, 38.29922923130317, 16.117453018399992, 16.175651915306794, 30.944977528376878, 16.027946818328164, 279.72697585357963, 15.055934216971444, 40.55853042386058, 14.532782567890685, 31.8104295963655, 18.105531690410736, 14.642041557279423, 13.360980712750152, 12.982550299185286, 184.49078575292782, 41.117223680529634, 282.8487390436593, 426.65239096711525, 43.93716261700332, 706.1430899776219, 39.31552576639621, 470.68024152685666, 423.9927375089418, 48.11560938696405, 266.94084668611237, 265.4623121190891, 1360.3903405881465, 380.1423722465969, 178.1543400358366, 92.86284597071949, 148.58072297145486, 118.75368557505459, 124.44008298442236, 133.9929730705161, 138.39223322962096, 700.8925357716929, 91.30989699120195, 1048.6542457431037, 1084.4196584752744, 196.235185004809, 1036.4917570494117, 174.01441201732808, 1359.8369707418187, 633.295957682226, 650.7338891957857, 823.0615416327549, 749.5241568673019, 236.62487506407967, 209.37994309138026, 885.8293295264582, 2008.5078667090004, 1728.6968433545244, 673.1525339013785, 1131.3437961589045, 1395.3004373041954], \"Category\": [\"Default\", \"Default\", \"Default\", \"Default\", \"Default\", \"Default\", \"Default\", \"Default\", \"Default\", \"Default\", \"Default\", \"Default\", \"Default\", \"Default\", \"Default\", \"Default\", \"Default\", \"Default\", \"Default\", \"Default\", \"Default\", \"Default\", \"Default\", \"Default\", \"Default\", \"Default\", \"Default\", \"Default\", \"Default\", \"Default\", \"Topic1\", \"Topic1\", \"Topic1\", \"Topic1\", \"Topic1\", \"Topic1\", \"Topic1\", \"Topic1\", \"Topic1\", \"Topic1\", \"Topic1\", \"Topic1\", \"Topic1\", \"Topic1\", \"Topic1\", \"Topic1\", \"Topic1\", \"Topic1\", \"Topic1\", \"Topic1\", \"Topic1\", \"Topic1\", \"Topic1\", \"Topic1\", \"Topic1\", \"Topic1\", \"Topic1\", \"Topic1\", \"Topic1\", \"Topic1\", \"Topic1\", \"Topic1\", \"Topic1\", \"Topic1\", \"Topic1\", \"Topic1\", \"Topic1\", \"Topic1\", \"Topic1\", \"Topic1\", \"Topic1\", \"Topic1\", \"Topic1\", \"Topic1\", \"Topic1\", \"Topic1\", \"Topic1\", \"Topic1\", \"Topic1\", \"Topic1\", \"Topic1\", \"Topic1\", \"Topic1\", \"Topic1\", \"Topic1\", \"Topic1\", \"Topic1\", \"Topic1\", \"Topic1\", \"Topic1\", \"Topic1\", \"Topic1\", \"Topic1\", \"Topic1\", \"Topic1\", \"Topic1\", \"Topic1\", \"Topic1\", \"Topic1\", \"Topic1\", \"Topic1\", \"Topic1\", \"Topic1\", \"Topic1\", \"Topic1\", \"Topic1\", \"Topic1\", \"Topic1\", \"Topic1\", \"Topic2\", \"Topic2\", \"Topic2\", \"Topic2\", \"Topic2\", \"Topic2\", \"Topic2\", \"Topic2\", \"Topic2\", \"Topic2\", \"Topic2\", \"Topic2\", \"Topic2\", \"Topic2\", \"Topic2\", \"Topic2\", \"Topic2\", \"Topic2\", \"Topic2\", \"Topic2\", \"Topic2\", \"Topic2\", \"Topic2\", \"Topic2\", \"Topic2\", \"Topic2\", \"Topic2\", \"Topic2\", \"Topic2\", \"Topic2\", \"Topic2\", \"Topic2\", \"Topic2\", \"Topic2\", \"Topic2\", \"Topic2\", \"Topic2\", \"Topic2\", \"Topic2\", \"Topic2\", \"Topic2\", \"Topic2\", \"Topic2\", \"Topic2\", \"Topic2\", \"Topic2\", \"Topic2\", \"Topic2\", \"Topic2\", \"Topic2\", \"Topic2\", \"Topic2\", \"Topic2\", \"Topic2\", \"Topic2\", \"Topic2\", \"Topic2\", \"Topic2\", \"Topic2\", \"Topic2\", \"Topic2\", \"Topic2\", \"Topic2\", \"Topic2\", \"Topic2\", \"Topic2\", \"Topic2\", \"Topic2\", \"Topic2\", \"Topic2\", \"Topic2\", \"Topic2\", \"Topic2\", \"Topic2\", \"Topic2\", \"Topic2\", \"Topic2\", \"Topic2\", \"Topic3\", \"Topic3\", \"Topic3\", \"Topic3\", \"Topic3\", \"Topic3\", \"Topic3\", \"Topic3\", \"Topic3\", \"Topic3\", \"Topic3\", \"Topic3\", \"Topic3\", \"Topic3\", \"Topic3\", \"Topic3\", \"Topic3\", \"Topic3\", \"Topic3\", \"Topic3\", \"Topic3\", \"Topic3\", \"Topic3\", \"Topic3\", \"Topic3\", \"Topic3\", \"Topic3\", \"Topic3\", \"Topic3\", \"Topic3\", \"Topic3\", \"Topic3\", \"Topic3\", \"Topic3\", \"Topic3\", \"Topic3\", \"Topic3\", \"Topic3\", \"Topic3\", \"Topic3\", \"Topic3\", \"Topic3\", \"Topic3\", \"Topic3\", \"Topic3\", \"Topic3\", \"Topic3\", \"Topic3\", \"Topic3\", \"Topic3\", \"Topic3\", \"Topic3\", \"Topic3\", \"Topic3\", \"Topic3\", \"Topic3\", \"Topic3\", \"Topic3\", \"Topic3\", \"Topic3\", \"Topic3\", \"Topic3\", \"Topic3\", \"Topic3\", \"Topic3\", \"Topic3\", \"Topic3\", \"Topic3\", \"Topic4\", \"Topic4\", \"Topic4\", \"Topic4\", \"Topic4\", \"Topic4\", \"Topic4\", \"Topic4\", \"Topic4\", \"Topic4\", \"Topic4\", \"Topic4\", \"Topic4\", \"Topic4\", \"Topic4\", \"Topic4\", \"Topic4\", \"Topic4\", \"Topic4\", \"Topic4\", \"Topic4\", \"Topic4\", \"Topic4\", \"Topic4\", \"Topic4\", \"Topic4\", \"Topic4\", \"Topic4\", \"Topic4\", \"Topic4\", \"Topic4\", \"Topic4\", \"Topic4\", \"Topic4\", \"Topic4\", \"Topic4\", \"Topic4\", \"Topic4\", \"Topic4\", \"Topic4\", \"Topic4\", \"Topic4\", \"Topic4\", \"Topic4\", \"Topic4\", \"Topic4\", \"Topic4\", \"Topic4\", \"Topic4\", \"Topic4\", \"Topic4\", \"Topic4\", \"Topic4\", \"Topic4\", \"Topic4\", \"Topic4\", \"Topic4\", \"Topic4\", \"Topic4\", \"Topic4\", \"Topic4\", \"Topic4\", \"Topic4\", \"Topic4\", \"Topic4\", \"Topic4\", \"Topic4\", \"Topic4\", \"Topic4\", \"Topic4\", \"Topic4\"], \"logprob\": [30.0, 29.0, 28.0, 27.0, 26.0, 25.0, 24.0, 23.0, 22.0, 21.0, 20.0, 19.0, 18.0, 17.0, 16.0, 15.0, 14.0, 13.0, 12.0, 11.0, 10.0, 9.0, 8.0, 7.0, 6.0, 5.0, 4.0, 3.0, 2.0, 1.0, -6.342, -6.0062, -6.2877, -6.3983, -6.7026, -6.7605, -6.8909, -7.0071, -7.0875, -6.8367, -7.1054, -7.128, -6.9903, -6.4066, -7.2707, -6.839, -7.163, -7.336, -7.2108, -7.3802, -6.7745, -7.3175, -7.3862, -7.4225, -7.4643, -7.3592, -7.5034, -7.5345, -7.4222, -7.5464, -4.2053, -5.4187, -6.0074, -6.5334, -6.2729, -6.8532, -5.2, -5.6416, -5.7334, -4.1629, -6.0749, -6.6087, -5.8304, -5.8066, -5.9821, -4.4843, -4.878, -6.2154, -4.7617, -4.44, -6.3324, -5.0668, -5.2475, -5.7545, -5.3391, -4.7033, -5.3302, -5.4809, -5.6832, -3.9726, -4.3355, -4.677, -4.4077, -4.1972, -4.6587, -4.7466, -4.0948, -5.1913, -4.7704, -4.298, -5.2251, -4.643, -4.4795, -4.6853, -4.9519, -4.8142, -5.0539, -5.0176, -5.2122, -5.0489, -5.9482, -5.2132, -6.1487, -6.1829, -5.6509, -6.5174, -6.7291, -6.7914, -4.5813, -6.8856, -6.9323, -6.9878, -6.961, -7.0041, -7.047, -7.1398, -6.5831, -7.2164, -7.2259, -7.2717, -7.176, -7.3057, -7.3458, -7.3451, -7.3537, -7.403, -7.3789, -7.4217, -7.3617, -6.5314, -7.2892, -6.5561, -3.9343, -6.7489, -5.0002, -4.0316, -5.5903, -5.6465, -5.08, -4.722, -6.5186, -6.7846, -5.5674, -4.4205, -4.3116, -5.7505, -4.5309, -5.2812, -6.5883, -5.5325, -3.845, -5.3724, -5.6643, -5.6788, -4.696, -5.3425, -5.0227, -4.9409, -4.828, -4.5678, -5.0556, -4.3498, -4.5228, -4.8564, -5.0651, -4.82, -5.1095, -4.9513, -4.4529, -4.567, -4.54, -5.0043, -4.8889, -4.8468, -4.9484, -4.9774, -5.0496, -4.6324, -4.0235, -5.7746, -5.8862, -5.7812, -6.0657, -6.3851, -6.2333, -6.1528, -6.4862, -6.394, -5.2461, -6.2868, -6.5815, -6.5604, -6.705, -6.7274, -6.746, -6.7362, -6.8244, -6.8588, -6.8953, -6.8843, -7.008, -7.0738, -7.1289, -7.2034, -7.1052, -6.2368, -7.3299, -6.4214, -3.9116, -4.1679, -5.7777, -4.797, -5.0507, -3.4778, -3.2636, -6.0792, -4.8033, -4.9104, -5.9398, -3.5608, -3.8468, -4.98, -5.1759, -5.7468, -4.6665, -5.2093, -4.0656, -4.62, -5.3348, -5.6069, -4.6081, -4.0826, -4.3725, -4.6188, -4.7633, -4.8677, -4.1291, -5.0231, -4.2844, -4.2659, -4.6547, -4.7187, -4.5799, -4.8688, -4.928, -4.9132, -5.7635, -6.2976, -6.0437, -6.435, -6.4625, -6.5797, -6.5823, -4.0635, -6.5754, -6.5936, -6.5271, -6.6786, -6.7494, -6.8091, -6.9754, -6.2995, -7.1677, -7.1642, -6.5155, -7.1735, -4.3149, -7.2377, -6.247, -7.2741, -6.4912, -7.0551, -7.2675, -7.3608, -7.3906, -4.7419, -6.2493, -4.3713, -3.9836, -6.1964, -3.5812, -6.331, -4.0228, -4.1449, -6.1482, -4.6287, -4.6412, -3.2605, -4.3735, -5.0559, -5.6038, -5.2334, -5.4162, -5.3789, -5.3439, -5.3438, -4.1794, -5.6886, -3.9496, -3.9476, -5.1462, -4.0255, -5.2523, -3.8677, -4.3816, -4.3839, -4.3859, -4.5106, -5.1084, -5.1697, -4.6597, -4.4459, -4.5522, -4.9142, -4.9568, -4.9887], \"loglift\": [30.0, 29.0, 28.0, 27.0, 26.0, 25.0, 24.0, 23.0, 22.0, 21.0, 20.0, 19.0, 18.0, 17.0, 16.0, 15.0, 14.0, 13.0, 12.0, 11.0, 10.0, 9.0, 8.0, 7.0, 6.0, 5.0, 4.0, 3.0, 2.0, 1.0, 0.7186, 0.7186, 0.7186, 0.7184, 0.7175, 0.7174, 0.7169, 0.7164, 0.7161, 0.7159, 0.7158, 0.7156, 0.7155, 0.7151, 0.7151, 0.7149, 0.7147, 0.7146, 0.7145, 0.7144, 0.7142, 0.7142, 0.7141, 0.7141, 0.7138, 0.7134, 0.7133, 0.7133, 0.7132, 0.7132, 0.7025, 0.7079, 0.7105, 0.7128, 0.71, 0.7121, 0.6916, 0.6947, 0.695, 0.66, 0.6975, 0.7053, 0.6883, 0.6839, 0.6836, 0.6326, 0.6466, 0.6848, 0.6186, 0.5975, 0.688, 0.6089, 0.6132, 0.6468, 0.6102, 0.5526, 0.5921, 0.5959, 0.6179, 0.3794, 0.419, 0.4691, 0.4276, 0.3931, 0.4579, 0.4636, 0.3388, 0.5267, 0.4299, 0.1363, 0.4585, 0.2359, 0.1042, 0.1716, 0.271, -0.0163, 0.1326, 0.0035, 0.2521, 1.5262, 1.5236, 1.5231, 1.523, 1.5227, 1.522, 1.5203, 1.5185, 1.518, 1.5169, 1.5168, 1.5164, 1.5158, 1.5157, 1.5151, 1.5149, 1.5135, 1.5134, 1.5125, 1.5123, 1.5113, 1.5109, 1.5108, 1.5103, 1.5102, 1.5101, 1.5092, 1.509, 1.5088, 1.5087, 1.5043, 1.5078, 1.4903, 1.4029, 1.48, 1.3763, 1.2923, 1.3967, 1.4007, 1.3552, 1.2825, 1.4502, 1.4675, 1.2602, 1.068, 1.0335, 1.2783, 1.0297, 1.0997, 1.4238, 1.1231, 0.5894, 1.0486, 1.1253, 1.127, 0.7408, 0.9353, 0.7784, 0.7362, 0.6395, 0.4821, 0.7606, 0.2338, 0.3341, 0.527, 0.7041, 0.4323, 0.7118, 0.5351, -0.1009, 0.0234, -0.1064, 0.5167, 0.2063, -0.0923, -0.1131, -0.1542, -0.226, 1.7329, 1.7316, 1.7293, 1.7288, 1.7285, 1.7277, 1.7264, 1.7263, 1.7261, 1.7256, 1.7255, 1.7255, 1.7249, 1.7247, 1.7239, 1.7234, 1.723, 1.7229, 1.7228, 1.7221, 1.7217, 1.7212, 1.721, 1.7196, 1.7187, 1.7176, 1.7165, 1.7159, 1.7156, 1.7142, 1.7096, 1.6717, 1.6718, 1.6946, 1.6627, 1.6689, 1.6004, 1.5743, 1.686, 1.6142, 1.6203, 1.6645, 1.4468, 1.4506, 1.5484, 1.56, 1.6183, 1.4365, 1.516, 1.2601, 1.3235, 1.4686, 1.5312, 1.1951, 1.0009, 1.095, 1.1504, 1.1696, 1.1579, 0.7499, 1.2397, 0.7367, 0.5319, 0.7288, 0.6265, 0.2437, 0.354, 0.1219, 2.1137, 2.1107, 2.1062, 2.106, 2.1046, 2.1028, 2.1026, 2.1026, 2.1026, 2.1026, 2.102, 2.1014, 2.1011, 2.0999, 2.0989, 2.0956, 2.0938, 2.0911, 2.0911, 2.091, 2.0909, 2.09, 2.0892, 2.089, 2.0882, 2.0877, 2.0874, 2.0874, 2.0856, 2.0845, 2.0792, 2.073, 2.0225, 1.9992, 2.0596, 1.8977, 2.0361, 1.8618, 1.8441, 2.0169, 1.823, 1.8161, 1.5627, 1.7247, 1.8002, 1.9039, 1.8043, 1.8455, 1.836, 1.797, 1.7648, 1.307, 1.8359, 1.1339, 1.1023, 1.6132, 1.0696, 1.6273, 0.956, 1.2062, 1.1767, 0.9398, 0.9087, 1.4639, 1.5248, 0.5925, -0.0123, 0.0314, 0.6126, 0.0508, -0.1908]}, \"token.table\": {\"Topic\": [4, 3, 3, 2, 3, 2, 1, 2, 3, 4, 1, 3, 2, 3, 4, 2, 3, 4, 2, 3, 1, 2, 3, 4, 3, 1, 4, 4, 4, 1, 1, 2, 4, 1, 2, 3, 4, 1, 3, 1, 2, 3, 4, 3, 1, 2, 4, 1, 2, 3, 4, 2, 3, 1, 2, 3, 1, 2, 3, 4, 3, 4, 4, 4, 1, 4, 2, 2, 2, 1, 4, 1, 3, 1, 2, 3, 4, 1, 2, 3, 4, 3, 2, 3, 1, 2, 3, 4, 2, 2, 3, 2, 1, 2, 4, 1, 2, 3, 4, 1, 2, 3, 4, 2, 1, 2, 3, 4, 1, 2, 3, 4, 2, 3, 4, 2, 3, 1, 2, 3, 3, 2, 1, 2, 3, 4, 1, 2, 3, 4, 3, 1, 2, 3, 4, 2, 1, 2, 3, 4, 2, 3, 4, 1, 2, 3, 4, 1, 2, 3, 4, 2, 3, 4, 1, 1, 2, 3, 4, 1, 2, 3, 4, 1, 4, 1, 2, 3, 4, 1, 4, 4, 1, 2, 3, 4, 1, 2, 3, 4, 1, 1, 2, 4, 2, 4, 1, 2, 4, 1, 2, 3, 4, 4, 4, 3, 4, 4, 1, 1, 2, 3, 4, 2, 3, 4, 4, 1, 1, 2, 4, 1, 2, 3, 4, 1, 4, 1, 3, 4, 4, 1, 2, 3, 4, 3, 1, 2, 3, 4, 2, 3, 4, 1, 2, 3, 4, 2, 3, 4, 1, 4, 1, 2, 3, 4, 2, 3, 1, 2, 3, 4, 1, 2, 1, 2, 4, 1, 2, 2, 2, 1, 2, 3, 4, 1, 2, 3, 4, 1, 1, 3, 4, 1, 1, 2, 3, 4, 3, 3, 3, 1, 1, 2, 4, 1, 2, 3, 4, 3, 1, 2, 3, 4, 2, 2, 3, 1, 2, 3, 1, 2, 3, 4, 1, 2, 3, 4, 2, 3, 4, 1, 2, 3, 3, 2, 3, 4, 4, 1, 2, 3, 4, 3, 2, 1, 3, 4, 1, 2, 1, 1, 1, 2, 3, 4, 1, 2, 3, 4, 4, 2, 4, 1, 1, 2, 3, 4, 1, 2, 3, 4, 1, 1, 2, 3, 4, 1, 2, 3, 1, 2, 3, 4, 1, 2, 3, 4, 1, 2, 3, 4, 1, 2, 3, 4, 1, 2, 3, 4, 1, 1, 2, 3, 4, 2, 2, 3, 4, 4, 2, 1, 2, 3, 4, 2, 3, 4, 2, 3, 4, 1, 2, 3, 4, 1, 2, 3, 4, 1, 2, 3, 4, 1, 2, 3, 4, 1, 3, 4, 4, 1, 1, 2, 1, 1, 2, 3, 4, 1, 2, 3, 1, 2, 4, 2, 3, 4, 1, 2, 3, 4, 2, 3, 4, 1, 2, 3, 4, 1, 2, 1, 2, 4, 1, 2, 3, 4, 3, 1, 2, 3, 4, 1, 2, 3, 3, 4, 1, 2, 3, 4, 2, 1, 2, 3, 1, 3, 1, 2, 1, 2, 2, 4, 2, 3, 4, 1, 2, 3, 4, 1, 2, 3, 4, 1, 2, 3, 4, 1, 2, 1, 1, 2, 3, 4, 1, 1, 2, 3, 4, 2, 3, 2, 3, 3, 4, 4, 1, 2, 3, 4, 2, 2, 1, 2, 3, 3, 1, 1, 2, 3, 4, 2, 1, 1, 2, 3, 4, 1, 2, 3, 4, 2, 3, 4, 2, 1, 2, 3, 4, 3, 1, 2, 3, 4, 1, 2, 3, 1, 2, 3, 4, 1, 2, 3, 4, 1, 3, 4, 4, 2, 3, 1, 2, 3, 3, 1, 1, 2, 3, 1, 2, 1, 2, 4, 1, 2, 3, 4, 4, 1, 1, 2, 3, 4, 1, 2, 2, 3, 4, 1, 2, 3, 4, 1, 2, 3, 4, 2, 1, 4], \"Freq\": [0.9962849055950049, 0.9759880857923025, 0.9983257556601145, 0.05973297096627293, 0.9400083325745057, 0.9953777415452937, 0.9877472679469772, 0.010824627593939476, 0.03143623059131069, 0.9745231483306314, 0.9895093522182502, 0.9725756560372747, 0.009375313685534473, 0.10078462211949558, 0.8883109717043913, 0.08287428759428032, 0.1770496144059625, 0.7383345622035884, 0.9774320339064008, 1.0012849807692183, 0.8834136332662328, 0.09107357043981781, 0.008196621339583604, 0.017303978383565385, 0.9888459877427878, 0.03231542175407913, 0.9694626526223739, 0.9887224726543651, 1.0013440888278946, 0.9822502404481431, 0.9618885860396409, 0.0038942857734398416, 0.031154286187518733, 0.5570715097574033, 0.3911459169584629, 0.0019931002138010847, 0.04982750534502712, 0.020085817214786986, 0.9842050435245622, 0.06419307952893331, 0.00377606350170196, 0.9326876849203841, 0.00377606350170196, 0.9978019918278405, 0.9658674742195611, 0.026462122581357838, 0.0066155306453394595, 0.10985992298408753, 0.37095558410211377, 0.07561786906696934, 0.4451467009225365, 0.006300104014123968, 0.9891163302174629, 0.378355330506612, 0.009303819602621607, 0.6109508205721522, 0.49182666210451415, 0.36333140804117264, 0.09747915825494875, 0.045785665240960775, 0.9744042314688698, 0.016800072956359824, 0.9823370546548414, 0.9941713012235576, 0.026110186029087715, 0.9660768830762455, 0.9896748464232993, 0.9976070988278802, 0.9651343931904051, 1.0019817350833857, 0.9785587486167879, 0.9901292995649742, 0.9859456276598548, 0.6252425323740481, 0.1646844170092359, 0.19678392201951067, 0.012560675873585787, 0.8982261152071953, 0.06223275624992115, 0.00414885041666141, 0.03319080333329128, 0.9811558889944868, 0.7805632896928283, 0.22015887658002847, 0.0008839046127226419, 0.12197883655572458, 0.750435016201523, 0.1263983596193378, 0.9880370481182271, 0.05876687499385758, 0.9353727603188998, 0.977185617157323, 0.07091989314685314, 0.7637526954276492, 0.1636612918773534, 0.007441736369756419, 0.17860167287415404, 0.8185910006732061, 0.9561508171679634, 0.19874111770039737, 0.17326148722598744, 0.020383704379527936, 0.606415205290956, 0.9930804308889807, 0.7728878442262092, 0.17319615556889842, 0.03247427916916845, 0.021649519446112302, 0.914986708968899, 0.07296230222381306, 0.0009859770570785549, 0.010845747627864104, 0.08485100581019549, 0.0035354585754248115, 0.9086128538841766, 0.04179735789497573, 0.9474067789527834, 0.3455112422712792, 0.6526323465124163, 0.0034900125481947394, 0.9849320924136241, 0.9939644336982568, 0.08668230907227072, 0.35133999740994837, 0.19918488042138804, 0.3624058241000255, 0.17685254207196305, 0.29528058363800974, 0.1247442037829025, 0.4026553413245587, 0.9729344788431711, 0.6155734117786679, 0.003108956625144787, 0.37385203417366064, 0.007772391562861967, 0.9613794991760124, 0.28943790238526557, 0.2662828701944443, 0.09358492177123585, 0.3511846548941222, 0.02298660182009342, 0.3620389786664714, 0.614891598687499, 0.7699024199354433, 0.21724108914656978, 0.0017379287131725582, 0.012165500992207907, 0.9022374962046888, 0.05800098189887286, 0.012889107088638413, 0.025778214177276826, 0.010951715344683323, 0.22998602223834977, 0.7556683587831493, 0.9889138322981563, 0.5397129077817484, 0.2741949820884767, 0.0618963356191287, 0.1243711416646044, 0.23243541062665374, 0.24088760737671389, 0.004226098375030068, 0.5198101001286983, 0.9849137630500736, 0.017746193928830156, 0.6820983988699958, 0.19516976084455354, 0.003983056343766399, 0.11899380827002115, 0.08313310484816844, 0.9144641533298528, 0.9910075891626002, 0.033977716881882176, 0.8766250955525602, 0.0067955433763764355, 0.07475097714014078, 0.7469924197039517, 0.03965383002732598, 0.17576292228328275, 0.03751037975557863, 0.9932245883096215, 0.895334234877368, 0.09520009586037836, 0.009066675796226512, 0.986050631842706, 0.9762236898793949, 0.9875830214193956, 0.004889024858511859, 0.004889024858511859, 0.3517858949822869, 0.4729565921428524, 0.003908732166469855, 0.17198421532467362, 0.9990905675866093, 0.9760115042010328, 1.001631758787876, 0.9973451004835105, 0.9923083891232742, 0.991233610536966, 0.3778217701022277, 0.6175932780517185, 0.9927955313262774, 0.9943370100211673, 0.6070069602309536, 0.0015367264815973507, 0.3903285263257271, 0.976990450500696, 0.9979018376313453, 0.969370407268092, 0.024033977039704762, 0.004005662839950793, 0.6380084745866514, 0.03398326926492474, 0.25103769876347626, 0.07673641446918489, 0.996493509845954, 0.9633392596770948, 0.14464792668334425, 0.10446794704908195, 0.755383617124131, 0.989140968399513, 0.9713919511386243, 0.02139629848322961, 0.004279259696645922, 0.004279259696645922, 0.9847955358696954, 0.823759824051337, 0.08993011179599748, 0.0017986022359199496, 0.08453430508823763, 0.9960043414653452, 0.07630573269769576, 0.9156687923723492, 0.9020626310726941, 0.012831616373722533, 0.05902543531912365, 0.025663232747445065, 0.009552013294449768, 0.43939261154468934, 0.5540167710780866, 0.9949848231208887, 0.008291540192674071, 0.10108193470850407, 0.044819348408487655, 0.4806159914442081, 0.3738124377899396, 0.14769861714471808, 0.851877882723576, 0.5770857630206481, 0.3026088717815783, 0.07603237984461766, 0.044098780309878245, 0.12157524669701372, 0.8766215156574148, 0.43131114215508226, 0.5509448896141562, 0.01259302604832357, 0.010522203777515842, 0.9890871550864893, 0.9806240715438094, 0.984810583146612, 0.4882727578749042, 0.08063219854814932, 0.3691162866870835, 0.06271393220411614, 0.9746189039301342, 0.020026415834180838, 0.0033377359723634733, 0.0033377359723634733, 0.9931271881609479, 0.9757283278966303, 0.005162583745484816, 0.020650334981939265, 0.9934238994045584, 0.7776194827878907, 0.0730921707059114, 0.11471410124677761, 0.0345157472777915, 0.998986160649002, 0.995106364548302, 1.000578347585184, 0.9933138718684377, 0.9876601955895582, 0.006372001261868117, 0.006372001261868117, 0.5085470311560685, 0.4427350624182243, 0.015954416663719793, 0.033903135410404565, 0.9927170442855291, 0.18535504163330518, 0.3668485198992498, 0.36556133211012964, 0.08109283071457102, 0.9965605034522571, 0.9677995300965554, 0.018260368492387838, 0.00378610482525793, 0.43918815972991987, 0.5584504617255447, 1.0002913566947906, 0.03981795120115148, 0.841154219124325, 0.11945385360345444, 0.010622923077842229, 0.16996676924547566, 0.044616276926937364, 0.7754733846824827, 0.06057313371485659, 0.20864079390672827, 0.7336079527688187, 0.03353705282552195, 0.7809342300800111, 0.18445379054037073, 0.9984282240644576, 0.17236664028905846, 0.8027360676319009, 0.019699044604463825, 0.9729824688388574, 0.7204215508476014, 0.22189216723762015, 0.003494364838387719, 0.05416265499500964, 0.9832906388429213, 0.9844133095486319, 0.9974946274748214, 0.024655725677173453, 0.9615733014097646, 0.33087422087418994, 0.6670004135082876, 0.9977880573300161, 1.0008607848899909, 0.11521207781764697, 0.7895059227293493, 0.07882931640154793, 0.015765863280309586, 0.8781056618826211, 0.10590219037780355, 0.002206295632870907, 0.013237773797225443, 0.9927126811993244, 0.024320708221200575, 0.9485076206268224, 0.9992875022728703, 0.8452205249166123, 0.14162542307583986, 0.004532013538426876, 0.009064027076853751, 0.2756062640389582, 0.6660484714274824, 0.027560626403895824, 0.03215406413787846, 0.9979908998706202, 0.008504831833247479, 0.06074879880891057, 0.6220676998032443, 0.3086038979492657, 0.11209354188325163, 0.6672234635907835, 0.218849296057777, 0.1320364578496339, 0.8582369760226203, 0.0034746436276219443, 0.006949287255243889, 0.32177953357071487, 0.4548360495619809, 0.09096720991239618, 0.13305651599126606, 0.9406151839874707, 0.01837139031225529, 0.01984110153723571, 0.02057595714972592, 0.2965523092261405, 0.09810753087180589, 0.5685777357343296, 0.03567546577156577, 0.9296239798990342, 0.0213706662045755, 0.042741332409151, 0.01068533310228775, 0.9852029888998474, 0.7455347294058663, 0.19345212539473577, 0.04761898471255034, 0.013392839450404783, 0.9953624664501345, 0.8824939810129214, 0.11676452395017763, 0.001229100252107133, 0.9982563694124436, 0.9935164518512486, 0.9815081707238693, 0.006399401276113248, 0.00959910191416987, 0.0023997754785424676, 0.9946126558826842, 0.025024400948959896, 0.972376722588156, 0.03368316512140521, 0.20209899072843127, 0.7578712152316173, 0.004044746202837998, 0.15774510191068192, 0.8291729715817896, 0.008089492405675996, 0.2890052325799103, 0.17281483373098963, 0.22502697498588436, 0.3132728475293684, 0.02710162450441323, 0.005420324900882646, 0.005420324900882646, 0.964817832357111, 0.21390919305865555, 0.18597603382762837, 0.025727909818051353, 0.5740999305113745, 0.03371533473325207, 0.2210227499179858, 0.7454835124352402, 0.9718157157731134, 0.9925486236505208, 0.9896652673289624, 0.9889267758423773, 0.9998576450619612, 0.49468728591131883, 0.23025984779655984, 0.05347970658500744, 0.22283211077086434, 0.02845881645470096, 0.09675997594598326, 0.8746342923744761, 0.002815187604899371, 0.008445562814698113, 0.9853156617147798, 0.02372326956080344, 0.9370691476517359, 0.03558490434120516, 0.9279906264026765, 0.008894478847309999, 0.02964826282436666, 0.03261308910680333, 0.10540365184179018, 0.8918770540459169, 0.004053986609299622, 0.08254858374611161, 0.09669976953115932, 0.061321805068540056, 0.7618055014284014, 0.04534111694823184, 0.9294928974387527, 0.3660270673017786, 0.6305388151565795, 0.002859586463295145, 0.09774577845100235, 0.014480856066815163, 0.8869524340924286, 0.0036202140167037908, 0.9998619778328833, 0.09541204439531187, 0.092965581718509, 0.5626864156646597, 0.2519856557106954, 0.06831589576592231, 0.9222645928399512, 0.985650514145005, 0.2686708054537635, 0.7239185591393072, 0.8831515194582241, 0.04892092964928938, 0.0025747857710152304, 0.06436964427538076, 0.9820101384873827, 0.023790451950062873, 0.23261775240061477, 0.7427907775519631, 0.9877382424507419, 0.9952367778088201, 0.9979275964036858, 0.9897364295605583, 0.9735145285858576, 0.02195897432900431, 0.9598062078586719, 0.03691562337917969, 0.07225839027691648, 0.22400100985844107, 0.7009063856860898, 0.9651139802438229, 0.018559884235458134, 0.004639971058864534, 0.0139199131765936, 0.08419665777989285, 0.17400642607844524, 0.011226221037319047, 0.7297043674257381, 0.5363402851219528, 0.021346877019779217, 0.1440914198835097, 0.298856278276909, 0.04430381223365492, 0.9525319630235808, 0.9924900336626329, 0.89484168087361, 0.027586641414215338, 0.04310412720971146, 0.03448330176776917, 0.9944969569585862, 0.7391096944217925, 0.19764493221306986, 0.04392109604734886, 0.019215479520715128, 0.0018665866685979135, 0.9967572810312858, 0.031184813662259583, 0.9563342856426271, 0.3235629831872843, 0.676062493326277, 0.9610936217241134, 0.037800222413864215, 0.4116024218398548, 0.5278031055565485, 0.022400131800808427, 0.9829124641509999, 0.9933519115625228, 0.059465202303798356, 0.6095183236139331, 0.33077518781487836, 1.0010911920573908, 0.9847564153552822, 0.49207296899447417, 0.4523618171107096, 0.02589857731549864, 0.027625149136531885, 1.0011842954083956, 0.9989038743987533, 0.23111864565427997, 0.05680034511842474, 0.5836725119065714, 0.12926975095917353, 0.07987939513161373, 0.053252930087742484, 0.7668421932634918, 0.10118056716671073, 0.010768569383661893, 0.18306567952225217, 0.8076427037746419, 0.9973196863478815, 0.014173371376579372, 0.22677394202526996, 0.7535509115214699, 0.0059055714069080716, 0.9737789841759923, 0.31383020490934943, 0.33415014623441525, 0.13433738987126828, 0.21787492642987208, 0.0178355674854971, 0.891778374274855, 0.0713422699419884, 0.1388962744949735, 0.46431040331176854, 0.3154929663528684, 0.08333776469698409, 0.768876446120375, 0.14096068178873541, 0.004928695167438301, 0.08575929591342643, 0.040627103732673094, 0.9384860962247485, 0.020313551866336547, 0.9988088647356126, 0.9637764938635252, 0.9759290350791865, 0.15476621310477207, 0.8401594425687626, 1.0006031537739433, 0.9791358823978662, 0.9985837432105398, 0.10271466687636595, 0.00933769698876054, 0.8870812139322514, 0.004979147026534595, 0.995829405306919, 0.9620519244303506, 0.02933085135458386, 0.005866170270916772, 0.2523919950732389, 0.08112599841639823, 0.6625289870672522, 0.004506999912022124, 0.989143288319047, 0.9956647630590901, 0.5549631047148743, 0.15538966932016482, 0.19978671769735476, 0.09090824191519846, 0.9885587646182221, 0.9911939724618919, 0.05664574300552544, 0.14019821393867546, 0.8029534071033232, 0.7107704838204082, 0.1959322121312552, 0.07525265290287085, 0.01789544794641441, 0.47803324801408664, 0.12183755946386017, 0.3002937495021024, 0.09962012214986214, 0.9676749732337966, 0.04551955294505104, 0.9331508353735464], \"Term\": [\"absent\", \"acceuil\", \"accompagn\", \"accueil\", \"accueil\", \"action\", \"adress\", \"adress\", \"affich\", \"affich\", \"affirm\", \"agac\", \"agr\\u00e9abl\", \"agr\\u00e9abl\", \"agr\\u00e9abl\", \"aimabl\", \"aimabl\", \"aimabl\", \"ais\", \"ajust\", \"alor\", \"alor\", \"alor\", \"alor\", \"amabl\", \"ami\", \"ami\", \"amis\", \"analys\", \"apparaissent\", \"appart\", \"appart\", \"appart\", \"appel\", \"appel\", \"appel\", \"appel\", \"appli\", \"appli\", \"appliqu\", \"appliqu\", \"appliqu\", \"appliqu\", \"apprec\", \"arnaqu\", \"arnaqu\", \"arnaqu\", \"attent\", \"attent\", \"attent\", \"attent\", \"attract\", \"attract\", \"augment\", \"augment\", \"augment\", \"autr\", \"autr\", \"autr\", \"autr\", \"baiss\", \"baiss\", \"balad\", \"band\", \"budget\", \"budget\", \"bug\", \"b\\u00e9mol\", \"calm\", \"cb\", \"centr\", \"cess\", \"chaleur\", \"chang\", \"chang\", \"chang\", \"chang\", \"chaqu\", \"chaqu\", \"chaqu\", \"chaqu\", \"chemin\", \"choix\", \"choix\", \"clair\", \"clair\", \"clair\", \"clair\", \"clart\", \"cod\", \"cod\", \"command\", \"commun\", \"commun\", \"commun\", \"compar\", \"compar\", \"compar\", \"compet\", \"comprendr\", \"comprendr\", \"comprendr\", \"comprendr\", \"compr\\u00e9hensibl\", \"compt\", \"compt\", \"compt\", \"compt\", \"compteur\", \"compteur\", \"compteur\", \"compteur\", \"comp\\u00e9tent\", \"comp\\u00e9tent\", \"comp\\u00e9tent\", \"comp\\u00e9tit\", \"comp\\u00e9tit\", \"confirm\", \"confirm\", \"confirm\", \"confus\", \"connect\", \"conseil\", \"conseil\", \"conseil\", \"conseil\", \"conseiller\", \"conseiller\", \"conseiller\", \"conseiller\", \"conserv\", \"consomm\", \"consomm\", \"consomm\", \"consomm\", \"cons\\u00e9quent\", \"contact\", \"contact\", \"contact\", \"contact\", \"content\", \"content\", \"content\", \"coup\", \"coup\", \"coup\", \"coup\", \"coupur\", \"coupur\", \"coupur\", \"coupur\", \"courtois\", \"courtois\", \"courtois\", \"cr\\u00e9ation\", \"dan\", \"dan\", \"dan\", \"dan\", \"del\", \"del\", \"del\", \"del\", \"dem\", \"dem\", \"demand\", \"demand\", \"demand\", \"demand\", \"devient\", \"devient\", \"dialogu\", \"difficil\", \"difficil\", \"difficil\", \"difficil\", \"direct\", \"direct\", \"direct\", \"direct\", \"dirig\", \"dis\", \"dis\", \"dis\", \"disponibil\", \"diver\", \"dois\", \"dois\", \"dois\", \"dossi\", \"dossi\", \"dossi\", \"dossi\", \"douch\", \"d\\u00e9croch\", \"d\\u00e9di\", \"d\\u00e9pannag\", \"d\\u00e9plac\", \"d\\u00e9plor\", \"d\\u00fb\", \"d\\u00fb\", \"ecout\", \"edf\", \"efficac\", \"efficac\", \"efficac\", \"effort\", \"email\", \"ened\", \"ened\", \"ened\", \"energ\", \"energ\", \"energ\", \"energ\", \"enregistr\", \"entrer\", \"entretien\", \"entretien\", \"entretien\", \"entr\\u00e9\", \"envoi\", \"envoi\", \"envoi\", \"envoi\", \"ergonom\", \"erreur\", \"erreur\", \"erreur\", \"erreur\", \"essentiel\", \"euro\", \"euro\", \"euros\", \"euros\", \"euros\", \"euros\", \"excellent\", \"excellent\", \"excellent\", \"exorbit\", \"exorbit\", \"expliqu\", \"expliqu\", \"expliqu\", \"expliqu\", \"facil\", \"facil\", \"fair\", \"fair\", \"fair\", \"fair\", \"fallu\", \"fallu\", \"final\", \"final\", \"final\", \"finalis\", \"finalis\", \"fluid\", \"fonctionnel\", \"fournisseur\", \"fournisseur\", \"fournisseur\", \"fournisseur\", \"frais\", \"frais\", \"frais\", \"frais\", \"frigo\", \"fuir\", \"fuir\", \"fuir\", \"galer\", \"gaz\", \"gaz\", \"gaz\", \"gaz\", \"gentilless\", \"global\", \"g\\u00e9nial\", \"habit\", \"harcel\", \"harcel\", \"harcel\", \"heur\", \"heur\", \"heur\", \"heur\", \"impecc\", \"inform\", \"inform\", \"inform\", \"inform\", \"informat\", \"initial\", \"initial\", \"inscript\", \"inscript\", \"inscript\", \"inscrit\", \"instant\", \"instant\", \"instant\", \"interlocuteur\", \"interlocuteur\", \"interlocuteur\", \"interlocuteur\", \"interlocutric\", \"interlocutric\", \"interlocutric\", \"internet\", \"internet\", \"internet\", \"intuit\", \"int\\u00e9ress\", \"int\\u00e9ress\", \"int\\u00e9ress\", \"isol\", \"jour\", \"jour\", \"jour\", \"jour\", \"jug\", \"labori\", \"lanc\", \"lav\", \"lav\", \"lendemain\", \"lendemain\", \"lettr\", \"lien\", \"lign\", \"lign\", \"lign\", \"lign\", \"log\", \"log\", \"log\", \"log\", \"logiciel\", \"machin\", \"machin\", \"mai\", \"mail\", \"mail\", \"mail\", \"mail\", \"manqu\", \"manqu\", \"manqu\", \"manqu\", \"mem\", \"merc\", \"merc\", \"merc\", \"merc\", \"mieux\", \"mieux\", \"mieux\", \"minut\", \"minut\", \"minut\", \"minut\", \"mis\", \"mis\", \"mis\", \"mis\", \"mois\", \"mois\", \"mois\", \"mois\", \"moment\", \"moment\", \"moment\", \"moment\", \"mont\", \"mont\", \"mont\", \"mont\", \"m\\u00e9diocr\", \"m\\u00eam\", \"m\\u00eam\", \"m\\u00eam\", \"m\\u00eam\", \"noir\", \"offre\", \"offre\", \"offre\", \"oubl\", \"pag\", \"pai\", \"pai\", \"pai\", \"pai\", \"parcour\", \"parf\", \"parf\", \"parfait\", \"parfait\", \"parfait\", \"parrainag\", \"parrainag\", \"parrainag\", \"parrainag\", \"pass\", \"pass\", \"pass\", \"pass\", \"patient\", \"patient\", \"patient\", \"patient\", \"person\", \"person\", \"person\", \"person\", \"personnel\", \"personnel\", \"personnel\", \"pertinent\", \"pir\", \"prelev\", \"press\", \"principal\", \"pris\", \"pris\", \"pris\", \"pris\", \"prix\", \"prix\", \"prix\", \"professionnel\", \"professionnel\", \"professionnel\", \"proposit\", \"proposit\", \"proposit\", \"pr\\u00e9lev\", \"pr\\u00e9lev\", \"pr\\u00e9lev\", \"pr\\u00e9lev\", \"qualit\", \"qualit\", \"qualit\", \"question\", \"question\", \"question\", \"question\", \"raccord\", \"raccord\", \"rappel\", \"rappel\", \"rappel\", \"rapport\", \"rapport\", \"rapport\", \"rapport\", \"ras\", \"recommand\", \"recommand\", \"recommand\", \"recommand\", \"recommenc\", \"recommenc\", \"recul\", \"redir\", \"redir\", \"regl\", \"regl\", \"regl\", \"regl\", \"remerci\", \"renseign\", \"renseign\", \"renseign\", \"reprend\", \"respectu\", \"retard\", \"revoir\", \"re\\u00e7ois\", \"re\\u00e7ois\", \"rib\", \"rib\", \"r\\u00e9actif\", \"r\\u00e9actif\", \"r\\u00e9actif\", \"r\\u00e9clam\", \"r\\u00e9clam\", \"r\\u00e9clam\", \"r\\u00e9clam\", \"r\\u00e9pondu\", \"r\\u00e9pondu\", \"r\\u00e9pondu\", \"r\\u00e9pondu\", \"r\\u00e9pons\", \"r\\u00e9pons\", \"r\\u00e9pons\", \"r\\u00e9pons\", \"r\\u00e9seau\", \"r\\u00e9seau\", \"r\\u00e9sident\", \"r\\u00e9sili\", \"r\\u00e9sili\", \"r\\u00e9sili\", \"r\\u00e9sili\", \"samed\", \"san\", \"san\", \"san\", \"san\", \"satisf\", \"satisf\", \"satisfais\", \"satisfais\", \"satisfait\", \"satisfait\", \"serieux\", \"simpl\", \"simpl\", \"simpl\", \"simpl\", \"simpliqu\", \"simul\", \"sit\", \"sit\", \"sit\", \"soigneux\", \"sold\", \"souscr\", \"souscr\", \"souscr\", \"souscr\", \"souscrit\", \"spring\", \"suiv\", \"suiv\", \"suiv\", \"suiv\", \"suivr\", \"suivr\", \"suivr\", \"suivr\", \"symp\", \"symp\", \"symp\", \"sympath\", \"tarif\", \"tarif\", \"tarif\", \"tarif\", \"tde\", \"temp\", \"temp\", \"temp\", \"temp\", \"term\", \"term\", \"term\", \"totalenerg\", \"totalenerg\", \"totalenerg\", \"totalenerg\", \"toujour\", \"toujour\", \"toujour\", \"toujour\", \"tre\", \"tre\", \"tre\", \"tr\\u00e9\", \"urgent\", \"usag\", \"valid\", \"valid\", \"veil\", \"vendeur\", \"vendred\", \"verr\", \"verr\", \"verr\", \"vert\", \"vert\", \"veux\", \"veux\", \"veux\", \"voir\", \"voir\", \"voir\", \"voir\", \"voix\", \"voleur\", \"votr\", \"votr\", \"votr\", \"votr\", \"week\", \"\\u00e2g\\u00e9\", \"\\u00e9cout\", \"\\u00e9cout\", \"\\u00e9cout\", \"\\u00e9lectr\", \"\\u00e9lectr\", \"\\u00e9lectr\", \"\\u00e9lectr\", \"\\u00e9nerg\", \"\\u00e9nerg\", \"\\u00e9nerg\", \"\\u00e9nerg\", \"\\u00e9nerv\", \"\\u00e9volu\", \"\\u00e9volu\"]}, \"R\": 30, \"lambda.step\": 0.01, \"plot.opts\": {\"xlab\": \"PC1\", \"ylab\": \"PC2\"}, \"topic.order\": [1, 4, 2, 3]};\n",
              "\n",
              "function LDAvis_load_lib(url, callback){\n",
              "  var s = document.createElement('script');\n",
              "  s.src = url;\n",
              "  s.async = true;\n",
              "  s.onreadystatechange = s.onload = callback;\n",
              "  s.onerror = function(){console.warn(\"failed to load library \" + url);};\n",
              "  document.getElementsByTagName(\"head\")[0].appendChild(s);\n",
              "}\n",
              "\n",
              "if(typeof(LDAvis) !== \"undefined\"){\n",
              "   // already loaded: just create the visualization\n",
              "   !function(LDAvis){\n",
              "       new LDAvis(\"#\" + \"ldavis_el165002191846885408610622170\", ldavis_el165002191846885408610622170_data);\n",
              "   }(LDAvis);\n",
              "}else if(typeof define === \"function\" && define.amd){\n",
              "   // require.js is available: use it to load d3/LDAvis\n",
              "   require.config({paths: {d3: \"https://d3js.org/d3.v5\"}});\n",
              "   require([\"d3\"], function(d3){\n",
              "      window.d3 = d3;\n",
              "      LDAvis_load_lib(\"https://cdn.jsdelivr.net/gh/bmabey/pyLDAvis@3.3.1/pyLDAvis/js/ldavis.v3.0.0.js\", function(){\n",
              "        new LDAvis(\"#\" + \"ldavis_el165002191846885408610622170\", ldavis_el165002191846885408610622170_data);\n",
              "      });\n",
              "    });\n",
              "}else{\n",
              "    // require.js not available: dynamically load d3 & LDAvis\n",
              "    LDAvis_load_lib(\"https://d3js.org/d3.v5.js\", function(){\n",
              "         LDAvis_load_lib(\"https://cdn.jsdelivr.net/gh/bmabey/pyLDAvis@3.3.1/pyLDAvis/js/ldavis.v3.0.0.js\", function(){\n",
              "                 new LDAvis(\"#\" + \"ldavis_el165002191846885408610622170\", ldavis_el165002191846885408610622170_data);\n",
              "            })\n",
              "         });\n",
              "}\n",
              "</script>"
            ],
            "text/plain": [
              "PreparedData(topic_coordinates=              x         y  topics  cluster       Freq\n",
              "topic                                                \n",
              "0      0.168492 -0.067556       1        1  48.626830\n",
              "3      0.081681 -0.053482       2        1  21.683574\n",
              "1     -0.221034 -0.100460       3        1  17.652757\n",
              "2     -0.029138  0.221499       4        1  12.036839, topic_info=       Term         Freq        Total Category  logprob  loglift\n",
              "18    facil  1340.000000  1340.000000  Default  30.0000  30.0000\n",
              "10   person  1360.000000  1360.000000  Default  29.0000  29.0000\n",
              "24     prix  1054.000000  1054.000000  Default  28.0000  28.0000\n",
              "209   clair  1131.000000  1131.000000  Default  27.0000  27.0000\n",
              "365   écout   706.000000   706.000000  Default  26.0000  26.0000\n",
              "..      ...          ...          ...      ...      ...      ...\n",
              "48   demand   238.810763  2008.507867   Topic4  -4.4459  -0.0123\n",
              "47      dan   214.728045  1728.696843   Topic4  -4.5522   0.0314\n",
              "23     pris   149.507559   673.152534   Topic4  -4.9142   0.6126\n",
              "209   clair   143.275804  1131.343796   Topic4  -4.9568   0.0508\n",
              "76    énerg   138.777081  1395.300437   Topic4  -4.9887  -0.1908\n",
              "\n",
              "[326 rows x 6 columns], token_table=      Topic      Freq       Term\n",
              "term                            \n",
              "1353      4  0.996285     absent\n",
              "861       3  0.975988    acceuil\n",
              "728       3  0.998326  accompagn\n",
              "276       2  0.059733    accueil\n",
              "276       3  0.940008    accueil\n",
              "...     ...       ...        ...\n",
              "76        3  0.300294      énerg\n",
              "76        4  0.099620      énerg\n",
              "842       2  0.967675      énerv\n",
              "1259      1  0.045520      évolu\n",
              "1259      4  0.933151      évolu\n",
              "\n",
              "[612 rows x 3 columns], R=30, lambda_step=0.01, plot_opts={'xlab': 'PC1', 'ylab': 'PC2'}, topic_order=[1, 4, 2, 3])"
            ]
          },
          "execution_count": 279,
          "metadata": {},
          "output_type": "execute_result"
        }
      ],
      "source": [
        "#pyLDAvis visualisation\n",
        "pyLDAvis.enable_notebook()\n",
        "vis = pyLDAvis.gensim_models.prepare(ldaModel, corpus, dictionary)\n",
        "vis"
      ]
    },
    {
      "cell_type": "code",
      "execution_count": 19,
      "metadata": {
        "id": "CQmM0lKYfau_"
      },
      "outputs": [],
      "source": [
        "#TO DO (optional): You can save your model in a pickle\n",
        "ldaModel.save(\"LDA_model.pkl\")\n",
        "#pickle.dump(ldaModel, \"LDA_model.pkl\")"
      ]
    },
    {
      "cell_type": "markdown",
      "metadata": {
        "id": "Jtfh-jz0dvvM"
      },
      "source": [
        "### BONUS : How to choose the good number of topics for LDA"
      ]
    },
    {
      "cell_type": "code",
      "execution_count": 399,
      "metadata": {
        "id": "_c-ww93BdvvM"
      },
      "outputs": [],
      "source": [
        "def compute_coherence_values(dictionary, corpus, texts, limit, start=2, step=3):\n",
        "    \"\"\"\n",
        "    Compute c_v coherence for various number of topics\n",
        "\n",
        "    Parameters:\n",
        "    ----------\n",
        "    dictionary : Gensim dictionary\n",
        "    corpus : Gensim corpus\n",
        "    texts : List of input texts\n",
        "    limit : Max num of topics\n",
        "\n",
        "    Returns:\n",
        "    -------\n",
        "    model_list : List of LDA topic models\n",
        "    coherence_values : Coherence values corresponding to the LDA model with respective number of topics\n",
        "    \"\"\"\n",
        "    coherence_values = []\n",
        "    model_list = []\n",
        "    for num_topics in range(start, limit, step):\n",
        "        model = gensim.models.ldamodel.LdaModel(corpus=corpus,\n",
        "                                           id2word=dictionary,\n",
        "                                           num_topics=nb_topics, \n",
        "                                           alpha=alpha,\n",
        "                                           eta=eta)\n",
        "        model_list.append(model)\n",
        "        coherencemodel = CoherenceModel(model=model, texts=texts, dictionary=dictionary, coherence='c_v')\n",
        "        coherence_values.append(coherencemodel.get_coherence())\n",
        "\n",
        "    return model_list, coherence_values"
      ]
    },
    {
      "cell_type": "code",
      "execution_count": 400,
      "metadata": {
        "id": "or-kXwUJdvvN"
      },
      "outputs": [],
      "source": [
        "## It will take a while to run ( around 15min)\n",
        "limit=10; start=3; step=1;\n",
        "model_list, coherence_values = compute_coherence_values(dictionary=dictionary, corpus=corpus, texts=reviews.tokens_lem_processed.values, start=start, limit=limit, step=step)"
      ]
    },
    {
      "cell_type": "code",
      "execution_count": 421,
      "metadata": {
        "id": "CJe5NTHudvvN"
      },
      "outputs": [
        {
          "data": {
            "image/png": "[encoded data removed]",
            "text/plain": [
              "<Figure size 864x432 with 1 Axes>"
            ]
          },
          "metadata": {},
          "output_type": "display_data"
        }
      ],
      "source": [
        "# Show graph\n",
        "x = range(start, limit, step)\n",
        "sns.set(rc={'figure.figsize':(12,6)})\n",
        "\n",
        "for i, c in zip(x, coherence_values):\n",
        "    plt.scatter(i, c, alpha=1, color=\"red\", s=200, marker=\".\")\n",
        "\n",
        "plt.plot(x, coherence_values, linewidth=2)\n",
        "plt.title(\"Coherence Scores for Different Number of Topics\", fontsize=20)\n",
        "plt.xlabel(\"Number of Topics\")\n",
        "plt.ylabel(\"Coherence score\")\n",
        "\n",
        "\n",
        "#plt.legend((\"coherence_values\"), loc='best')\n",
        "plt.show()"
      ]
    },
    {
      "cell_type": "code",
      "execution_count": 25,
      "metadata": {
        "colab": {
          "base_uri": "https://localhost:8080/"
        },
        "id": "MRx5bGI7dvvN",
        "outputId": "9c1adcf5-d29a-4f45-ec75-84424ae764cf"
      },
      "outputs": [
        {
          "name": "stdout",
          "output_type": "stream",
          "text": [
            "Num Topics = 3  has Coherence Value of 0.4473\n",
            "Num Topics = 4  has Coherence Value of 0.4864\n",
            "Num Topics = 5  has Coherence Value of 0.5075\n",
            "Num Topics = 6  has Coherence Value of 0.4347\n",
            "Num Topics = 7  has Coherence Value of 0.5172\n"
          ]
        }
      ],
      "source": [
        "# Print the coherence scores\n",
        "for m, cv in zip(x, coherence_values):\n",
        "    print(\"Num Topics =\", m, \" has Coherence Value of\", round(cv, 4))"
      ]
    },
    {
      "cell_type": "code",
      "execution_count": 54,
      "metadata": {
        "id": "f3lYRzQ8dvvN"
      },
      "outputs": [],
      "source": [
        "### Analyze Final Model\n",
        "#idx = np.array(coherence_values).argmax()\n",
        "final_model = ldaModel\n",
        "doc_topics = list(final_model.get_document_topics(corpus))\n"
      ]
    },
    {
      "cell_type": "code",
      "execution_count": 55,
      "metadata": {},
      "outputs": [
        {
          "data": {
            "text/plain": [
              "(14360, 14360)"
            ]
          },
          "execution_count": 55,
          "metadata": {},
          "output_type": "execute_result"
        }
      ],
      "source": [
        "len(doc_topics), len(reviews)"
      ]
    },
    {
      "cell_type": "code",
      "execution_count": 56,
      "metadata": {},
      "outputs": [
        {
          "data": {
            "text/plain": [
              "2    5605\n",
              "0    5417\n",
              "1    3338\n",
              "dtype: int64"
            ]
          },
          "execution_count": 56,
          "metadata": {},
          "output_type": "execute_result"
        }
      ],
      "source": [
        "topics = []\n",
        "for doc in doc_topics:\n",
        "    idx = np.array([i[1] for i in doc]).argmax()\n",
        "    topics.append(doc[idx][0]) \n",
        "\n",
        "#count of the topics of documents.\n",
        "#Topic 6 is the most common with 6269 documents having it as the predominant topic\n",
        "pd.Series(topics).value_counts() "
      ]
    },
    {
      "cell_type": "code",
      "execution_count": 44,
      "metadata": {},
      "outputs": [
        {
          "data": {
            "text/plain": [
              "[(0,\n",
              "  '0.022*\"appel\" + 0.018*\"demand\" + 0.018*\"électr\" + 0.017*\"jour\" + 0.013*\"dan\" + 0.011*\"san\" + 0.010*\"mêm\" + 0.010*\"lign\" + 0.009*\"mois\" + 0.009*\"rappel\"'),\n",
              " (1,\n",
              "  '0.023*\"prix\" + 0.015*\"tarif\" + 0.013*\"consomm\" + 0.013*\"fournisseur\" + 0.012*\"fair\" + 0.012*\"offre\" + 0.009*\"énerg\" + 0.009*\"dan\" + 0.009*\"person\" + 0.008*\"autr\"'),\n",
              " (2,\n",
              "  '0.034*\"facil\" + 0.032*\"clair\" + 0.025*\"efficac\" + 0.022*\"expliqu\" + 0.022*\"écout\" + 0.022*\"pass\" + 0.020*\"merc\" + 0.019*\"conseil\" + 0.019*\"person\" + 0.019*\"simpl\"')]"
            ]
          },
          "execution_count": 44,
          "metadata": {},
          "output_type": "execute_result"
        }
      ],
      "source": [
        "ldaModel.show_topics()"
      ]
    },
    {
      "cell_type": "code",
      "execution_count": 45,
      "metadata": {},
      "outputs": [
        {
          "data": {
            "text/plain": [
              "([(0.021639163, 'appel'),\n",
              "  (0.01786452, 'demand'),\n",
              "  (0.017643178, 'électr'),\n",
              "  (0.01726453, 'jour'),\n",
              "  (0.012853517, 'dan'),\n",
              "  (0.011062203, 'san'),\n",
              "  (0.009884047, 'mêm'),\n",
              "  (0.009524126, 'lign'),\n",
              "  (0.009453151, 'mois'),\n",
              "  (0.009389266, 'rappel'),\n",
              "  (0.00916968, 'pai'),\n",
              "  (0.008881462, 'alor'),\n",
              "  (0.00873807, 'compteur'),\n",
              "  (0.008551845, 'toujour'),\n",
              "  (0.008324334, 'compt'),\n",
              "  (0.008035194, 'fair'),\n",
              "  (0.007388801, 'mail'),\n",
              "  (0.0069286847, 'mis'),\n",
              "  (0.0063371025, 'activ'),\n",
              "  (0.0062855957, 'énerg')],\n",
              " -1.7719796739615865)"
            ]
          },
          "execution_count": 45,
          "metadata": {},
          "output_type": "execute_result"
        }
      ],
      "source": [
        "top_topics_ = ldaModel.top_topics(corpus)\n",
        "top_topics_[0]"
      ]
    },
    {
      "cell_type": "code",
      "execution_count": 33,
      "metadata": {
        "colab": {
          "base_uri": "https://localhost:8080/"
        },
        "id": "B8f81ggTkpVA",
        "outputId": "507f32ab-aeac-456f-cf9e-65f96e32e43f"
      },
      "outputs": [
        {
          "data": {
            "text/plain": [
              "[<gensim.models.ldamodel.LdaModel at 0x29210d20d60>,\n",
              " <gensim.models.ldamodel.LdaModel at 0x29210d335e0>,\n",
              " <gensim.models.ldamodel.LdaModel at 0x29253154d00>,\n",
              " <gensim.models.ldamodel.LdaModel at 0x29210d25bb0>,\n",
              " <gensim.models.ldamodel.LdaModel at 0x2927ab08940>,\n",
              " <gensim.models.ldamodel.LdaModel at 0x29210d25910>]"
            ]
          },
          "execution_count": 33,
          "metadata": {},
          "output_type": "execute_result"
        }
      ],
      "source": [
        "model_list"
      ]
    },
    {
      "cell_type": "code",
      "execution_count": 46,
      "metadata": {
        "id": "1nrhRH0GdvvN"
      },
      "outputs": [
        {
          "name": "stdout",
          "output_type": "stream",
          "text": [
            "[(0,\n",
            "  '0.022*\"appel\" + 0.018*\"demand\" + 0.018*\"électr\" + 0.017*\"jour\" + '\n",
            "  '0.013*\"dan\" + 0.011*\"san\" + 0.010*\"mêm\" + 0.010*\"lign\" + 0.009*\"mois\" + '\n",
            "  '0.009*\"rappel\" + 0.009*\"pai\" + 0.009*\"alor\" + 0.009*\"compteur\" + '\n",
            "  '0.009*\"toujour\" + 0.008*\"compt\" + 0.008*\"fair\" + 0.007*\"mail\" + 0.007*\"mis\" '\n",
            "  '+ 0.006*\"activ\" + 0.006*\"énerg\"'),\n",
            " (1,\n",
            "  '0.023*\"prix\" + 0.015*\"tarif\" + 0.013*\"consomm\" + 0.013*\"fournisseur\" + '\n",
            "  '0.012*\"fair\" + 0.012*\"offre\" + 0.009*\"énerg\" + 0.009*\"dan\" + 0.009*\"person\" '\n",
            "  '+ 0.008*\"autr\" + 0.008*\"abon\" + 0.008*\"temp\" + 0.007*\"électr\" + 0.007*\"mêm\" '\n",
            "  '+ 0.007*\"ras\" + 0.007*\"totalenerg\" + 0.007*\"san\" + 0.007*\"gaz\" + '\n",
            "  '0.007*\"parl\" + 0.006*\"augment\"'),\n",
            " (2,\n",
            "  '0.034*\"facil\" + 0.032*\"clair\" + 0.025*\"efficac\" + 0.022*\"expliqu\" + '\n",
            "  '0.022*\"écout\" + 0.022*\"pass\" + 0.020*\"merc\" + 0.019*\"conseil\" + '\n",
            "  '0.019*\"person\" + 0.019*\"simpl\" + 0.017*\"accueil\" + 0.015*\"satisf\" + '\n",
            "  '0.014*\"agréabl\" + 0.014*\"tre\" + 0.013*\"inscript\" + 0.012*\"contact\" + '\n",
            "  '0.011*\"professionnel\" + 0.011*\"satisfait\" + 0.010*\"attent\" + 0.010*\"sit\"')]\n"
          ]
        }
      ],
      "source": [
        "optimal_model = ldaModel\n",
        "#optimal_model = model_list[1]\n",
        "model_topics = optimal_model.show_topics(formatted=False)\n",
        "pprint(optimal_model.print_topics(num_words=20))"
      ]
    },
    {
      "cell_type": "markdown",
      "metadata": {
        "id": "woFqy7zo2AfP"
      },
      "source": [
        "## Sentiment analysis "
      ]
    },
    {
      "cell_type": "code",
      "execution_count": 35,
      "metadata": {
        "colab": {
          "base_uri": "https://localhost:8080/"
        },
        "id": "3VEG6_xd44G-",
        "outputId": "e301e186-4035-4c4c-8c32-c8093b1f9566"
      },
      "outputs": [
        {
          "name": "stdout",
          "output_type": "stream",
          "text": [
            "Requirement already satisfied: textblob_fr in c:\\users\\dell\\anaconda3\\lib\\site-packages (0.2.0)"
          ]
        },
        {
          "name": "stderr",
          "output_type": "stream",
          "text": [
            "WARNING: Ignoring invalid distribution -atplotlib (c:\\users\\dell\\anaconda3\\lib\\site-packages)\n",
            "WARNING: Ignoring invalid distribution -atplotlib (c:\\users\\dell\\anaconda3\\lib\\site-packages)\n",
            "WARNING: Ignoring invalid distribution -atplotlib (c:\\users\\dell\\anaconda3\\lib\\site-packages)\n",
            "WARNING: Ignoring invalid distribution -atplotlib (c:\\users\\dell\\anaconda3\\lib\\site-packages)\n",
            "WARNING: Ignoring invalid distribution -atplotlib (c:\\users\\dell\\anaconda3\\lib\\site-packages)\n",
            "WARNING: Ignoring invalid distribution -atplotlib (c:\\users\\dell\\anaconda3\\lib\\site-packages)\n"
          ]
        },
        {
          "name": "stdout",
          "output_type": "stream",
          "text": [
            "\n",
            "Requirement already satisfied: vaderSentiment-fr in c:\\users\\dell\\anaconda3\\lib\\site-packages (1.3.4)\n",
            "Requirement already satisfied: textblob>=0.8.0 in c:\\users\\dell\\anaconda3\\lib\\site-packages (from textblob_fr) (0.17.1)\n",
            "Requirement already satisfied: fuzzywuzzy in c:\\users\\dell\\anaconda3\\lib\\site-packages (from vaderSentiment-fr) (0.18.0)\n",
            "Requirement already satisfied: unidecode in c:\\users\\dell\\anaconda3\\lib\\site-packages (from vaderSentiment-fr) (1.2.0)\n",
            "Requirement already satisfied: nltk>=3.1 in c:\\users\\dell\\anaconda3\\lib\\site-packages (from textblob>=0.8.0->textblob_fr) (3.7)\n",
            "Requirement already satisfied: click in c:\\users\\dell\\anaconda3\\lib\\site-packages (from nltk>=3.1->textblob>=0.8.0->textblob_fr) (8.0.4)\n",
            "Requirement already satisfied: regex>=2021.8.3 in c:\\users\\dell\\anaconda3\\lib\\site-packages (from nltk>=3.1->textblob>=0.8.0->textblob_fr) (2022.3.15)\n",
            "Requirement already satisfied: tqdm in c:\\users\\dell\\anaconda3\\lib\\site-packages (from nltk>=3.1->textblob>=0.8.0->textblob_fr) (4.65.0)\n",
            "Requirement already satisfied: joblib in c:\\users\\dell\\anaconda3\\lib\\site-packages (from nltk>=3.1->textblob>=0.8.0->textblob_fr) (1.1.0)\n",
            "Requirement already satisfied: colorama in c:\\users\\dell\\anaconda3\\lib\\site-packages (from click->nltk>=3.1->textblob>=0.8.0->textblob_fr) (0.4.6)\n"
          ]
        }
      ],
      "source": [
        "!pip install textblob_fr vaderSentiment-fr --no-cache-dir"
      ]
    },
    {
      "cell_type": "code",
      "execution_count": 20,
      "metadata": {
        "id": "RBrgpI6ZUQS-"
      },
      "outputs": [
        {
          "name": "stderr",
          "output_type": "stream",
          "text": [
            "Using slow pure-python SequenceMatcher. Install python-Levenshtein to remove this warning\n"
          ]
        }
      ],
      "source": [
        "from vaderSentiment_fr.vaderSentiment import SentimentIntensityAnalyzer\n",
        "from textblob import TextBlob\n",
        "from textblob import Blobber\n",
        "from textblob_fr import PatternTagger, PatternAnalyzer\n"
      ]
    },
    {
      "cell_type": "markdown",
      "metadata": {
        "id": "7t7MJ95I2AfP"
      },
      "source": [
        "### Vader "
      ]
    },
    {
      "cell_type": "code",
      "execution_count": 96,
      "metadata": {
        "id": "ViJhqO3rPZRG"
      },
      "outputs": [],
      "source": [
        "def visualise_sentiments(data):\n",
        "    sns.heatmap(pd.DataFrame(data).set_index(\"Sentence\").T,center=0, annot=True, cmap = \"PiYG\")\n",
        "  \n",
        "sns.set(rc={'figure.figsize':(30,1)})"
      ]
    },
    {
      "cell_type": "code",
      "execution_count": 97,
      "metadata": {
        "colab": {
          "base_uri": "https://localhost:8080/",
          "height": 249
        },
        "id": "IkGlx8BUUQS-",
        "outputId": "36ab7b9c-91dd-4529-f7f9-adfafebfb3c2"
      },
      "outputs": [
        {
          "data": {
            "text/html": [
              "<div>\n",
              "<style scoped>\n",
              "    .dataframe tbody tr th:only-of-type {\n",
              "        vertical-align: middle;\n",
              "    }\n",
              "\n",
              "    .dataframe tbody tr th {\n",
              "        vertical-align: top;\n",
              "    }\n",
              "\n",
              "    .dataframe thead th {\n",
              "        text-align: right;\n",
              "    }\n",
              "</style>\n",
              "<table border=\"1\" class=\"dataframe\">\n",
              "  <thead>\n",
              "    <tr style=\"text-align: right;\">\n",
              "      <th></th>\n",
              "      <th>index</th>\n",
              "      <th>Unnamed: 0</th>\n",
              "      <th>page</th>\n",
              "      <th>titre</th>\n",
              "      <th>verbatim</th>\n",
              "      <th>date</th>\n",
              "      <th>note</th>\n",
              "      <th>reponse</th>\n",
              "      <th>date_experience</th>\n",
              "      <th>fournisseur</th>\n",
              "      <th>source</th>\n",
              "      <th>clean_verb</th>\n",
              "      <th>tokens</th>\n",
              "      <th>tokens_lem</th>\n",
              "      <th>tokens_processed</th>\n",
              "      <th>tokens_lem_processed</th>\n",
              "      <th>sentiment</th>\n",
              "      <th>topics</th>\n",
              "      <th>sent</th>\n",
              "    </tr>\n",
              "  </thead>\n",
              "  <tbody>\n",
              "    <tr>\n",
              "      <th>0</th>\n",
              "      <td>5000</td>\n",
              "      <td>5000</td>\n",
              "      <td>1</td>\n",
              "      <td>Service impeccable chez Total Energie</td>\n",
              "      <td>A chaque fois que je contacte au téléphone le ...</td>\n",
              "      <td>Il y a 19 heures</td>\n",
              "      <td>5</td>\n",
              "      <td>None</td>\n",
              "      <td>Date de l'expérience: 01 décembre 2022</td>\n",
              "      <td>https://fr.trustpilot.com/review/totalenergies.fr</td>\n",
              "      <td>trustpilot</td>\n",
              "      <td>a chaque fois que je contacte au téléphone le ...</td>\n",
              "      <td>[[a, ], [chaque, ], [fois, ], [que, ], [je, ],...</td>\n",
              "      <td>[[a, ], [chaqu, ], [fois, ], [que, ], [je, ], ...</td>\n",
              "      <td>[contacte, téléphone, service, clients, total,...</td>\n",
              "      <td>[chaqu, contact, téléphon, servic, client, tot...</td>\n",
              "      <td>1</td>\n",
              "      <td>2</td>\n",
              "      <td>0</td>\n",
              "    </tr>\n",
              "  </tbody>\n",
              "</table>\n",
              "</div>"
            ],
            "text/plain": [
              "   index  Unnamed: 0  page                                  titre  \\\n",
              "0   5000        5000     1  Service impeccable chez Total Energie   \n",
              "\n",
              "                                            verbatim              date  note  \\\n",
              "0  A chaque fois que je contacte au téléphone le ...  Il y a 19 heures     5   \n",
              "\n",
              "  reponse                         date_experience  \\\n",
              "0    None  Date de l'expérience: 01 décembre 2022   \n",
              "\n",
              "                                         fournisseur      source  \\\n",
              "0  https://fr.trustpilot.com/review/totalenergies.fr  trustpilot   \n",
              "\n",
              "                                          clean_verb  \\\n",
              "0  a chaque fois que je contacte au téléphone le ...   \n",
              "\n",
              "                                              tokens  \\\n",
              "0  [[a, ], [chaque, ], [fois, ], [que, ], [je, ],...   \n",
              "\n",
              "                                          tokens_lem  \\\n",
              "0  [[a, ], [chaqu, ], [fois, ], [que, ], [je, ], ...   \n",
              "\n",
              "                                    tokens_processed  \\\n",
              "0  [contacte, téléphone, service, clients, total,...   \n",
              "\n",
              "                                tokens_lem_processed  sentiment  topics  sent  \n",
              "0  [chaqu, contact, téléphon, servic, client, tot...          1       2     0  "
            ]
          },
          "execution_count": 97,
          "metadata": {},
          "output_type": "execute_result"
        }
      ],
      "source": [
        "reviews.head(1)"
      ]
    },
    {
      "cell_type": "code",
      "execution_count": 119,
      "metadata": {
        "colab": {
          "base_uri": "https://localhost:8080/"
        },
        "id": "z35LwFoc2AfP",
        "outputId": "6be5a562-fa36-457b-8e4a-8c4c7bd4e57e"
      },
      "outputs": [
        {
          "name": "stdout",
          "output_type": "stream",
          "text": [
            "============Verbatim : ============\n",
            "J'ai eu une interlocutrice très gentille, très compréhensive, qui a répondu à toutes mes questions, et qui m'a proposé une formule beaucoup plus intéressante que celle que j'avais jusqu'alors. Je suis pour l'instant ravie du professionnalisme et de l'écoute que j'ai eu.\n",
            "=============cleand verbatim : ===========\n",
            "interlocutrice gentille compréhensive répondu questions proposé formule intéressante instant ravie professionnalisme écoute\n"
          ]
        }
      ],
      "source": [
        "#TO DO: visualise sentiment  of different sentence of reviews and comprae Vader vs TextBlob\n",
        "\n",
        "raw = reviews.sample(1) # sample one raw from reviews dataframe,raw = reviews.sample()\n",
        "\n",
        "\n",
        "sentence = \" \".join(raw.tokens_processed.values[0])\n",
        "\n",
        "print('============Verbatim : ============')\n",
        "print(raw.verbatim.values[0])\n",
        "\n",
        "print('=============cleand verbatim : ===========')\n",
        "print(sentence)"
      ]
    },
    {
      "cell_type": "code",
      "execution_count": 123,
      "metadata": {
        "colab": {
          "base_uri": "https://localhost:8080/",
          "height": 109
        },
        "id": "lnhVPG5S2AfP",
        "outputId": "7a7a5434-fb6a-4add-d6a2-4b44c95c676a"
      },
      "outputs": [
        {
          "data": {
            "image/png": "[encoded data removed]",
            "text/plain": [
              "<Figure size 2160x72 with 2 Axes>"
            ]
          },
          "metadata": {},
          "output_type": "display_data"
        }
      ],
      "source": [
        "sid = SentimentIntensityAnalyzer()\n",
        "sid.polarity_scores(sentence)\n",
        "\n",
        "\n",
        "visualise_sentiments({\n",
        "    \"Sentence\":[\"SENTENCE\"] + sentence.split(),\n",
        "    \"Sentiment\":[sid.polarity_scores(sentence)[\"compound\"]] + [sid.polarity_scores(word)[\"compound\"] for word in sentence.split()]\n",
        "})\n",
        "\n"
      ]
    },
    {
      "cell_type": "markdown",
      "metadata": {
        "id": "GQ_6RTioPQRe"
      },
      "source": [
        "## TextBlob"
      ]
    },
    {
      "cell_type": "code",
      "execution_count": 121,
      "metadata": {
        "colab": {
          "base_uri": "https://localhost:8080/",
          "height": 109
        },
        "id": "R8ji45zUOtTT",
        "outputId": "3b842fab-2fdf-490d-d884-d3f525678c9b"
      },
      "outputs": [
        {
          "data": {
            "image/png": "[encoded data removed]",
            "text/plain": [
              "<Figure size 2160x72 with 2 Axes>"
            ]
          },
          "metadata": {},
          "output_type": "display_data"
        }
      ],
      "source": [
        "tb = Blobber(pos_tagger=PatternTagger(), analyzer=PatternAnalyzer())\n",
        "\n",
        "visualise_sentiments({\n",
        "    \"Sentence\":[\"SENTENCE\"] + sentence.split(),\n",
        "    \"Sentiment\":[tb(sentence).sentiment[0]] + [tb(word).sentiment[0] for word in sentence.split()]\n",
        "})"
      ]
    },
    {
      "cell_type": "code",
      "execution_count": 103,
      "metadata": {
        "id": "_zys_8duQb3F"
      },
      "outputs": [],
      "source": [
        "def vader_sentiment_scores(sentence):\n",
        "    sentence = \" \".join(sentence)\n",
        "    # Create a SentimentIntensityAnalyzer object.\n",
        "    sid_obj = SentimentIntensityAnalyzer()\n",
        "    sentiment_dict = sid_obj.polarity_scores(sentence)\n",
        "    \n",
        "    # decide sentiment as positive, negative and neutral\n",
        "    #vader has an option for neutral but in our case its just positive/negative so we fix it to be this way.\n",
        "    if sentiment_dict['compound'] > -0.05 :\n",
        "        return 1\n",
        "    else:\n",
        "        return 0\n",
        "\n",
        "def text_blob_sentiment_score(text):\n",
        "  sentence = \" \".join(text)\n",
        "  s= TextBlob(sentence).sentiment.polarity\n",
        "\n",
        "  if s > -0.05 :\n",
        "    return 1\n",
        "  else:\n",
        "    return 0\n"
      ]
    },
    {
      "cell_type": "code",
      "execution_count": 104,
      "metadata": {
        "id": "IRE44V7BiVbD"
      },
      "outputs": [
        {
          "data": {
            "text/plain": [
              "1    500\n",
              "0    500\n",
              "Name: sentiment, dtype: int64"
            ]
          },
          "execution_count": 104,
          "metadata": {},
          "output_type": "execute_result"
        }
      ],
      "source": [
        "#samp = reviews.head(1000)\n",
        "reviews[\"sentiment\"] = np.where(reviews['note']>=4, 1, 0)\n",
        "pos_reviews = reviews[reviews.sentiment == 1].head(500)\n",
        "neg_reviews = reviews[reviews.sentiment == 0].head(500)\n",
        "samp = pd.concat([pos_reviews,neg_reviews])\n",
        "samp.sentiment.value_counts()"
      ]
    },
    {
      "cell_type": "code",
      "execution_count": 106,
      "metadata": {
        "id": "qLv78pBsQwUv"
      },
      "outputs": [],
      "source": [
        "vader_pred = reviews.tokens_processed.apply(vader_sentiment_scores)"
      ]
    },
    {
      "cell_type": "code",
      "execution_count": 107,
      "metadata": {},
      "outputs": [],
      "source": [
        "textBlob_pred = reviews.tokens_processed.apply(text_blob_sentiment_score)"
      ]
    },
    {
      "cell_type": "code",
      "execution_count": 25,
      "metadata": {
        "id": "R07dBTzyb-Rd"
      },
      "outputs": [],
      "source": [
        "from sklearn.metrics import f1_score, accuracy_score\n"
      ]
    },
    {
      "cell_type": "code",
      "execution_count": 291,
      "metadata": {
        "colab": {
          "base_uri": "https://localhost:8080/"
        },
        "id": "cbeynmi9Qi4u",
        "outputId": "7bc58601-9532-4bf9-f302-fc94201f7f67"
      },
      "outputs": [
        {
          "name": "stdout",
          "output_type": "stream",
          "text": [
            "F1 score for vader : 0.7678122380553226\n",
            "F1 score for TextBlob : 0.7014820042342979\n"
          ]
        }
      ],
      "source": [
        "print(f'F1 score for vader : {f1_score(vader_pred, samp.sentiment)}')\n",
        "print(f'F1 score for TextBlob : {f1_score(textBlob_pred, samp.sentiment)}')"
      ]
    },
    {
      "cell_type": "markdown",
      "metadata": {
        "id": "g0q_sATi2AfQ"
      },
      "source": [
        "### Rating vs sentiment"
      ]
    },
    {
      "cell_type": "code",
      "execution_count": 26,
      "metadata": {
        "colab": {
          "base_uri": "https://localhost:8080/",
          "height": 451
        },
        "id": "S6XRNx91VARu",
        "outputId": "1d0e1da7-aa6c-41dc-fdf3-7b062226b725"
      },
      "outputs": [
        {
          "name": "stdout",
          "output_type": "stream",
          "text": [
            "(14360, 16)\n"
          ]
        },
        {
          "data": {
            "text/html": [
              "<div>\n",
              "<style scoped>\n",
              "    .dataframe tbody tr th:only-of-type {\n",
              "        vertical-align: middle;\n",
              "    }\n",
              "\n",
              "    .dataframe tbody tr th {\n",
              "        vertical-align: top;\n",
              "    }\n",
              "\n",
              "    .dataframe thead th {\n",
              "        text-align: right;\n",
              "    }\n",
              "</style>\n",
              "<table border=\"1\" class=\"dataframe\">\n",
              "  <thead>\n",
              "    <tr style=\"text-align: right;\">\n",
              "      <th></th>\n",
              "      <th>index</th>\n",
              "      <th>Unnamed: 0</th>\n",
              "      <th>page</th>\n",
              "      <th>titre</th>\n",
              "      <th>verbatim</th>\n",
              "      <th>date</th>\n",
              "      <th>note</th>\n",
              "      <th>reponse</th>\n",
              "      <th>date_experience</th>\n",
              "      <th>fournisseur</th>\n",
              "      <th>source</th>\n",
              "      <th>clean_verb</th>\n",
              "      <th>tokens</th>\n",
              "      <th>tokens_lem</th>\n",
              "      <th>tokens_processed</th>\n",
              "      <th>tokens_lem_processed</th>\n",
              "    </tr>\n",
              "  </thead>\n",
              "  <tbody>\n",
              "    <tr>\n",
              "      <th>0</th>\n",
              "      <td>5000</td>\n",
              "      <td>5000</td>\n",
              "      <td>1</td>\n",
              "      <td>Service impeccable chez Total Energie</td>\n",
              "      <td>A chaque fois que je contacte au téléphone le ...</td>\n",
              "      <td>Il y a 19 heures</td>\n",
              "      <td>5</td>\n",
              "      <td>None</td>\n",
              "      <td>Date de l'expérience: 01 décembre 2022</td>\n",
              "      <td>https://fr.trustpilot.com/review/totalenergies.fr</td>\n",
              "      <td>trustpilot</td>\n",
              "      <td>a chaque fois que je contacte au téléphone le ...</td>\n",
              "      <td>[[a, ], [chaque, ], [fois, ], [que, ], [je, ],...</td>\n",
              "      <td>[[a, ], [chaqu, ], [fois, ], [que, ], [je, ], ...</td>\n",
              "      <td>[contacte, téléphone, service, clients, total,...</td>\n",
              "      <td>[chaqu, contact, téléphon, servic, client, tot...</td>\n",
              "    </tr>\n",
              "    <tr>\n",
              "      <th>1</th>\n",
              "      <td>5001</td>\n",
              "      <td>5001</td>\n",
              "      <td>1</td>\n",
              "      <td>Offre immanquable</td>\n",
              "      <td>Installation Rapide, Prix concurrentiel et sur...</td>\n",
              "      <td>ll y a 5 jours</td>\n",
              "      <td>5</td>\n",
              "      <td>None</td>\n",
              "      <td>Date de l'expérience: 27 novembre 2022</td>\n",
              "      <td>https://fr.trustpilot.com/review/totalenergies.fr</td>\n",
              "      <td>trustpilot</td>\n",
              "      <td>installation rapide prix concurrentiel et surt...</td>\n",
              "      <td>[[installation, MISC], [rapide, ], [prix, ], [...</td>\n",
              "      <td>[[rapid, ], [prix, ], [concurrentiel, ], [et, ...</td>\n",
              "      <td>[rapide, prix, concurrentiel, promotion, réduc...</td>\n",
              "      <td>[rapid, prix, concurrentiel, promot, réduct, s...</td>\n",
              "    </tr>\n",
              "    <tr>\n",
              "      <th>2</th>\n",
              "      <td>5002</td>\n",
              "      <td>5002</td>\n",
              "      <td>1</td>\n",
              "      <td>Service client déplorable</td>\n",
              "      <td>Cliente chez total énergie depuis près de deux...</td>\n",
              "      <td>Il y a un jour</td>\n",
              "      <td>1</td>\n",
              "      <td>Bonjour Monsieur, Madame,\\n\\nJ'ai bien pris en...</td>\n",
              "      <td>Date de l'expérience: 22 novembre 2022</td>\n",
              "      <td>https://fr.trustpilot.com/review/totalenergies.fr</td>\n",
              "      <td>trustpilot</td>\n",
              "      <td>cliente chez total énergie depuis près de deux...</td>\n",
              "      <td>[[cliente, ], [chez, ], [total, ], [énergie, ]...</td>\n",
              "      <td>[[client, ], [chez, ], [total, ], [énerg, ], [...</td>\n",
              "      <td>[cliente, total, énergie, ans, tarifs, concurr...</td>\n",
              "      <td>[client, total, énerg, tarif, concurrentiel, c...</td>\n",
              "    </tr>\n",
              "  </tbody>\n",
              "</table>\n",
              "</div>"
            ],
            "text/plain": [
              "   index  Unnamed: 0  page                                  titre  \\\n",
              "0   5000        5000     1  Service impeccable chez Total Energie   \n",
              "1   5001        5001     1                      Offre immanquable   \n",
              "2   5002        5002     1              Service client déplorable   \n",
              "\n",
              "                                            verbatim              date  note  \\\n",
              "0  A chaque fois que je contacte au téléphone le ...  Il y a 19 heures     5   \n",
              "1  Installation Rapide, Prix concurrentiel et sur...    ll y a 5 jours     5   \n",
              "2  Cliente chez total énergie depuis près de deux...    Il y a un jour     1   \n",
              "\n",
              "                                             reponse  \\\n",
              "0                                               None   \n",
              "1                                               None   \n",
              "2  Bonjour Monsieur, Madame,\\n\\nJ'ai bien pris en...   \n",
              "\n",
              "                          date_experience  \\\n",
              "0  Date de l'expérience: 01 décembre 2022   \n",
              "1  Date de l'expérience: 27 novembre 2022   \n",
              "2  Date de l'expérience: 22 novembre 2022   \n",
              "\n",
              "                                         fournisseur      source  \\\n",
              "0  https://fr.trustpilot.com/review/totalenergies.fr  trustpilot   \n",
              "1  https://fr.trustpilot.com/review/totalenergies.fr  trustpilot   \n",
              "2  https://fr.trustpilot.com/review/totalenergies.fr  trustpilot   \n",
              "\n",
              "                                          clean_verb  \\\n",
              "0  a chaque fois que je contacte au téléphone le ...   \n",
              "1  installation rapide prix concurrentiel et surt...   \n",
              "2  cliente chez total énergie depuis près de deux...   \n",
              "\n",
              "                                              tokens  \\\n",
              "0  [[a, ], [chaque, ], [fois, ], [que, ], [je, ],...   \n",
              "1  [[installation, MISC], [rapide, ], [prix, ], [...   \n",
              "2  [[cliente, ], [chez, ], [total, ], [énergie, ]...   \n",
              "\n",
              "                                          tokens_lem  \\\n",
              "0  [[a, ], [chaqu, ], [fois, ], [que, ], [je, ], ...   \n",
              "1  [[rapid, ], [prix, ], [concurrentiel, ], [et, ...   \n",
              "2  [[client, ], [chez, ], [total, ], [énerg, ], [...   \n",
              "\n",
              "                                    tokens_processed  \\\n",
              "0  [contacte, téléphone, service, clients, total,...   \n",
              "1  [rapide, prix, concurrentiel, promotion, réduc...   \n",
              "2  [cliente, total, énergie, ans, tarifs, concurr...   \n",
              "\n",
              "                                tokens_lem_processed  \n",
              "0  [chaqu, contact, téléphon, servic, client, tot...  \n",
              "1  [rapid, prix, concurrentiel, promot, réduct, s...  \n",
              "2  [client, total, énerg, tarif, concurrentiel, c...  "
            ]
          },
          "execution_count": 26,
          "metadata": {},
          "output_type": "execute_result"
        }
      ],
      "source": [
        "## TO DO : Explore your dataset\n",
        "print(reviews.shape)\n",
        "reviews.head(3)"
      ]
    },
    {
      "cell_type": "code",
      "execution_count": 343,
      "metadata": {
        "colab": {
          "base_uri": "https://localhost:8080/",
          "height": 395
        },
        "id": "Di3AmmpkVNWA",
        "outputId": "3e62aab2-38a0-4881-d212-6bcc5d429f57"
      },
      "outputs": [
        {
          "data": {
            "image/png": "[encoded data removed]",
            "text/plain": [
              "<Figure size 1080x504 with 1 Axes>"
            ]
          },
          "metadata": {},
          "output_type": "display_data"
        }
      ],
      "source": [
        "plt.figure(figsize = (15,7))\n",
        "#reviews.note.plot.hist()\n",
        "ax = sns.histplot(reviews.note)\n",
        "ax.set_title('Distribution of Review Scores', fontdict={'fontsize': 20, 'fontfamily': 'Arial'})\n",
        "ax.set_xlabel('Review Score')\n",
        "ax.set_ylabel('Frequency')\n",
        "ax.set_xticks(range(1, 6))\n",
        "\n",
        "\n",
        "sns.despine()\n"
      ]
    },
    {
      "cell_type": "code",
      "execution_count": 27,
      "metadata": {
        "id": "LXgrfoozV_Dk"
      },
      "outputs": [],
      "source": [
        "## TO DO : by using a threshold between 14 an 16, identifiy positif reviews and not positif reviews\n",
        "reviews['sentiment'] = np.where(reviews['note']>=4, \"pos\", \"not_pos\")           "
      ]
    },
    {
      "cell_type": "markdown",
      "metadata": {
        "id": "D3tfLOXRWOXe"
      },
      "source": [
        "### Preprocessing"
      ]
    },
    {
      "cell_type": "code",
      "execution_count": 61,
      "metadata": {
        "id": "nU-4YtwZUQS_"
      },
      "outputs": [],
      "source": [
        "#reviews = reviews[reviews['clean_verb']!=\"\"]"
      ]
    },
    {
      "cell_type": "code",
      "execution_count": 114,
      "metadata": {
        "colab": {
          "base_uri": "https://localhost:8080/",
          "height": 433
        },
        "id": "qtzOjX_B2AfQ",
        "outputId": "188db127-bbf9-428b-f14a-9930b730a456"
      },
      "outputs": [
        {
          "data": {
            "text/html": [
              "<div>\n",
              "<style scoped>\n",
              "    .dataframe tbody tr th:only-of-type {\n",
              "        vertical-align: middle;\n",
              "    }\n",
              "\n",
              "    .dataframe tbody tr th {\n",
              "        vertical-align: top;\n",
              "    }\n",
              "\n",
              "    .dataframe thead th {\n",
              "        text-align: right;\n",
              "    }\n",
              "</style>\n",
              "<table border=\"1\" class=\"dataframe\">\n",
              "  <thead>\n",
              "    <tr style=\"text-align: right;\">\n",
              "      <th></th>\n",
              "      <th>Unnamed: 0</th>\n",
              "      <th>page</th>\n",
              "      <th>titre</th>\n",
              "      <th>verbatim</th>\n",
              "      <th>date</th>\n",
              "      <th>note</th>\n",
              "      <th>reponse</th>\n",
              "      <th>date_experience</th>\n",
              "      <th>fournisseur</th>\n",
              "      <th>source</th>\n",
              "      <th>clean_verb</th>\n",
              "      <th>tokens</th>\n",
              "      <th>tokens_lem</th>\n",
              "      <th>tokens_processed</th>\n",
              "      <th>tokens_lem_processed</th>\n",
              "      <th>sentiment</th>\n",
              "    </tr>\n",
              "  </thead>\n",
              "  <tbody>\n",
              "    <tr>\n",
              "      <th>0</th>\n",
              "      <td>0</td>\n",
              "      <td>1</td>\n",
              "      <td>Aucun soucis particulier</td>\n",
              "      <td>Je paie ma facture tous les deux mois en fonct...</td>\n",
              "      <td>Il y a 17 heures</td>\n",
              "      <td>4</td>\n",
              "      <td>None</td>\n",
              "      <td>Date de l'expérience: 01 décembre 2022</td>\n",
              "      <td>https://fr.trustpilot.com/review/engie.fr</td>\n",
              "      <td>trustpilot</td>\n",
              "      <td>je paie ma facture tous les deux mois en fonct...</td>\n",
              "      <td>[[je, ], [paie, ], [ma, ], [facture, ], [tous,...</td>\n",
              "      <td>[[je, ], [pai, ], [ma, ], [factur, ], [tous, ]...</td>\n",
              "      <td>[paie, facture, mois, fonction, consommation, ...</td>\n",
              "      <td>[pai, factur, mois, fonction, consomm, exact, ...</td>\n",
              "      <td>pos</td>\n",
              "    </tr>\n",
              "    <tr>\n",
              "      <th>1</th>\n",
              "      <td>1</td>\n",
              "      <td>1</td>\n",
              "      <td>Engie facture a ses clients des sommes…</td>\n",
              "      <td>Engie facture a ses clients des sommes exorbit...</td>\n",
              "      <td>Il y a un jour</td>\n",
              "      <td>1</td>\n",
              "      <td>Bonjour Julien Blanco,\\n\\nPour des raisons de ...</td>\n",
              "      <td>Date de l'expérience: 26 novembre 2022</td>\n",
              "      <td>https://fr.trustpilot.com/review/engie.fr</td>\n",
              "      <td>trustpilot</td>\n",
              "      <td>engie facture a ses clients des sommes exorbit...</td>\n",
              "      <td>[[engie, ], [facture, ], [a, ], [ses, ], [clie...</td>\n",
              "      <td>[[engi, ], [factur, ], [a, ], [se, ], [client,...</td>\n",
              "      <td>[engie, facture, clients, exorbitants, engie, ...</td>\n",
              "      <td>[engi, factur, client, somm, exorbit, engi, fa...</td>\n",
              "      <td>not_pos</td>\n",
              "    </tr>\n",
              "    <tr>\n",
              "      <th>2</th>\n",
              "      <td>2</td>\n",
              "      <td>1</td>\n",
              "      <td>Facturation sur consommation d'un autre logement</td>\n",
              "      <td>Ils me facturent sur le pdl du logement au des...</td>\n",
              "      <td>ll y a 3 jours</td>\n",
              "      <td>1</td>\n",
              "      <td>Bonjour BlooDz,\\n\\nPour des raisons de confide...</td>\n",
              "      <td>Date de l'expérience: 29 novembre 2022</td>\n",
              "      <td>https://fr.trustpilot.com/review/engie.fr</td>\n",
              "      <td>trustpilot</td>\n",
              "      <td>ils me facturent sur le pdl du logement au des...</td>\n",
              "      <td>[[ils, ], [me, ], [facturent, ], [sur, ], [le,...</td>\n",
              "      <td>[[il, ], [me, ], [facturent, ], [sur, ], [le, ...</td>\n",
              "      <td>[facturent, pdl, logement, disant, faute, jama...</td>\n",
              "      <td>[facturent, pdl, log, dis, faut, jam, pris, fa...</td>\n",
              "      <td>not_pos</td>\n",
              "    </tr>\n",
              "  </tbody>\n",
              "</table>\n",
              "</div>"
            ],
            "text/plain": [
              "   Unnamed: 0  page                                             titre  \\\n",
              "0           0     1                          Aucun soucis particulier   \n",
              "1           1     1           Engie facture a ses clients des sommes…   \n",
              "2           2     1  Facturation sur consommation d'un autre logement   \n",
              "\n",
              "                                            verbatim              date  note  \\\n",
              "0  Je paie ma facture tous les deux mois en fonct...  Il y a 17 heures     4   \n",
              "1  Engie facture a ses clients des sommes exorbit...    Il y a un jour     1   \n",
              "2  Ils me facturent sur le pdl du logement au des...    ll y a 3 jours     1   \n",
              "\n",
              "                                             reponse  \\\n",
              "0                                               None   \n",
              "1  Bonjour Julien Blanco,\\n\\nPour des raisons de ...   \n",
              "2  Bonjour BlooDz,\\n\\nPour des raisons de confide...   \n",
              "\n",
              "                          date_experience  \\\n",
              "0  Date de l'expérience: 01 décembre 2022   \n",
              "1  Date de l'expérience: 26 novembre 2022   \n",
              "2  Date de l'expérience: 29 novembre 2022   \n",
              "\n",
              "                                 fournisseur      source  \\\n",
              "0  https://fr.trustpilot.com/review/engie.fr  trustpilot   \n",
              "1  https://fr.trustpilot.com/review/engie.fr  trustpilot   \n",
              "2  https://fr.trustpilot.com/review/engie.fr  trustpilot   \n",
              "\n",
              "                                          clean_verb  \\\n",
              "0  je paie ma facture tous les deux mois en fonct...   \n",
              "1  engie facture a ses clients des sommes exorbit...   \n",
              "2  ils me facturent sur le pdl du logement au des...   \n",
              "\n",
              "                                              tokens  \\\n",
              "0  [[je, ], [paie, ], [ma, ], [facture, ], [tous,...   \n",
              "1  [[engie, ], [facture, ], [a, ], [ses, ], [clie...   \n",
              "2  [[ils, ], [me, ], [facturent, ], [sur, ], [le,...   \n",
              "\n",
              "                                          tokens_lem  \\\n",
              "0  [[je, ], [pai, ], [ma, ], [factur, ], [tous, ]...   \n",
              "1  [[engi, ], [factur, ], [a, ], [se, ], [client,...   \n",
              "2  [[il, ], [me, ], [facturent, ], [sur, ], [le, ...   \n",
              "\n",
              "                                    tokens_processed  \\\n",
              "0  [paie, facture, mois, fonction, consommation, ...   \n",
              "1  [engie, facture, clients, exorbitants, engie, ...   \n",
              "2  [facturent, pdl, logement, disant, faute, jama...   \n",
              "\n",
              "                                tokens_lem_processed sentiment  \n",
              "0  [pai, factur, mois, fonction, consomm, exact, ...       pos  \n",
              "1  [engi, factur, client, somm, exorbit, engi, fa...   not_pos  \n",
              "2  [facturent, pdl, log, dis, faut, jam, pris, fa...   not_pos  "
            ]
          },
          "execution_count": 114,
          "metadata": {},
          "output_type": "execute_result"
        }
      ],
      "source": [
        "reviews.head(3)"
      ]
    },
    {
      "cell_type": "code",
      "execution_count": 28,
      "metadata": {
        "colab": {
          "base_uri": "https://localhost:8080/"
        },
        "id": "-m29fxwIfczo",
        "outputId": "cebd0d9c-6b43-4c8c-cb73-81d61c6ab356"
      },
      "outputs": [
        {
          "name": "stdout",
          "output_type": "stream",
          "text": [
            "pos        9528\n",
            "not_pos    4832\n",
            "Name: sentiment, dtype: int64\n",
            "Ratio of positive comments over negative comments: 1.9718543046357615\n"
          ]
        }
      ],
      "source": [
        "# TO DO : number of positif / negatif comment \n",
        "print(reviews.sentiment.value_counts())\n",
        "ratio = len(reviews[reviews.sentiment==\"pos\"]) / len(reviews[reviews.sentiment==\"not_pos\"])\n",
        "print(f\"Ratio of positive comments over negative comments: {ratio}\")"
      ]
    },
    {
      "cell_type": "code",
      "execution_count": 29,
      "metadata": {},
      "outputs": [
        {
          "data": {
            "text/plain": [
              "0.6635097493036212"
            ]
          },
          "execution_count": 29,
          "metadata": {},
          "output_type": "execute_result"
        }
      ],
      "source": [
        "len(reviews[reviews.sentiment==\"pos\"])/ len(reviews)"
      ]
    },
    {
      "cell_type": "code",
      "execution_count": 30,
      "metadata": {},
      "outputs": [
        {
          "data": {
            "text/plain": [
              "sentiment\n",
              "not_pos    1.570157\n",
              "pos        4.672859\n",
              "Name: note, dtype: float64"
            ]
          },
          "execution_count": 30,
          "metadata": {},
          "output_type": "execute_result"
        }
      ],
      "source": [
        "#Mean rating of positive sentiment comments vs negative sentiment comments\n",
        "\n",
        "reviews.groupby(\"sentiment\")[\"note\"].mean()"
      ]
    },
    {
      "cell_type": "markdown",
      "metadata": {
        "id": "o4JPDQkuKiKD"
      },
      "source": [
        "## Vectorization with tfidf"
      ]
    },
    {
      "cell_type": "code",
      "execution_count": 31,
      "metadata": {
        "colab": {
          "base_uri": "https://localhost:8080/"
        },
        "id": "aR5xfx9nnIja",
        "outputId": "0ce8c97b-0eb0-4050-cd71-b27edce04c25"
      },
      "outputs": [
        {
          "name": "stdout",
          "output_type": "stream",
          "text": [
            "(14360, 225) (14360,)\n"
          ]
        }
      ],
      "source": [
        "data = reviews.copy()\n",
        "from sklearn.feature_extraction.text import CountVectorizer, TfidfVectorizer\n",
        "\n",
        "\n",
        "docs = data.tokens_processed.map(lambda tokens: \" \".join(tokens))\n",
        "\n",
        "min_df = .01\n",
        "max_df = 0.99\n",
        "\n",
        "vectorizer = TfidfVectorizer(min_df=min_df,\n",
        "                             max_df=max_df,\n",
        "                             analyzer=\"word\",\n",
        "                             ngram_range=(1,2))\n",
        "\n",
        "X = vectorizer.fit_transform(docs)\n",
        "# os.mkdir(\"output/\")\n",
        "#pickle.dump(vectorizer, open(os.path.join(\"./output\", f\"vectorizer_avis.pkl\"), \"wb\"))\n",
        "\n",
        "y = np.where(data[\"sentiment\"] == \"pos\", 1, 0)\n",
        "print(X.shape, y.shape)\n"
      ]
    },
    {
      "cell_type": "markdown",
      "metadata": {
        "id": "EoEl7MIpHrmX"
      },
      "source": [
        "**what is the importance of the parmeters min_df and max_df** ?"
      ]
    },
    {
      "cell_type": "markdown",
      "metadata": {
        "id": "pb3ffF5QUQS_"
      },
      "source": [
        "It's the frequency of words that appear which we want to ignore. So any words over the max_df and below the min_df threshold will be neglected. This is important as words that appear in every single sentence is not important and the same for words that appear too little."
      ]
    },
    {
      "cell_type": "code",
      "execution_count": 32,
      "metadata": {
        "colab": {
          "base_uri": "https://localhost:8080/",
          "height": 268
        },
        "id": "bDUQrulPnNgd",
        "outputId": "2076b64b-fc09-4349-8b92-b2731b62f97d"
      },
      "outputs": [
        {
          "name": "stdout",
          "output_type": "stream",
          "text": [
            "(14360, 225)\n"
          ]
        },
        {
          "data": {
            "text/html": [
              "<div>\n",
              "<style scoped>\n",
              "    .dataframe tbody tr th:only-of-type {\n",
              "        vertical-align: middle;\n",
              "    }\n",
              "\n",
              "    .dataframe tbody tr th {\n",
              "        vertical-align: top;\n",
              "    }\n",
              "\n",
              "    .dataframe thead th {\n",
              "        text-align: right;\n",
              "    }\n",
              "</style>\n",
              "<table border=\"1\" class=\"dataframe\">\n",
              "  <thead>\n",
              "    <tr style=\"text-align: right;\">\n",
              "      <th></th>\n",
              "      <th>abonnement</th>\n",
              "      <th>accueil</th>\n",
              "      <th>agréable</th>\n",
              "      <th>aimable</th>\n",
              "      <th>ancien</th>\n",
              "      <th>année</th>\n",
              "      <th>ans</th>\n",
              "      <th>appartement</th>\n",
              "      <th>appel</th>\n",
              "      <th>appeler</th>\n",
              "      <th>...</th>\n",
              "      <th>téléphone</th>\n",
              "      <th>téléphonique</th>\n",
              "      <th>viens</th>\n",
              "      <th>vite</th>\n",
              "      <th>voir</th>\n",
              "      <th>voleurs</th>\n",
              "      <th>vraiment</th>\n",
              "      <th>écoute</th>\n",
              "      <th>électricité</th>\n",
              "      <th>énergie</th>\n",
              "    </tr>\n",
              "  </thead>\n",
              "  <tbody>\n",
              "    <tr>\n",
              "      <th>0</th>\n",
              "      <td>0.000000</td>\n",
              "      <td>0.0</td>\n",
              "      <td>0.341832</td>\n",
              "      <td>0.0</td>\n",
              "      <td>0.0</td>\n",
              "      <td>0.000000</td>\n",
              "      <td>0.000000</td>\n",
              "      <td>0.0</td>\n",
              "      <td>0.0</td>\n",
              "      <td>0.0</td>\n",
              "      <td>...</td>\n",
              "      <td>0.255156</td>\n",
              "      <td>0.0</td>\n",
              "      <td>0.0</td>\n",
              "      <td>0.0</td>\n",
              "      <td>0.000000</td>\n",
              "      <td>0.0</td>\n",
              "      <td>0.0</td>\n",
              "      <td>0.0</td>\n",
              "      <td>0.000000</td>\n",
              "      <td>0.000000</td>\n",
              "    </tr>\n",
              "    <tr>\n",
              "      <th>1</th>\n",
              "      <td>0.000000</td>\n",
              "      <td>0.0</td>\n",
              "      <td>0.000000</td>\n",
              "      <td>0.0</td>\n",
              "      <td>0.0</td>\n",
              "      <td>0.000000</td>\n",
              "      <td>0.000000</td>\n",
              "      <td>0.0</td>\n",
              "      <td>0.0</td>\n",
              "      <td>0.0</td>\n",
              "      <td>...</td>\n",
              "      <td>0.240023</td>\n",
              "      <td>0.0</td>\n",
              "      <td>0.0</td>\n",
              "      <td>0.0</td>\n",
              "      <td>0.000000</td>\n",
              "      <td>0.0</td>\n",
              "      <td>0.0</td>\n",
              "      <td>0.0</td>\n",
              "      <td>0.240939</td>\n",
              "      <td>0.000000</td>\n",
              "    </tr>\n",
              "    <tr>\n",
              "      <th>2</th>\n",
              "      <td>0.261888</td>\n",
              "      <td>0.0</td>\n",
              "      <td>0.000000</td>\n",
              "      <td>0.0</td>\n",
              "      <td>0.0</td>\n",
              "      <td>0.000000</td>\n",
              "      <td>0.141678</td>\n",
              "      <td>0.0</td>\n",
              "      <td>0.0</td>\n",
              "      <td>0.0</td>\n",
              "      <td>...</td>\n",
              "      <td>0.000000</td>\n",
              "      <td>0.0</td>\n",
              "      <td>0.0</td>\n",
              "      <td>0.0</td>\n",
              "      <td>0.000000</td>\n",
              "      <td>0.0</td>\n",
              "      <td>0.0</td>\n",
              "      <td>0.0</td>\n",
              "      <td>0.000000</td>\n",
              "      <td>0.297514</td>\n",
              "    </tr>\n",
              "    <tr>\n",
              "      <th>3</th>\n",
              "      <td>0.000000</td>\n",
              "      <td>0.0</td>\n",
              "      <td>0.000000</td>\n",
              "      <td>0.0</td>\n",
              "      <td>0.0</td>\n",
              "      <td>0.326824</td>\n",
              "      <td>0.000000</td>\n",
              "      <td>0.0</td>\n",
              "      <td>0.0</td>\n",
              "      <td>0.0</td>\n",
              "      <td>...</td>\n",
              "      <td>0.000000</td>\n",
              "      <td>0.0</td>\n",
              "      <td>0.0</td>\n",
              "      <td>0.0</td>\n",
              "      <td>0.285676</td>\n",
              "      <td>0.0</td>\n",
              "      <td>0.0</td>\n",
              "      <td>0.0</td>\n",
              "      <td>0.000000</td>\n",
              "      <td>0.000000</td>\n",
              "    </tr>\n",
              "    <tr>\n",
              "      <th>4</th>\n",
              "      <td>0.000000</td>\n",
              "      <td>0.0</td>\n",
              "      <td>0.000000</td>\n",
              "      <td>0.0</td>\n",
              "      <td>0.0</td>\n",
              "      <td>0.000000</td>\n",
              "      <td>0.000000</td>\n",
              "      <td>0.0</td>\n",
              "      <td>0.0</td>\n",
              "      <td>0.0</td>\n",
              "      <td>...</td>\n",
              "      <td>0.000000</td>\n",
              "      <td>0.0</td>\n",
              "      <td>0.0</td>\n",
              "      <td>0.0</td>\n",
              "      <td>0.000000</td>\n",
              "      <td>0.0</td>\n",
              "      <td>0.0</td>\n",
              "      <td>0.0</td>\n",
              "      <td>0.000000</td>\n",
              "      <td>0.000000</td>\n",
              "    </tr>\n",
              "  </tbody>\n",
              "</table>\n",
              "<p>5 rows × 225 columns</p>\n",
              "</div>"
            ],
            "text/plain": [
              "   abonnement  accueil  agréable  aimable  ancien     année       ans  \\\n",
              "0    0.000000      0.0  0.341832      0.0     0.0  0.000000  0.000000   \n",
              "1    0.000000      0.0  0.000000      0.0     0.0  0.000000  0.000000   \n",
              "2    0.261888      0.0  0.000000      0.0     0.0  0.000000  0.141678   \n",
              "3    0.000000      0.0  0.000000      0.0     0.0  0.326824  0.000000   \n",
              "4    0.000000      0.0  0.000000      0.0     0.0  0.000000  0.000000   \n",
              "\n",
              "   appartement  appel  appeler  ...  téléphone  téléphonique  viens  vite  \\\n",
              "0          0.0    0.0      0.0  ...   0.255156           0.0    0.0   0.0   \n",
              "1          0.0    0.0      0.0  ...   0.240023           0.0    0.0   0.0   \n",
              "2          0.0    0.0      0.0  ...   0.000000           0.0    0.0   0.0   \n",
              "3          0.0    0.0      0.0  ...   0.000000           0.0    0.0   0.0   \n",
              "4          0.0    0.0      0.0  ...   0.000000           0.0    0.0   0.0   \n",
              "\n",
              "       voir  voleurs  vraiment  écoute  électricité   énergie  \n",
              "0  0.000000      0.0       0.0     0.0     0.000000  0.000000  \n",
              "1  0.000000      0.0       0.0     0.0     0.240939  0.000000  \n",
              "2  0.000000      0.0       0.0     0.0     0.000000  0.297514  \n",
              "3  0.285676      0.0       0.0     0.0     0.000000  0.000000  \n",
              "4  0.000000      0.0       0.0     0.0     0.000000  0.000000  \n",
              "\n",
              "[5 rows x 225 columns]"
            ]
          },
          "execution_count": 32,
          "metadata": {},
          "output_type": "execute_result"
        }
      ],
      "source": [
        "### Se the tfidf matrix\n",
        "column = np.array(vectorizer.get_feature_names_out())\n",
        "df_tfidf = pd.DataFrame(X.todense(), columns = column)\n",
        "print(df_tfidf.shape)\n",
        "df_tfidf.head()"
      ]
    },
    {
      "cell_type": "markdown",
      "metadata": {
        "id": "cXPbJVFICU0g"
      },
      "source": [
        "## Train a Logistic Regression Classifier"
      ]
    },
    {
      "cell_type": "code",
      "execution_count": 33,
      "metadata": {
        "id": "7RRhyXbhrdbe"
      },
      "outputs": [],
      "source": [
        "from sklearn.linear_model import LogisticRegression\n",
        "from sklearn.metrics import classification_report,f1_score, accuracy_score\n",
        "from sklearn.model_selection import train_test_split"
      ]
    },
    {
      "cell_type": "code",
      "execution_count": 36,
      "metadata": {
        "colab": {
          "base_uri": "https://localhost:8080/"
        },
        "id": "6BDHfK3erhNH",
        "outputId": "cb1c1120-b29f-43a8-b479-6ccc70f9b2b7"
      },
      "outputs": [
        {
          "name": "stdout",
          "output_type": "stream",
          "text": [
            "              precision    recall  f1-score   support\n",
            "\n",
            "           0       0.75      0.80      0.77      1450\n",
            "           1       0.90      0.86      0.88      2858\n",
            "\n",
            "    accuracy                           0.84      4308\n",
            "   macro avg       0.82      0.83      0.83      4308\n",
            "weighted avg       0.84      0.84      0.84      4308\n",
            "\n"
          ]
        }
      ],
      "source": [
        "classifier = LogisticRegression(class_weight = 'balanced', random_state=2023 )\n",
        "\n",
        "# Train test split with classes stratify\n",
        "X_train, X_test, y_train, y_test = train_test_split(\n",
        "    X, y, stratify=y, test_size=0.3, random_state=2023)\n",
        "\n",
        "model = classifier.fit(X_train, y_train) # fit your model\n",
        "yhat = model.predict(X_test)  # predict in test data\n",
        "\n",
        "print(classification_report(y_test, yhat))"
      ]
    },
    {
      "cell_type": "markdown",
      "metadata": {
        "id": "7RSNNhHssJ6s"
      },
      "source": [
        "## Explain the  review’s sentiment \n",
        "\n",
        "We can use [SHAP](https://shap.readthedocs.io/en/latest/index.html) to explain our model. \n",
        "\n",
        "In the following graphique **Feature Value** refers to  the frequence of the word in the reviews. So in the plots below the positive features are actually helping raise the chance of a positive review, while the negative features are lowering the chance. It is interesting to see how what is not present in the text  is often just as important as what is in the text. Remember the values of the features are TF-IDF values.\n",
        "\n"
      ]
    },
    {
      "cell_type": "code",
      "execution_count": 37,
      "metadata": {
        "colab": {
          "base_uri": "https://localhost:8080/",
          "height": 455
        },
        "id": "QMlCT764r10p",
        "outputId": "7940a508-6f1e-485c-988f-d4b90f84b783"
      },
      "outputs": [
        {
          "name": "stderr",
          "output_type": "stream",
          "text": [
            "The option feature_dependence has been renamed to feature_perturbation!\n",
            "The option feature_perturbation=\"independent\" is has been renamed to feature_perturbation=\"interventional\"!\n",
            "The feature_perturbation option is now deprecated in favor of using the appropriate masker (maskers.Independent, or maskers.Impute)\n",
            "No data for colormapping provided via 'c'. Parameters 'vmin', 'vmax' will be ignored\n"
          ]
        },
        {
          "data": {
            "image/png": "[encoded data removed]",
            "text/plain": [
              "<Figure size 576x396 with 2 Axes>"
            ]
          },
          "metadata": {
            "needs_background": "light"
          },
          "output_type": "display_data"
        }
      ],
      "source": [
        "import shap\n",
        "\n",
        "explainer = shap.LinearExplainer(\n",
        "    model, X_train, feature_dependence=\"independent\")\n",
        "shap_values = explainer.shap_values(X_test)\n",
        "# we need to pass a dense version for the plotting functions\n",
        "X_test_array = X_test.toarray()\n",
        "\n",
        "shap.summary_plot(shap_values, X_test_array,\n",
        "            feature_names=vectorizer.get_feature_names_out(), max_display=10)"
      ]
    },
    {
      "cell_type": "markdown",
      "metadata": {
        "id": "V3k0dod-1mWh"
      },
      "source": [
        "Word like **rapide**, **professionnel**, **efficace**, **facture**, **écoute** ... are associated to negative comments."
      ]
    },
    {
      "cell_type": "markdown",
      "metadata": {
        "id": "WSl3iEYAuPpt"
      },
      "source": [
        "## Prediction"
      ]
    },
    {
      "cell_type": "markdown",
      "metadata": {
        "id": "yade8KASBrVU"
      },
      "source": [
        "define first a pipline to pre-process a text input and apply the vectoriser "
      ]
    },
    {
      "cell_type": "code",
      "execution_count": 34,
      "metadata": {
        "id": "eDHSCfRHsTHk"
      },
      "outputs": [],
      "source": [
        "def join_tok(tokens):\n",
        "    return [' '.join(tokens)]\n",
        "    \n",
        "Pipeline = {'tokenize': process.tokenize_stemme,\n",
        "            'clean_token': process.clean_tokens,\n",
        "            'join' : join_tok,\n",
        "            'tfidf' : vectorizer.transform,\n",
        "           \n",
        "          }\n",
        "\n",
        "def DetectSentiment(text, model):\n",
        "  for func in Pipeline:\n",
        "      text = Pipeline[func](text)\n",
        "      \n",
        "  return model.predict_proba(text)[0][1] # score of the positive classe"
      ]
    },
    {
      "cell_type": "code",
      "execution_count": 62,
      "metadata": {},
      "outputs": [
        {
          "name": "stdout",
          "output_type": "stream",
          "text": [
            "Collecting fr-core-news-sm==3.5.0\n",
            "  Downloading https://github.com/explosion/spacy-models/releases/download/fr_core_news_sm-3.5.0/fr_core_news_sm-3.5.0-py3-none-any.whl (16.3 MB)\n",
            "Requirement already satisfied: spacy<3.6.0,>=3.5.0 in c:\\users\\dell\\anaconda3\\lib\\site-packages (from fr-core-news-sm==3.5.0) (3.5.0)\n",
            "Requirement already satisfied: thinc<8.2.0,>=8.1.0 in c:\\users\\dell\\anaconda3\\lib\\site-packages (from spacy<3.6.0,>=3.5.0->fr-core-news-sm==3.5.0) (8.1.9)\n",
            "Requirement already satisfied: langcodes<4.0.0,>=3.2.0 in c:\\users\\dell\\anaconda3\\lib\\site-packages (from spacy<3.6.0,>=3.5.0->fr-core-news-sm==3.5.0) (3.3.0)\n",
            "Requirement already satisfied: pydantic!=1.8,!=1.8.1,<1.11.0,>=1.7.4 in c:\\users\\dell\\anaconda3\\lib\\site-packages (from spacy<3.6.0,>=3.5.0->fr-core-news-sm==3.5.0) (1.9.2)\n",
            "Requirement already satisfied: murmurhash<1.1.0,>=0.28.0 in c:\\users\\dell\\anaconda3\\lib\\site-packages (from spacy<3.6.0,>=3.5.0->fr-core-news-sm==3.5.0) (1.0.9)\n",
            "Requirement already satisfied: pathy>=0.10.0 in c:\\users\\dell\\anaconda3\\lib\\site-packages (from spacy<3.6.0,>=3.5.0->fr-core-news-sm==3.5.0) (0.10.1)\n",
            "Requirement already satisfied: cymem<2.1.0,>=2.0.2 in c:\\users\\dell\\anaconda3\\lib\\site-packages (from spacy<3.6.0,>=3.5.0->fr-core-news-sm==3.5.0) (2.0.7)\n",
            "Requirement already satisfied: numpy>=1.15.0 in c:\\users\\dell\\anaconda3\\lib\\site-packages (from spacy<3.6.0,>=3.5.0->fr-core-news-sm==3.5.0) (1.21.5)\n",
            "Requirement already satisfied: spacy-legacy<3.1.0,>=3.0.11 in c:\\users\\dell\\anaconda3\\lib\\site-packages (from spacy<3.6.0,>=3.5.0->fr-core-news-sm==3.5.0) (3.0.12)\n",
            "Requirement already satisfied: setuptools in c:\\users\\dell\\anaconda3\\lib\\site-packages (from spacy<3.6.0,>=3.5.0->fr-core-news-sm==3.5.0) (61.2.0)\n",
            "Requirement already satisfied: srsly<3.0.0,>=2.4.3 in c:\\users\\dell\\anaconda3\\lib\\site-packages (from spacy<3.6.0,>=3.5.0->fr-core-news-sm==3.5.0) (2.4.6)\n",
            "Requirement already satisfied: preshed<3.1.0,>=3.0.2 in c:\\users\\dell\\anaconda3\\lib\\site-packages (from spacy<3.6.0,>=3.5.0->fr-core-news-sm==3.5.0) (3.0.8)\n",
            "Requirement already satisfied: packaging>=20.0 in c:\\users\\dell\\anaconda3\\lib\\site-packages (from spacy<3.6.0,>=3.5.0->fr-core-news-sm==3.5.0) (21.3)\n",
            "Requirement already satisfied: catalogue<2.1.0,>=2.0.6 in c:\\users\\dell\\anaconda3\\lib\\site-packages (from spacy<3.6.0,>=3.5.0->fr-core-news-sm==3.5.0) (2.0.8)\n",
            "Requirement already satisfied: wasabi<1.2.0,>=0.9.1 in c:\\users\\dell\\anaconda3\\lib\\site-packages (from spacy<3.6.0,>=3.5.0->fr-core-news-sm==3.5.0) (1.1.1)\n",
            "Requirement already satisfied: requests<3.0.0,>=2.13.0 in c:\\users\\dell\\anaconda3\\lib\\site-packages (from spacy<3.6.0,>=3.5.0->fr-core-news-sm==3.5.0) (2.27.1)\n",
            "Requirement already satisfied: typer<0.8.0,>=0.3.0 in c:\\users\\dell\\anaconda3\\lib\\site-packages (from spacy<3.6.0,>=3.5.0->fr-core-news-sm==3.5.0) (0.7.0)\n",
            "Requirement already satisfied: jinja2 in c:\\users\\dell\\anaconda3\\lib\\site-packages (from spacy<3.6.0,>=3.5.0->fr-core-news-sm==3.5.0) (2.11.3)\n",
            "Requirement already satisfied: spacy-loggers<2.0.0,>=1.0.0 in c:\\users\\dell\\anaconda3\\lib\\site-packages (from spacy<3.6.0,>=3.5.0->fr-core-news-sm==3.5.0) (1.0.4)\n",
            "Requirement already satisfied: tqdm<5.0.0,>=4.38.0 in c:\\users\\dell\\anaconda3\\lib\\site-packages (from spacy<3.6.0,>=3.5.0->fr-core-news-sm==3.5.0) (4.65.0)\n",
            "Requirement already satisfied: smart-open<7.0.0,>=5.2.1 in c:\\users\\dell\\anaconda3\\lib\\site-packages (from spacy<3.6.0,>=3.5.0->fr-core-news-sm==3.5.0) (6.3.0)\n",
            "Requirement already satisfied: pyparsing!=3.0.5,>=2.0.2 in c:\\users\\dell\\anaconda3\\lib\\site-packages (from packaging>=20.0->spacy<3.6.0,>=3.5.0->fr-core-news-sm==3.5.0) (3.0.4)\n",
            "Requirement already satisfied: typing-extensions>=3.7.4.3 in c:\\users\\dell\\anaconda3\\lib\\site-packages (from pydantic!=1.8,!=1.8.1,<1.11.0,>=1.7.4->spacy<3.6.0,>=3.5.0->fr-core-news-sm==3.5.0) (4.5.0)\n",
            "Requirement already satisfied: idna<4,>=2.5 in c:\\users\\dell\\anaconda3\\lib\\site-packages (from requests<3.0.0,>=2.13.0->spacy<3.6.0,>=3.5.0->fr-core-news-sm==3.5.0) (3.3)\n",
            "Requirement already satisfied: charset-normalizer~=2.0.0 in c:\\users\\dell\\anaconda3\\lib\\site-packages (from requests<3.0.0,>=2.13.0->spacy<3.6.0,>=3.5.0->fr-core-news-sm==3.5.0) (2.0.4)\n",
            "Requirement already satisfied: urllib3<1.27,>=1.21.1 in c:\\users\\dell\\anaconda3\\lib\\site-packages (from requests<3.0.0,>=2.13.0->spacy<3.6.0,>=3.5.0->fr-core-news-sm==3.5.0) (1.26.9)\n",
            "Requirement already satisfied: certifi>=2017.4.17 in c:\\users\\dell\\anaconda3\\lib\\site-packages (from requests<3.0.0,>=2.13.0->spacy<3.6.0,>=3.5.0->fr-core-news-sm==3.5.0) (2022.12.7)\n",
            "Requirement already satisfied: blis<0.8.0,>=0.7.8 in c:\\users\\dell\\anaconda3\\lib\\site-packages (from thinc<8.2.0,>=8.1.0->spacy<3.6.0,>=3.5.0->fr-core-news-sm==3.5.0) (0.7.9)\n",
            "Requirement already satisfied: confection<1.0.0,>=0.0.1 in c:\\users\\dell\\anaconda3\\lib\\site-packages (from thinc<8.2.0,>=8.1.0->spacy<3.6.0,>=3.5.0->fr-core-news-sm==3.5.0) (0.0.4)\n",
            "Requirement already satisfied: colorama in c:\\users\\dell\\anaconda3\\lib\\site-packages (from tqdm<5.0.0,>=4.38.0->spacy<3.6.0,>=3.5.0->fr-core-news-sm==3.5.0) (0.4.6)\n",
            "Requirement already satisfied: click<9.0.0,>=7.1.1 in c:\\users\\dell\\anaconda3\\lib\\site-packages (from typer<0.8.0,>=0.3.0->spacy<3.6.0,>=3.5.0->fr-core-news-sm==3.5.0) (8.0.4)\n",
            "Requirement already satisfied: MarkupSafe>=0.23 in c:\\users\\dell\\anaconda3\\lib\\site-packages (from jinja2->spacy<3.6.0,>=3.5.0->fr-core-news-sm==3.5.0) (2.0.1)\n",
            "\u001b[38;5;2m✔ Download and installation successful\u001b[0m\n",
            "You can now load the package via spacy.load('fr_core_news_sm')\n"
          ]
        },
        {
          "name": "stderr",
          "output_type": "stream",
          "text": [
            "WARNING: Ignoring invalid distribution -atplotlib (c:\\users\\dell\\anaconda3\\lib\\site-packages)\n",
            "WARNING: Ignoring invalid distribution -atplotlib (c:\\users\\dell\\anaconda3\\lib\\site-packages)\n",
            "WARNING: Ignoring invalid distribution -atplotlib (c:\\users\\dell\\anaconda3\\lib\\site-packages)\n",
            "WARNING: Ignoring invalid distribution -atplotlib (c:\\users\\dell\\anaconda3\\lib\\site-packages)\n",
            "WARNING: Ignoring invalid distribution -atplotlib (c:\\users\\dell\\anaconda3\\lib\\site-packages)\n",
            "WARNING: Ignoring invalid distribution -atplotlib (c:\\users\\dell\\anaconda3\\lib\\site-packages)\n"
          ]
        }
      ],
      "source": [
        "!python -m spacy download fr_core_news_sm"
      ]
    },
    {
      "cell_type": "code",
      "execution_count": 38,
      "metadata": {
        "colab": {
          "base_uri": "https://localhost:8080/"
        },
        "id": "7CuHdB6TuKns",
        "outputId": "d2beef76-735b-4f4f-af26-cbbb7bf4ff97"
      },
      "outputs": [
        {
          "data": {
            "text/plain": [
              "0.69590745742044"
            ]
          },
          "execution_count": 38,
          "metadata": {},
          "output_type": "execute_result"
        }
      ],
      "source": [
        "text = \"Je suis très déçu par les services offerts par Total Energie. J'ai trouvé leur service clientèle\\\n",
        "        désorganisé et leur manque de communication a été très décevant. Je ne recommanderais pas Total Energie à mes amis.\"\n",
        "\n",
        "DetectSentiment(text, model)"
      ]
    },
    {
      "cell_type": "code",
      "execution_count": 64,
      "metadata": {
        "id": "V2X7M7St2gHY"
      },
      "outputs": [],
      "source": [
        "# TO DO : \n",
        "\n",
        "\n",
        "# 0 - Using documentations, what is the diffrence between Vader and textBlob ? Do they calculate the scores in the same way ?\n",
        "# 1 -  Compare the performence between vader and the Logistique regression classifier.\n",
        "\n",
        "## HINT : \n",
        "#       - Separate negative reviews and positif reviews\n",
        "#       - Compare Logistic regression's scores  and vader's scores in each group\n",
        "\n",
        "# 2 -  Use a Decision Tree classier instead of Logistique regression. Do you have better results ?\n",
        "# 3 -  Use an embedding approach instead of tfifd. Do you have better results ?\n"
      ]
    },
    {
      "attachments": {},
      "cell_type": "markdown",
      "metadata": {},
      "source": [
        "Vader (Valence Aware Dictionary and sEntiment Reasoner) uses a lexicon-based approach to sentiment analysis. It uses a pre-built list of words and phrases that have been previously labeled with sentiment scores and applies rules to calculate the overall sentiment score of a text. Vader also takes into account the intensity of sentiment and negations in the text.\n",
        "\n",
        "TextBlob, on the other hand, uses a rule-based approach to sentiment analysis. It uses a machine learning algorithm to learn patterns from a labeled dataset of text and applies these patterns to new text to determine its sentiment score."
      ]
    },
    {
      "cell_type": "code",
      "execution_count": 108,
      "metadata": {},
      "outputs": [
        {
          "name": "stdout",
          "output_type": "stream",
          "text": [
            "Logistic Regression Accuracy: 0.9381040509973266\n",
            "Vader Accuracy: 0.8379560640292266\n"
          ]
        }
      ],
      "source": [
        "# 1 -  Compare the performence between vader and the Logistique regression classifier.\n",
        "\n",
        "#Logistic Regression\n",
        "print(f\"Logistic Regression Accuracy: {f1_score(yhat, y_test)}\")\n",
        "\n",
        "#VaderPred\n",
        "#vader_pred = reviews.tokens_processed.apply(vader_sentiment_scores)\n",
        "print(f\"Vader Accuracy: {f1_score(vader_pred, reviews.sentiment)}\")\n",
        "\n",
        "\n"
      ]
    },
    {
      "cell_type": "code",
      "execution_count": 110,
      "metadata": {},
      "outputs": [
        {
          "name": "stdout",
          "output_type": "stream",
          "text": [
            "Logistic Regression\n",
            "Accuracy % for positive predictions: 0.9575986565910999\n",
            "Accuracy % for negative predictions: 0.8344370860927153\n",
            "\n",
            "\n",
            "Vader\n",
            "Accuracy % for positive predictions: 0.9147774979009236\n",
            "Accuracy % for negative predictions: 0.47040562913907286\n",
            "\n",
            "\n",
            "TextBlob\n",
            "Accuracy % for positive predictions: 0.9943324937027708\n",
            "Accuracy % for negative predictions: 0.10347682119205298\n",
            "\n",
            "\n"
          ]
        }
      ],
      "source": [
        "pos_idx = np.where(y_test == 1)\n",
        "neg_idx = np.where(y_test == 0)\n",
        "\n",
        "print(\"Logistic Regression\")\n",
        "print(f\"Accuracy % for positive predictions: {np.mean(y_test[pos_idx] == yhat[pos_idx])}\")\n",
        "print(f\"Accuracy % for negative predictions: {np.mean(y_test[neg_idx] == yhat[neg_idx])}\\n\\n\")\n",
        "\n",
        "y_samp = reviews.sentiment.ravel()\n",
        "pos_idx = np.where(y_samp == 1)\n",
        "neg_idx = np.where(y_samp == 0)\n",
        "print(\"Vader\")\n",
        "print(f\"Accuracy % for positive predictions: {np.mean(vader_pred.ravel()[pos_idx] == y_samp[pos_idx])}\")\n",
        "print(f\"Accuracy % for negative predictions: {np.mean(vader_pred.ravel()[neg_idx] == y_samp[neg_idx])}\\n\\n\")\n",
        "\n",
        "print(\"TextBlob\")\n",
        "print(f\"Accuracy % for positive predictions: {np.mean(textBlob_pred.ravel()[pos_idx] == y_samp[pos_idx])}\")\n",
        "print(f\"Accuracy % for negative predictions: {np.mean(textBlob_pred.ravel()[neg_idx] == y_samp[neg_idx])}\\n\\n\")\n",
        "\n",
        "\n"
      ]
    },
    {
      "cell_type": "code",
      "execution_count": 100,
      "metadata": {},
      "outputs": [
        {
          "data": {
            "text/plain": [
              "(14334,)"
            ]
          },
          "execution_count": 100,
          "metadata": {},
          "output_type": "execute_result"
        }
      ],
      "source": [
        "y.shape"
      ]
    },
    {
      "cell_type": "code",
      "execution_count": 112,
      "metadata": {},
      "outputs": [
        {
          "name": "stdout",
          "output_type": "stream",
          "text": [
            "Decision Tree Accuracy: 0.8954412379757424\n",
            "Accuracy % for positive predictions: 0.8988245172124265\n",
            "Accuracy % for negative predictions: 0.7855960264900662\n"
          ]
        }
      ],
      "source": [
        "#3\n",
        "from sklearn.tree import DecisionTreeClassifier\n",
        "\n",
        "model = DecisionTreeClassifier()\n",
        "\n",
        "model.fit(X_train, y_train)\n",
        "yhat = model.predict(X_test)\n",
        "print(f\"Decision Tree Accuracy: {f1_score(yhat, y_test)}\")\n",
        "\n",
        "pos_idx = np.where(y_test == 1)\n",
        "neg_idx = np.where(y_test == 0)\n",
        "\n",
        "print(f\"Accuracy % for positive predictions: {np.mean(yhat.ravel()[pos_idx] == y_test[pos_idx])}\")\n",
        "print(f\"Accuracy % for negative predictions: {np.mean(yhat.ravel()[neg_idx] == y_test[neg_idx])}\")"
      ]
    },
    {
      "cell_type": "code",
      "execution_count": 113,
      "metadata": {},
      "outputs": [
        {
          "name": "stdout",
          "output_type": "stream",
          "text": [
            "Gradient Booster Accuracy: 0.9160997732426305\n",
            "Accuracy % for positive predictions: 0.9328295549958019\n",
            "Accuracy % for negative predictions: 0.7955298013245033\n"
          ]
        }
      ],
      "source": [
        "from sklearn.ensemble import GradientBoostingClassifier\n",
        "\n",
        "model = GradientBoostingClassifier()\n",
        "\n",
        "model.fit(X_train, y_train)\n",
        "yhat = model.predict(X_test)\n",
        "print(f\"Gradient Booster Accuracy: {f1_score(yhat, y_test)}\")\n",
        "\n",
        "print(f\"Accuracy % for positive predictions: {np.mean(yhat.ravel()[pos_idx] == y_test[pos_idx])}\")\n",
        "print(f\"Accuracy % for negative predictions: {np.mean(yhat.ravel()[neg_idx] == y_test[neg_idx])}\")\n"
      ]
    },
    {
      "cell_type": "code",
      "execution_count": 114,
      "metadata": {},
      "outputs": [
        {
          "name": "stdout",
          "output_type": "stream",
          "text": [
            "Random Forest Accuracy: 0.9379225568531039\n",
            "Accuracy % for positive predictions: 0.9609571788413098\n",
            "Accuracy % for negative predictions: 0.8261589403973509\n"
          ]
        }
      ],
      "source": [
        "from sklearn.ensemble import RandomForestClassifier\n",
        "\n",
        "model = RandomForestClassifier()\n",
        "\n",
        "model.fit(X_train, y_train)\n",
        "yhat = model.predict(X_test)\n",
        "print(f\"Random Forest Accuracy: {f1_score(yhat, y_test)}\")\n",
        "\n",
        "print(f\"Accuracy % for positive predictions: {np.mean(yhat.ravel()[pos_idx] == y_test[pos_idx])}\")\n",
        "print(f\"Accuracy % for negative predictions: {np.mean(yhat.ravel()[neg_idx] == y_test[neg_idx])}\")\n"
      ]
    },
    {
      "attachments": {},
      "cell_type": "markdown",
      "metadata": {},
      "source": [
        "We already have the labels. What is the point for the model? We say that we built a model that is readily usable for future predictions."
      ]
    },
    {
      "attachments": {},
      "cell_type": "markdown",
      "metadata": {},
      "source": [
        "### Word2Vec"
      ]
    },
    {
      "cell_type": "code",
      "execution_count": 44,
      "metadata": {},
      "outputs": [
        {
          "data": {
            "text/plain": [
              "(17572126, 20694300)"
            ]
          },
          "execution_count": 44,
          "metadata": {},
          "output_type": "execute_result"
        }
      ],
      "source": [
        "#4: Word embedding with our own data\n",
        "from gensim.models import Word2Vec\n",
        "tokenized_corpus = [list(i) for i in reviews.tokens_lem_processed]\n",
        "w2v = Word2Vec(tokenized_corpus, window=7, min_count=1, workers=5)\n",
        "w2v.build_vocab(tokenized_corpus)\n",
        "w2v.train(tokenized_corpus, total_examples=w2v.corpus_count, epochs=100)\n"
      ]
    },
    {
      "cell_type": "code",
      "execution_count": 45,
      "metadata": {},
      "outputs": [
        {
          "data": {
            "text/plain": [
              "14360"
            ]
          },
          "execution_count": 45,
          "metadata": {},
          "output_type": "execute_result"
        }
      ],
      "source": [
        "w2v.corpus_count"
      ]
    },
    {
      "cell_type": "code",
      "execution_count": 46,
      "metadata": {},
      "outputs": [],
      "source": [
        "embedding_matrix = dict()\n",
        "\n",
        "for word in w2v.wv.index_to_key:\n",
        "    embedding_matrix[word] = list(w2v.wv[word])\n",
        "\n",
        "embedding_matrix = pd.DataFrame(embedding_matrix)"
      ]
    },
    {
      "cell_type": "code",
      "execution_count": 47,
      "metadata": {},
      "outputs": [
        {
          "data": {
            "text/plain": [
              "((14360, 100), (14360,))"
            ]
          },
          "execution_count": 47,
          "metadata": {},
          "output_type": "execute_result"
        }
      ],
      "source": [
        "def aggregate_review_vectors(reviews, word2vec_model):\n",
        "    review_vectors = np.zeros((len(reviews), word2vec_model.vector_size))\n",
        "    #print(review_vectors.shape)\n",
        "    for i, review_words in enumerate(reviews):\n",
        "        #review_words = review.split()\n",
        "        \n",
        "        review_vector = np.zeros(word2vec_model.vector_size)\n",
        "        count = 0\n",
        "        for word in review_words:\n",
        "            if word in word2vec_model.wv:\n",
        "                word_vector = word2vec_model.wv[word]\n",
        "                review_vector += word_vector\n",
        "                count += 1\n",
        "        if count > 0:\n",
        "            review_vector /= count\n",
        "        #review_vectors.append(review_vector)\n",
        "        review_vectors[i,:] = review_vector\n",
        "    return review_vectors\n",
        "\n",
        "\n",
        "X = aggregate_review_vectors(reviews.tokens_lem_processed, w2v)\n",
        "y = np.where(reviews.note >= 4, 1, 0)\n",
        "X.shape, y.shape"
      ]
    },
    {
      "cell_type": "code",
      "execution_count": 48,
      "metadata": {},
      "outputs": [],
      "source": [
        "X_train, X_test, y_train, y_test = train_test_split(\n",
        "    X, y, stratify=y, test_size=0.25, random_state=31)"
      ]
    },
    {
      "cell_type": "code",
      "execution_count": 50,
      "metadata": {},
      "outputs": [
        {
          "name": "stdout",
          "output_type": "stream",
          "text": [
            "Random Forest Accuracy: 0.9381040509973266\n",
            "Accuracy % for positive predictions: 0.9575986565910999\n",
            "Accuracy % for negative predictions: 0.8344370860927153\n"
          ]
        }
      ],
      "source": [
        "from sklearn.ensemble import RandomForestClassifier\n",
        "\n",
        "model = RandomForestClassifier()\n",
        "\n",
        "model.fit(X_train, y_train)\n",
        "yhat = model.predict(X_test)\n",
        "print(f\"Random Forest Accuracy: {f1_score(yhat, y_test)}\")\n",
        "\n",
        "\n",
        "pos_idx = np.where(y_test == 1)\n",
        "neg_idx = np.where(y_test == 0)\n",
        "print(f\"Accuracy % for positive predictions: {np.mean(yhat.ravel()[pos_idx] == y_test[pos_idx])}\")\n",
        "print(f\"Accuracy % for negative predictions: {np.mean(yhat.ravel()[neg_idx] == y_test[neg_idx])}\")"
      ]
    },
    {
      "cell_type": "code",
      "execution_count": 57,
      "metadata": {},
      "outputs": [],
      "source": [
        "reviews[\"topics\"] = topics"
      ]
    },
    {
      "cell_type": "code",
      "execution_count": 94,
      "metadata": {},
      "outputs": [],
      "source": [
        "mean_by_topic = pd.DataFrame(reviews.groupby(\"topics\")[\"note\"].mean())\n",
        "mean_by_topic[\"sentiment\"] = reviews.groupby(\"topics\")[\"sentiment\"].mean()\n",
        "\n",
        "mean_by_topic = mean_by_topic.rename(\n",
        "    index={0:\"Customer Service\", 1:\"Price\", 2:\"Other\"})\n",
        "mean_by_topic.to_excel(\"topic_and_sentiment_.xlsx\")"
      ]
    },
    {
      "cell_type": "code",
      "execution_count": 65,
      "metadata": {},
      "outputs": [
        {
          "data": {
            "text/plain": [
              "1    9528\n",
              "0    4832\n",
              "Name: sentiment, dtype: int64"
            ]
          },
          "execution_count": 65,
          "metadata": {},
          "output_type": "execute_result"
        }
      ],
      "source": [
        "reviews.sentiment.value_counts()"
      ]
    },
    {
      "cell_type": "code",
      "execution_count": 66,
      "metadata": {},
      "outputs": [
        {
          "data": {
            "text/plain": [
              "topics\n",
              "0    0.367362\n",
              "1    0.653685\n",
              "2    0.955575\n",
              "Name: sentiment, dtype: float64"
            ]
          },
          "execution_count": 66,
          "metadata": {},
          "output_type": "execute_result"
        }
      ],
      "source": [
        "reviews[\"sent\"] = np.where(reviews.sentiment == \"pos\", 1, 0)\n",
        "reviews.groupby(\"topics\")[\"sentiment\"].mean()"
      ]
    },
    {
      "attachments": {},
      "cell_type": "markdown",
      "metadata": {},
      "source": [
        "### BERT Approach\n"
      ]
    },
    {
      "cell_type": "code",
      "execution_count": 182,
      "metadata": {},
      "outputs": [
        {
          "name": "stderr",
          "output_type": "stream",
          "text": [
            "Some weights of the model checkpoint at distilbert-base-uncased were not used when initializing DistilBertModel: ['vocab_projector.bias', 'vocab_projector.weight', 'vocab_layer_norm.bias', 'vocab_transform.bias', 'vocab_layer_norm.weight', 'vocab_transform.weight']\n",
            "- This IS expected if you are initializing DistilBertModel from the checkpoint of a model trained on another task or with another architecture (e.g. initializing a BertForSequenceClassification model from a BertForPreTraining model).\n",
            "- This IS NOT expected if you are initializing DistilBertModel from the checkpoint of a model that you expect to be exactly identical (initializing a BertForSequenceClassification model from a BertForSequenceClassification model).\n"
          ]
        }
      ],
      "source": [
        "import transformers as ppb\n",
        "import tensorflow as tf\n",
        "\n",
        "# For DistilBERT:\n",
        "model_class, tokenizer_class, pretrained_weights = (ppb.DistilBertModel, ppb.DistilBertTokenizer, 'distilbert-base-uncased')\n",
        "\n",
        "## Want BERT instead of distilBERT? Uncomment the following line:\n",
        "#model_class, tokenizer_class, pretrained_weights = (ppb.BertModel, ppb.BertTokenizer, 'bert-base-uncased')\n",
        "\n",
        "# Load pretrained model/tokenizer\n",
        "tokenizer = tokenizer_class.from_pretrained(pretrained_weights)\n",
        "model = model_class.from_pretrained(pretrained_weights)"
      ]
    },
    {
      "cell_type": "code",
      "execution_count": 196,
      "metadata": {},
      "outputs": [
        {
          "name": "stdout",
          "output_type": "stream",
          "text": [
            "['contacte' 'téléphone' 'service' 'clients' 'total' 'energie' 'gaz'\n",
            " 'tombe' 'agréable' 'courtoise' 'sachant' 'conseiller' 'recommande'\n",
            " 'bénéficier' 'tarifs' 'préférentiels']\n",
            "\n",
            "[142, 35, 183, 21, 4, 91, 6, 8, 33, 75, 582, 34, 129, 1324, 80, 536, 3, 57, 1, 1056, 95, 61, 16, 464, 117, 8837, 282, 951]\n",
            "\n",
            "\n",
            "\n",
            "\n",
            "16 28\n"
          ]
        }
      ],
      "source": [
        "# Apply tokenization\n",
        "tokenizer = tf.keras.preprocessing.text.Tokenizer(filters=' ', char_level=False)\n",
        "tokenizer.fit_on_texts(reviews.clean_reviews)\n",
        "\n",
        "sequences = tokenizer.texts_to_sequences(reviews.clean_reviews)\n",
        "print(reviews[\"tokens_processed\"][0], sequences[0], sep=\"\\n\\n\")\n",
        "print(\"\\n\\n\\n\")\n",
        "print(len(reviews[\"tokens_processed\"][0]), len(sequences[0]), sep=\" \")"
      ]
    },
    {
      "cell_type": "code",
      "execution_count": 206,
      "metadata": {},
      "outputs": [
        {
          "data": {
            "text/plain": [
              "465"
            ]
          },
          "execution_count": 206,
          "metadata": {},
          "output_type": "execute_result"
        }
      ],
      "source": [
        "(np.array([len(i) for i in padded]) == 465).all()\n",
        "max_len"
      ]
    },
    {
      "cell_type": "code",
      "execution_count": 205,
      "metadata": {},
      "outputs": [
        {
          "name": "stdout",
          "output_type": "stream",
          "text": [
            "[142, 35, 183, 21, 4, 91, 6, 8, 33, 75, 582, 34, 129, 1324, 80, 536, 3, 57, 1, 1056, 95, 61, 16, 464, 117, 8837, 282, 951, 0, 0, 0, 0, 0, 0, 0, 0, 0, 0, 0, 0, 0, 0, 0, 0, 0, 0, 0, 0, 0, 0, 0, 0, 0, 0, 0, 0, 0, 0, 0, 0, 0, 0, 0, 0, 0, 0, 0, 0, 0, 0, 0, 0, 0, 0, 0, 0, 0, 0, 0, 0, 0, 0, 0, 0, 0, 0, 0, 0, 0, 0, 0, 0, 0, 0, 0, 0, 0, 0, 0, 0, 0, 0, 0, 0, 0, 0, 0, 0, 0, 0, 0, 0, 0, 0, 0, 0, 0, 0, 0, 0, 0, 0, 0, 0, 0, 0, 0, 0, 0, 0, 0, 0, 0, 0, 0, 0, 0, 0, 0, 0, 0, 0, 0, 0, 0, 0, 0, 0, 0, 0, 0, 0, 0, 0, 0, 0, 0, 0, 0, 0, 0, 0, 0, 0, 0, 0, 0, 0, 0, 0, 0, 0, 0, 0, 0, 0, 0, 0, 0, 0, 0, 0, 0, 0, 0, 0, 0, 0, 0, 0, 0, 0, 0, 0, 0, 0, 0, 0, 0, 0, 0, 0, 0, 0, 0, 0, 0, 0, 0, 0, 0, 0, 0, 0, 0, 0, 0, 0, 0, 0, 0, 0, 0, 0, 0, 0, 0, 0, 0, 0, 0, 0, 0, 0, 0, 0, 0, 0, 0, 0, 0, 0, 0, 0, 0, 0, 0, 0, 0, 0, 0, 0, 0, 0, 0, 0, 0, 0, 0, 0, 0, 0, 0, 0, 0, 0, 0, 0, 0, 0, 0, 0, 0, 0, 0, 0, 0, 0, 0, 0, 0, 0, 0, 0, 0, 0, 0, 0, 0, 0, 0, 0, 0, 0, 0, 0, 0, 0, 0, 0, 0, 0, 0, 0, 0, 0, 0, 0, 0, 0, 0, 0, 0, 0, 0, 0, 0, 0, 0, 0, 0, 0, 0, 0, 0, 0, 0, 0, 0, 0, 0, 0, 0, 0, 0, 0, 0, 0, 0, 0, 0, 0, 0, 0, 0, 0, 0, 0, 0, 0, 0, 0, 0, 0, 0, 0, 0, 0, 0, 0, 0, 0, 0, 0, 0, 0, 0, 0, 0, 0, 0, 0, 0, 0, 0, 0, 0, 0, 0, 0, 0, 0, 0, 0, 0, 0, 0, 0, 0, 0, 0, 0, 0, 0, 0, 0, 0, 0, 0, 0, 0, 0, 0, 0, 0, 0, 0, 0, 0, 0, 0, 0, 0, 0, 0, 0, 0, 0, 0, 0, 0, 0, 0, 0, 0, 0, 0, 0, 0, 0, 0, 0, 0, 0, 0, 0, 0, 0, 0, 0, 0, 0, 0, 0, 0, 0, 0, 0, 0, 0, 0, 0, 0, 0, 0, 0, 0, 0, 0, 0, 0, 0, 0, 0, 0]\n",
            "False\n",
            "(14360, 465)\n"
          ]
        }
      ],
      "source": [
        "max_len = 0\n",
        "for i in sequences:\n",
        "    if len(i) > max_len:\n",
        "        max_len = len(i)\n",
        "\n",
        "padded = [token + [0] * (max_len - len(token)) for token in sequences]\n",
        "print(padded[0])\n",
        "\n",
        "\n",
        "#check if all sizes are equal to max_len\n",
        "print(pd.Series(([len(pad) for pad in padded]) == max_len).all())\n",
        "\n",
        "padded = np.array(padded)\n",
        "print(padded.shape)"
      ]
    },
    {
      "cell_type": "code",
      "execution_count": 207,
      "metadata": {},
      "outputs": [
        {
          "data": {
            "text/plain": [
              "(14360, 465)"
            ]
          },
          "execution_count": 207,
          "metadata": {},
          "output_type": "execute_result"
        }
      ],
      "source": [
        "attention_mask = np.where(padded != 0, 1, 0)\n",
        "attention_mask.shape"
      ]
    },
    {
      "cell_type": "code",
      "execution_count": 208,
      "metadata": {},
      "outputs": [
        {
          "data": {
            "text/plain": [
              "15725"
            ]
          },
          "execution_count": 208,
          "metadata": {},
          "output_type": "execute_result"
        }
      ],
      "source": [
        "max(tokenizer.index_word.keys())"
      ]
    },
    {
      "cell_type": "code",
      "execution_count": 210,
      "metadata": {},
      "outputs": [
        {
          "ename": "RuntimeError",
          "evalue": "[enforce fail at C:\\b\\abs_bao0hdcrdh\\croot\\pytorch_1675190257512\\work\\c10\\core\\impl\\alloc_cpu.cpp:81] data. DefaultCPUAllocator: not enough memory: you tried to allocate 20512972800 bytes.",
          "output_type": "error",
          "traceback": [
            "\u001b[1;31m---------------------------------------------------------------------------\u001b[0m",
            "\u001b[1;31mRuntimeError\u001b[0m                              Traceback (most recent call last)",
            "\u001b[1;32mc:\\Users\\Dell\\MASTER COURSES\\CapGemini Datacamp\\Session 5\\ex_2_session_6_LDA_SE.ipynb Cell 115\u001b[0m in \u001b[0;36m<cell line: 6>\u001b[1;34m()\u001b[0m\n\u001b[0;32m      <a href='vscode-notebook-cell:/c%3A/Users/Dell/MASTER%20COURSES/CapGemini%20Datacamp/Session%205/ex_2_session_6_LDA_SE.ipynb#Y240sZmlsZQ%3D%3D?line=3'>4</a>\u001b[0m attention_mask \u001b[39m=\u001b[39m torch\u001b[39m.\u001b[39mtensor(attention_mask)\n\u001b[0;32m      <a href='vscode-notebook-cell:/c%3A/Users/Dell/MASTER%20COURSES/CapGemini%20Datacamp/Session%205/ex_2_session_6_LDA_SE.ipynb#Y240sZmlsZQ%3D%3D?line=5'>6</a>\u001b[0m \u001b[39mwith\u001b[39;00m torch\u001b[39m.\u001b[39mno_grad():\n\u001b[1;32m----> <a href='vscode-notebook-cell:/c%3A/Users/Dell/MASTER%20COURSES/CapGemini%20Datacamp/Session%205/ex_2_session_6_LDA_SE.ipynb#Y240sZmlsZQ%3D%3D?line=6'>7</a>\u001b[0m     last_hidden_states \u001b[39m=\u001b[39m model(input_ids, attention_mask\u001b[39m=\u001b[39;49mattention_mask)\n",
            "File \u001b[1;32mc:\\Users\\Dell\\anaconda3\\lib\\site-packages\\torch\\nn\\modules\\module.py:1130\u001b[0m, in \u001b[0;36mModule._call_impl\u001b[1;34m(self, *input, **kwargs)\u001b[0m\n\u001b[0;32m   1126\u001b[0m \u001b[39m# If we don't have any hooks, we want to skip the rest of the logic in\u001b[39;00m\n\u001b[0;32m   1127\u001b[0m \u001b[39m# this function, and just call forward.\u001b[39;00m\n\u001b[0;32m   1128\u001b[0m \u001b[39mif\u001b[39;00m \u001b[39mnot\u001b[39;00m (\u001b[39mself\u001b[39m\u001b[39m.\u001b[39m_backward_hooks \u001b[39mor\u001b[39;00m \u001b[39mself\u001b[39m\u001b[39m.\u001b[39m_forward_hooks \u001b[39mor\u001b[39;00m \u001b[39mself\u001b[39m\u001b[39m.\u001b[39m_forward_pre_hooks \u001b[39mor\u001b[39;00m _global_backward_hooks\n\u001b[0;32m   1129\u001b[0m         \u001b[39mor\u001b[39;00m _global_forward_hooks \u001b[39mor\u001b[39;00m _global_forward_pre_hooks):\n\u001b[1;32m-> 1130\u001b[0m     \u001b[39mreturn\u001b[39;00m forward_call(\u001b[39m*\u001b[39m\u001b[39minput\u001b[39m, \u001b[39m*\u001b[39m\u001b[39m*\u001b[39mkwargs)\n\u001b[0;32m   1131\u001b[0m \u001b[39m# Do not call functions when jit is used\u001b[39;00m\n\u001b[0;32m   1132\u001b[0m full_backward_hooks, non_full_backward_hooks \u001b[39m=\u001b[39m [], []\n",
            "File \u001b[1;32mc:\\Users\\Dell\\anaconda3\\lib\\site-packages\\transformers\\models\\distilbert\\modeling_distilbert.py:566\u001b[0m, in \u001b[0;36mDistilBertModel.forward\u001b[1;34m(self, input_ids, attention_mask, head_mask, inputs_embeds, output_attentions, output_hidden_states, return_dict)\u001b[0m\n\u001b[0;32m    563\u001b[0m head_mask \u001b[39m=\u001b[39m \u001b[39mself\u001b[39m\u001b[39m.\u001b[39mget_head_mask(head_mask, \u001b[39mself\u001b[39m\u001b[39m.\u001b[39mconfig\u001b[39m.\u001b[39mnum_hidden_layers)\n\u001b[0;32m    565\u001b[0m \u001b[39mif\u001b[39;00m inputs_embeds \u001b[39mis\u001b[39;00m \u001b[39mNone\u001b[39;00m:\n\u001b[1;32m--> 566\u001b[0m     inputs_embeds \u001b[39m=\u001b[39m \u001b[39mself\u001b[39;49m\u001b[39m.\u001b[39;49membeddings(input_ids)  \u001b[39m# (bs, seq_length, dim)\u001b[39;00m\n\u001b[0;32m    567\u001b[0m \u001b[39mreturn\u001b[39;00m \u001b[39mself\u001b[39m\u001b[39m.\u001b[39mtransformer(\n\u001b[0;32m    568\u001b[0m     x\u001b[39m=\u001b[39minputs_embeds,\n\u001b[0;32m    569\u001b[0m     attn_mask\u001b[39m=\u001b[39mattention_mask,\n\u001b[1;32m   (...)\u001b[0m\n\u001b[0;32m    573\u001b[0m     return_dict\u001b[39m=\u001b[39mreturn_dict,\n\u001b[0;32m    574\u001b[0m )\n",
            "File \u001b[1;32mc:\\Users\\Dell\\anaconda3\\lib\\site-packages\\torch\\nn\\modules\\module.py:1130\u001b[0m, in \u001b[0;36mModule._call_impl\u001b[1;34m(self, *input, **kwargs)\u001b[0m\n\u001b[0;32m   1126\u001b[0m \u001b[39m# If we don't have any hooks, we want to skip the rest of the logic in\u001b[39;00m\n\u001b[0;32m   1127\u001b[0m \u001b[39m# this function, and just call forward.\u001b[39;00m\n\u001b[0;32m   1128\u001b[0m \u001b[39mif\u001b[39;00m \u001b[39mnot\u001b[39;00m (\u001b[39mself\u001b[39m\u001b[39m.\u001b[39m_backward_hooks \u001b[39mor\u001b[39;00m \u001b[39mself\u001b[39m\u001b[39m.\u001b[39m_forward_hooks \u001b[39mor\u001b[39;00m \u001b[39mself\u001b[39m\u001b[39m.\u001b[39m_forward_pre_hooks \u001b[39mor\u001b[39;00m _global_backward_hooks\n\u001b[0;32m   1129\u001b[0m         \u001b[39mor\u001b[39;00m _global_forward_hooks \u001b[39mor\u001b[39;00m _global_forward_pre_hooks):\n\u001b[1;32m-> 1130\u001b[0m     \u001b[39mreturn\u001b[39;00m forward_call(\u001b[39m*\u001b[39m\u001b[39minput\u001b[39m, \u001b[39m*\u001b[39m\u001b[39m*\u001b[39mkwargs)\n\u001b[0;32m   1131\u001b[0m \u001b[39m# Do not call functions when jit is used\u001b[39;00m\n\u001b[0;32m   1132\u001b[0m full_backward_hooks, non_full_backward_hooks \u001b[39m=\u001b[39m [], []\n",
            "File \u001b[1;32mc:\\Users\\Dell\\anaconda3\\lib\\site-packages\\transformers\\models\\distilbert\\modeling_distilbert.py:127\u001b[0m, in \u001b[0;36mEmbeddings.forward\u001b[1;34m(self, input_ids)\u001b[0m\n\u001b[0;32m    124\u001b[0m     position_ids \u001b[39m=\u001b[39m torch\u001b[39m.\u001b[39marange(seq_length, dtype\u001b[39m=\u001b[39mtorch\u001b[39m.\u001b[39mlong, device\u001b[39m=\u001b[39minput_ids\u001b[39m.\u001b[39mdevice)  \u001b[39m# (max_seq_length)\u001b[39;00m\n\u001b[0;32m    125\u001b[0m     position_ids \u001b[39m=\u001b[39m position_ids\u001b[39m.\u001b[39munsqueeze(\u001b[39m0\u001b[39m)\u001b[39m.\u001b[39mexpand_as(input_ids)  \u001b[39m# (bs, max_seq_length)\u001b[39;00m\n\u001b[1;32m--> 127\u001b[0m word_embeddings \u001b[39m=\u001b[39m \u001b[39mself\u001b[39;49m\u001b[39m.\u001b[39;49mword_embeddings(input_ids)  \u001b[39m# (bs, max_seq_length, dim)\u001b[39;00m\n\u001b[0;32m    128\u001b[0m position_embeddings \u001b[39m=\u001b[39m \u001b[39mself\u001b[39m\u001b[39m.\u001b[39mposition_embeddings(position_ids)  \u001b[39m# (bs, max_seq_length, dim)\u001b[39;00m\n\u001b[0;32m    130\u001b[0m embeddings \u001b[39m=\u001b[39m word_embeddings \u001b[39m+\u001b[39m position_embeddings  \u001b[39m# (bs, max_seq_length, dim)\u001b[39;00m\n",
            "File \u001b[1;32mc:\\Users\\Dell\\anaconda3\\lib\\site-packages\\torch\\nn\\modules\\module.py:1130\u001b[0m, in \u001b[0;36mModule._call_impl\u001b[1;34m(self, *input, **kwargs)\u001b[0m\n\u001b[0;32m   1126\u001b[0m \u001b[39m# If we don't have any hooks, we want to skip the rest of the logic in\u001b[39;00m\n\u001b[0;32m   1127\u001b[0m \u001b[39m# this function, and just call forward.\u001b[39;00m\n\u001b[0;32m   1128\u001b[0m \u001b[39mif\u001b[39;00m \u001b[39mnot\u001b[39;00m (\u001b[39mself\u001b[39m\u001b[39m.\u001b[39m_backward_hooks \u001b[39mor\u001b[39;00m \u001b[39mself\u001b[39m\u001b[39m.\u001b[39m_forward_hooks \u001b[39mor\u001b[39;00m \u001b[39mself\u001b[39m\u001b[39m.\u001b[39m_forward_pre_hooks \u001b[39mor\u001b[39;00m _global_backward_hooks\n\u001b[0;32m   1129\u001b[0m         \u001b[39mor\u001b[39;00m _global_forward_hooks \u001b[39mor\u001b[39;00m _global_forward_pre_hooks):\n\u001b[1;32m-> 1130\u001b[0m     \u001b[39mreturn\u001b[39;00m forward_call(\u001b[39m*\u001b[39m\u001b[39minput\u001b[39m, \u001b[39m*\u001b[39m\u001b[39m*\u001b[39mkwargs)\n\u001b[0;32m   1131\u001b[0m \u001b[39m# Do not call functions when jit is used\u001b[39;00m\n\u001b[0;32m   1132\u001b[0m full_backward_hooks, non_full_backward_hooks \u001b[39m=\u001b[39m [], []\n",
            "File \u001b[1;32mc:\\Users\\Dell\\anaconda3\\lib\\site-packages\\torch\\nn\\modules\\sparse.py:158\u001b[0m, in \u001b[0;36mEmbedding.forward\u001b[1;34m(self, input)\u001b[0m\n\u001b[0;32m    157\u001b[0m \u001b[39mdef\u001b[39;00m \u001b[39mforward\u001b[39m(\u001b[39mself\u001b[39m, \u001b[39minput\u001b[39m: Tensor) \u001b[39m-\u001b[39m\u001b[39m>\u001b[39m Tensor:\n\u001b[1;32m--> 158\u001b[0m     \u001b[39mreturn\u001b[39;00m F\u001b[39m.\u001b[39;49membedding(\n\u001b[0;32m    159\u001b[0m         \u001b[39minput\u001b[39;49m, \u001b[39mself\u001b[39;49m\u001b[39m.\u001b[39;49mweight, \u001b[39mself\u001b[39;49m\u001b[39m.\u001b[39;49mpadding_idx, \u001b[39mself\u001b[39;49m\u001b[39m.\u001b[39;49mmax_norm,\n\u001b[0;32m    160\u001b[0m         \u001b[39mself\u001b[39;49m\u001b[39m.\u001b[39;49mnorm_type, \u001b[39mself\u001b[39;49m\u001b[39m.\u001b[39;49mscale_grad_by_freq, \u001b[39mself\u001b[39;49m\u001b[39m.\u001b[39;49msparse)\n",
            "File \u001b[1;32mc:\\Users\\Dell\\anaconda3\\lib\\site-packages\\torch\\nn\\functional.py:2199\u001b[0m, in \u001b[0;36membedding\u001b[1;34m(input, weight, padding_idx, max_norm, norm_type, scale_grad_by_freq, sparse)\u001b[0m\n\u001b[0;32m   2193\u001b[0m     \u001b[39m# Note [embedding_renorm set_grad_enabled]\u001b[39;00m\n\u001b[0;32m   2194\u001b[0m     \u001b[39m# XXX: equivalent to\u001b[39;00m\n\u001b[0;32m   2195\u001b[0m     \u001b[39m# with torch.no_grad():\u001b[39;00m\n\u001b[0;32m   2196\u001b[0m     \u001b[39m#   torch.embedding_renorm_\u001b[39;00m\n\u001b[0;32m   2197\u001b[0m     \u001b[39m# remove once script supports set_grad_enabled\u001b[39;00m\n\u001b[0;32m   2198\u001b[0m     _no_grad_embedding_renorm_(weight, \u001b[39minput\u001b[39m, max_norm, norm_type)\n\u001b[1;32m-> 2199\u001b[0m \u001b[39mreturn\u001b[39;00m torch\u001b[39m.\u001b[39;49membedding(weight, \u001b[39minput\u001b[39;49m, padding_idx, scale_grad_by_freq, sparse)\n",
            "\u001b[1;31mRuntimeError\u001b[0m: [enforce fail at C:\\b\\abs_bao0hdcrdh\\croot\\pytorch_1675190257512\\work\\c10\\core\\impl\\alloc_cpu.cpp:81] data. DefaultCPUAllocator: not enough memory: you tried to allocate 20512972800 bytes."
          ]
        }
      ],
      "source": [
        "import torch\n",
        "\n",
        "input_ids = torch.tensor(padded)  \n",
        "attention_mask = torch.tensor(attention_mask)\n",
        "\n",
        "with torch.no_grad():\n",
        "    last_hidden_states = model(input_ids, attention_mask=attention_mask)"
      ]
    },
    {
      "cell_type": "code",
      "execution_count": null,
      "metadata": {},
      "outputs": [],
      "source": [
        "features = last_hidden_states[0][:,0,:].numpy()\n",
        "labels = samp.sentiment\n",
        "\n",
        "features.shape, labels.shape"
      ]
    },
    {
      "cell_type": "code",
      "execution_count": null,
      "metadata": {},
      "outputs": [],
      "source": [
        "X_train, X_test, y_train, y_test = train_test_split(features, labels)"
      ]
    },
    {
      "cell_type": "code",
      "execution_count": null,
      "metadata": {},
      "outputs": [],
      "source": []
    }
  ],
  "metadata": {
    "colab": {
      "provenance": []
    },
    "kernelspec": {
      "display_name": "Python 3",
      "language": "python",
      "name": "python3"
    },
    "language_info": {
      "codemirror_mode": {
        "name": "ipython",
        "version": 3
      },
      "file_extension": ".py",
      "mimetype": "text/x-python",
      "name": "python",
      "nbconvert_exporter": "python",
      "pygments_lexer": "ipython3",
      "version": "3.9.12"
    },
    "toc": {
      "base_numbering": 1,
      "nav_menu": {},
      "number_sections": true,
      "sideBar": true,
      "skip_h1_title": false,
      "title_cell": "Table of Contents",
      "title_sidebar": "Contents",
      "toc_cell": false,
      "toc_position": {},
      "toc_section_display": true,
      "toc_window_display": false
    },
    "vscode": {
      "interpreter": {
        "hash": "a2ab3825ac7005fb7b26f112e9c99ae62f464c629e30b0d534c3b931b6cbc3ff"
      }
    },
    "widgets": {
      "application/vnd.jupyter.widget-state+json": {
        "3a0a1cc034ea487384eb7300e462fa43": {
          "model_module": "@jupyter-widgets/controls",
          "model_module_version": "1.5.0",
          "model_name": "ProgressStyleModel",
          "state": {
            "_model_module": "@jupyter-widgets/controls",
            "_model_module_version": "1.5.0",
            "_model_name": "ProgressStyleModel",
            "_view_count": null,
            "_view_module": "@jupyter-widgets/base",
            "_view_module_version": "1.2.0",
            "_view_name": "StyleView",
            "bar_color": null,
            "description_width": "initial"
          }
        },
        "6b3d0dc7b4bc434c897ab1d3695eea91": {
          "model_module": "@jupyter-widgets/controls",
          "model_module_version": "1.5.0",
          "model_name": "DescriptionStyleModel",
          "state": {
            "_model_module": "@jupyter-widgets/controls",
            "_model_module_version": "1.5.0",
            "_model_name": "DescriptionStyleModel",
            "_view_count": null,
            "_view_module": "@jupyter-widgets/base",
            "_view_module_version": "1.2.0",
            "_view_name": "StyleView",
            "description_width": ""
          }
        },
        "869248177b9f44c59340d245fb4e4e4c": {
          "model_module": "@jupyter-widgets/base",
          "model_module_version": "1.2.0",
          "model_name": "LayoutModel",
          "state": {
            "_model_module": "@jupyter-widgets/base",
            "_model_module_version": "1.2.0",
            "_model_name": "LayoutModel",
            "_view_count": null,
            "_view_module": "@jupyter-widgets/base",
            "_view_module_version": "1.2.0",
            "_view_name": "LayoutView",
            "align_content": null,
            "align_items": null,
            "align_self": null,
            "border": null,
            "bottom": null,
            "display": null,
            "flex": null,
            "flex_flow": null,
            "grid_area": null,
            "grid_auto_columns": null,
            "grid_auto_flow": null,
            "grid_auto_rows": null,
            "grid_column": null,
            "grid_gap": null,
            "grid_row": null,
            "grid_template_areas": null,
            "grid_template_columns": null,
            "grid_template_rows": null,
            "height": null,
            "justify_content": null,
            "justify_items": null,
            "left": null,
            "margin": null,
            "max_height": null,
            "max_width": null,
            "min_height": null,
            "min_width": null,
            "object_fit": null,
            "object_position": null,
            "order": null,
            "overflow": null,
            "overflow_x": null,
            "overflow_y": null,
            "padding": null,
            "right": null,
            "top": null,
            "visibility": null,
            "width": null
          }
        },
        "8b95712bb14045d58a2b0cb6b30b1d35": {
          "model_module": "@jupyter-widgets/controls",
          "model_module_version": "1.5.0",
          "model_name": "HTMLModel",
          "state": {
            "_dom_classes": [],
            "_model_module": "@jupyter-widgets/controls",
            "_model_module_version": "1.5.0",
            "_model_name": "HTMLModel",
            "_view_count": null,
            "_view_module": "@jupyter-widgets/controls",
            "_view_module_version": "1.5.0",
            "_view_name": "HTMLView",
            "description": "",
            "description_tooltip": null,
            "layout": "IPY_MODEL_bdf2b3d116f543f99c8317ab2cc1f76a",
            "placeholder": "​",
            "style": "IPY_MODEL_6b3d0dc7b4bc434c897ab1d3695eea91",
            "value": " 0/? [00:00&lt;?, ?it/s]"
          }
        },
        "bdf2b3d116f543f99c8317ab2cc1f76a": {
          "model_module": "@jupyter-widgets/base",
          "model_module_version": "1.2.0",
          "model_name": "LayoutModel",
          "state": {
            "_model_module": "@jupyter-widgets/base",
            "_model_module_version": "1.2.0",
            "_model_name": "LayoutModel",
            "_view_count": null,
            "_view_module": "@jupyter-widgets/base",
            "_view_module_version": "1.2.0",
            "_view_name": "LayoutView",
            "align_content": null,
            "align_items": null,
            "align_self": null,
            "border": null,
            "bottom": null,
            "display": null,
            "flex": null,
            "flex_flow": null,
            "grid_area": null,
            "grid_auto_columns": null,
            "grid_auto_flow": null,
            "grid_auto_rows": null,
            "grid_column": null,
            "grid_gap": null,
            "grid_row": null,
            "grid_template_areas": null,
            "grid_template_columns": null,
            "grid_template_rows": null,
            "height": null,
            "justify_content": null,
            "justify_items": null,
            "left": null,
            "margin": null,
            "max_height": null,
            "max_width": null,
            "min_height": null,
            "min_width": null,
            "object_fit": null,
            "object_position": null,
            "order": null,
            "overflow": null,
            "overflow_x": null,
            "overflow_y": null,
            "padding": null,
            "right": null,
            "top": null,
            "visibility": null,
            "width": null
          }
        },
        "cf1bbc161d9a4ed6a3bda53fe0501f25": {
          "model_module": "@jupyter-widgets/controls",
          "model_module_version": "1.5.0",
          "model_name": "FloatProgressModel",
          "state": {
            "_dom_classes": [],
            "_model_module": "@jupyter-widgets/controls",
            "_model_module_version": "1.5.0",
            "_model_name": "FloatProgressModel",
            "_view_count": null,
            "_view_module": "@jupyter-widgets/controls",
            "_view_module_version": "1.5.0",
            "_view_name": "ProgressView",
            "bar_style": "success",
            "description": "",
            "description_tooltip": null,
            "layout": "IPY_MODEL_d2a314a12574487b936bd2dcd44ed4e4",
            "max": 1,
            "min": 0,
            "orientation": "horizontal",
            "style": "IPY_MODEL_3a0a1cc034ea487384eb7300e462fa43",
            "value": 0
          }
        },
        "d2a314a12574487b936bd2dcd44ed4e4": {
          "model_module": "@jupyter-widgets/base",
          "model_module_version": "1.2.0",
          "model_name": "LayoutModel",
          "state": {
            "_model_module": "@jupyter-widgets/base",
            "_model_module_version": "1.2.0",
            "_model_name": "LayoutModel",
            "_view_count": null,
            "_view_module": "@jupyter-widgets/base",
            "_view_module_version": "1.2.0",
            "_view_name": "LayoutView",
            "align_content": null,
            "align_items": null,
            "align_self": null,
            "border": null,
            "bottom": null,
            "display": null,
            "flex": null,
            "flex_flow": null,
            "grid_area": null,
            "grid_auto_columns": null,
            "grid_auto_flow": null,
            "grid_auto_rows": null,
            "grid_column": null,
            "grid_gap": null,
            "grid_row": null,
            "grid_template_areas": null,
            "grid_template_columns": null,
            "grid_template_rows": null,
            "height": null,
            "justify_content": null,
            "justify_items": null,
            "left": null,
            "margin": null,
            "max_height": null,
            "max_width": null,
            "min_height": null,
            "min_width": null,
            "object_fit": null,
            "object_position": null,
            "order": null,
            "overflow": null,
            "overflow_x": null,
            "overflow_y": null,
            "padding": null,
            "right": null,
            "top": null,
            "visibility": null,
            "width": null
          }
        },
        "e9f384331a29450a9658f07ed8684609": {
          "model_module": "@jupyter-widgets/controls",
          "model_module_version": "1.5.0",
          "model_name": "HBoxModel",
          "state": {
            "_dom_classes": [],
            "_model_module": "@jupyter-widgets/controls",
            "_model_module_version": "1.5.0",
            "_model_name": "HBoxModel",
            "_view_count": null,
            "_view_module": "@jupyter-widgets/controls",
            "_view_module_version": "1.5.0",
            "_view_name": "HBoxView",
            "box_style": "",
            "children": [
              "IPY_MODEL_cf1bbc161d9a4ed6a3bda53fe0501f25",
              "IPY_MODEL_8b95712bb14045d58a2b0cb6b30b1d35"
            ],
            "layout": "IPY_MODEL_869248177b9f44c59340d245fb4e4e4c"
          }
        }
      }
    }
  },
  "nbformat": 4,
  "nbformat_minor": 0
}
